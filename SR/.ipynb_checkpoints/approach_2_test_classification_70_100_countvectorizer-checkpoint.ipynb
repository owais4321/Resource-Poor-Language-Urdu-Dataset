{
 "cells": [
  {
   "cell_type": "markdown",
   "metadata": {
    "id": "SY5pZ5rLXlyS"
   },
   "source": [
    "**Importing pandas here**"
   ]
  },
  {
   "cell_type": "code",
   "execution_count": 1,
   "metadata": {
    "executionInfo": {
     "elapsed": 3,
     "status": "ok",
     "timestamp": 1645109866363,
     "user": {
      "displayName": "Rafia Jabbar",
      "photoUrl": "https://lh3.googleusercontent.com/a-/AOh14Gg_1DjP6TxgmdZBWrVUfpmjnjwXkAIoeIdQlLOP=s64",
      "userId": "15947133849312122933"
     },
     "user_tz": -300
    },
    "id": "KKrMV7EtNjXc"
   },
   "outputs": [],
   "source": [
    "import pandas as pd"
   ]
  },
  {
   "cell_type": "markdown",
   "metadata": {
    "id": "cLzXltu1XuA7"
   },
   "source": [
    "**Importing dataset and Having a look at dataset**"
   ]
  },
  {
   "cell_type": "code",
   "execution_count": 2,
   "metadata": {
    "colab": {
     "base_uri": "https://localhost:8080/",
     "height": 206
    },
    "executionInfo": {
     "elapsed": 1298,
     "status": "ok",
     "timestamp": 1645109887568,
     "user": {
      "displayName": "Rafia Jabbar",
      "photoUrl": "https://lh3.googleusercontent.com/a-/AOh14Gg_1DjP6TxgmdZBWrVUfpmjnjwXkAIoeIdQlLOP=s64",
      "userId": "15947133849312122933"
     },
     "user_tz": -300
    },
    "id": "BNRbAmEQNuh9",
    "outputId": "31959aa0-fa0b-4e71-cc42-4cc5ffc33de1"
   },
   "outputs": [
    {
     "data": {
      "text/html": [
       "<div>\n",
       "<style scoped>\n",
       "    .dataframe tbody tr th:only-of-type {\n",
       "        vertical-align: middle;\n",
       "    }\n",
       "\n",
       "    .dataframe tbody tr th {\n",
       "        vertical-align: top;\n",
       "    }\n",
       "\n",
       "    .dataframe thead th {\n",
       "        text-align: right;\n",
       "    }\n",
       "</style>\n",
       "<table border=\"1\" class=\"dataframe\">\n",
       "  <thead>\n",
       "    <tr style=\"text-align: right;\">\n",
       "      <th></th>\n",
       "      <th>tweet</th>\n",
       "      <th>target</th>\n",
       "    </tr>\n",
       "  </thead>\n",
       "  <tbody>\n",
       "    <tr>\n",
       "      <th>0</th>\n",
       "      <td>قوم کے لیے پرانے خاندانی نمک حرام ہیں</td>\n",
       "      <td>1</td>\n",
       "    </tr>\n",
       "    <tr>\n",
       "      <th>1</th>\n",
       "      <td>اور پھر بھی ان خنزیروں کو بغض نواز میں سپورٹ ک...</td>\n",
       "      <td>0</td>\n",
       "    </tr>\n",
       "    <tr>\n",
       "      <th>2</th>\n",
       "      <td>پاکستان کے قبضے میں اسرائیلی پائلٹ ہے۔</td>\n",
       "      <td>0</td>\n",
       "    </tr>\n",
       "    <tr>\n",
       "      <th>3</th>\n",
       "      <td>اور نواز شریف کا نواسہ مستقبل کا وزیر اعظم</td>\n",
       "      <td>0</td>\n",
       "    </tr>\n",
       "    <tr>\n",
       "      <th>4</th>\n",
       "      <td>صرف ٹویٹر پہ بکواس کرنا ہی آسان ہے</td>\n",
       "      <td>0</td>\n",
       "    </tr>\n",
       "  </tbody>\n",
       "</table>\n",
       "</div>"
      ],
      "text/plain": [
       "                                               tweet  target\n",
       "0             قوم کے لیے پرانے خاندانی نمک حرام ہیں        1\n",
       "1  اور پھر بھی ان خنزیروں کو بغض نواز میں سپورٹ ک...       0\n",
       "2             پاکستان کے قبضے میں اسرائیلی پائلٹ ہے۔       0\n",
       "3        اور نواز شریف کا نواسہ مستقبل کا وزیر اعظم        0\n",
       "4                صرف ٹویٹر پہ بکواس کرنا ہی آسان ہے        0"
      ]
     },
     "execution_count": 2,
     "metadata": {},
     "output_type": "execute_result"
    }
   ],
   "source": [
    "train=pd.read_csv(\"Dataset 2.csv\")\n",
    "test=pd.read_csv(\"Dataset 1.csv\")\n",
    "stopw=pd.read_csv(\"Stopword.csv\")\n",
    "test=test[['tweet','target']]\n",
    "test.head()"
   ]
  },
  {
   "cell_type": "markdown",
   "metadata": {
    "id": "RYHGQGOlX4vD"
   },
   "source": [
    "### Dataset Cleaning process\n",
    "1. Remove Missing values"
   ]
  },
  {
   "cell_type": "code",
   "execution_count": 3,
   "metadata": {
    "colab": {
     "base_uri": "https://localhost:8080/"
    },
    "executionInfo": {
     "elapsed": 7,
     "status": "ok",
     "timestamp": 1645109887569,
     "user": {
      "displayName": "Rafia Jabbar",
      "photoUrl": "https://lh3.googleusercontent.com/a-/AOh14Gg_1DjP6TxgmdZBWrVUfpmjnjwXkAIoeIdQlLOP=s64",
      "userId": "15947133849312122933"
     },
     "user_tz": -300
    },
    "id": "MdiOuDZ2N_SN",
    "outputId": "c438d009-a73d-4883-f512-33fa760eb94b"
   },
   "outputs": [
    {
     "name": "stdout",
     "output_type": "stream",
     "text": [
      "1    1108\n",
      "0    1062\n",
      "Name: target, dtype: int64\n",
      "0    1213\n",
      "1    1187\n",
      "Name: target, dtype: int64\n"
     ]
    }
   ],
   "source": [
    "nan_value = float(\"NaN\")\n",
    "train.replace(\"\", nan_value, inplace=True)\n",
    "train.dropna(subset = [\"tweet\"], inplace=True)\n",
    "train.tail()\n",
    "print(train['target'].value_counts())\n",
    "nan_value = float(\"NaN\")\n",
    "test.replace(\"\", nan_value, inplace=True)\n",
    "test.dropna(subset = [\"tweet\"], inplace=True)\n",
    "test.tail()\n",
    "print(test['target'].value_counts())"
   ]
  },
  {
   "cell_type": "markdown",
   "metadata": {
    "id": "RIHQXJa9YHht"
   },
   "source": [
    "### Dataset Cleaning process\n",
    "2. Acquring Stopwords"
   ]
  },
  {
   "cell_type": "code",
   "execution_count": 4,
   "metadata": {
    "executionInfo": {
     "elapsed": 4,
     "status": "ok",
     "timestamp": 1645109887569,
     "user": {
      "displayName": "Rafia Jabbar",
      "photoUrl": "https://lh3.googleusercontent.com/a-/AOh14Gg_1DjP6TxgmdZBWrVUfpmjnjwXkAIoeIdQlLOP=s64",
      "userId": "15947133849312122933"
     },
     "user_tz": -300
    },
    "id": "E-PhNvnbN_9X"
   },
   "outputs": [],
   "source": [
    "stopwords=[]\n",
    "for i in (stopw['Stopwords']):\n",
    "    stopwords.append(i)"
   ]
  },
  {
   "cell_type": "markdown",
   "metadata": {
    "id": "icHw-ILnYQfr"
   },
   "source": [
    "### Dataset Cleaning process\n",
    "1. Remove Missing values\n",
    "2. Tokenization\n",
    "3. Cleaning Extra Characters\n",
    "4. Removal of Stopwords"
   ]
  },
  {
   "cell_type": "code",
   "execution_count": 6,
   "metadata": {
    "colab": {
     "base_uri": "https://localhost:8080/"
    },
    "executionInfo": {
     "elapsed": 62961,
     "status": "ok",
     "timestamp": 1645109950527,
     "user": {
      "displayName": "Rafia Jabbar",
      "photoUrl": "https://lh3.googleusercontent.com/a-/AOh14Gg_1DjP6TxgmdZBWrVUfpmjnjwXkAIoeIdQlLOP=s64",
      "userId": "15947133849312122933"
     },
     "user_tz": -300
    },
    "id": "ojJRsjZ-HBIL",
    "outputId": "45f7d3da-3131-402b-f02a-d0555eece13a"
   },
   "outputs": [
    {
     "name": "stdout",
     "output_type": "stream",
     "text": [
      "Collecting urduhack[tf-gpu]\n",
      "  Downloading urduhack-1.1.1-py3-none-any.whl (105 kB)\n",
      "\u001b[K     |████████████████████████████████| 105 kB 10.2 MB/s \n",
      "\u001b[?25hRequirement already satisfied: regex in /usr/local/lib/python3.7/dist-packages (from urduhack[tf-gpu]) (2019.12.20)\n",
      "Collecting tensorflow-datasets~=3.1\n",
      "  Downloading tensorflow_datasets-3.2.1-py3-none-any.whl (3.4 MB)\n",
      "\u001b[K     |████████████████████████████████| 3.4 MB 36.0 MB/s \n",
      "\u001b[?25hCollecting tf2crf\n",
      "  Downloading tf2crf-0.1.33-py2.py3-none-any.whl (7.3 kB)\n",
      "Requirement already satisfied: Click~=7.1 in /usr/local/lib/python3.7/dist-packages (from urduhack[tf-gpu]) (7.1.2)\n",
      "Collecting tensorflow-gpu~=2.2\n",
      "  Downloading tensorflow_gpu-2.8.0-cp37-cp37m-manylinux2010_x86_64.whl (497.5 MB)\n",
      "\u001b[K     |████████████████████████████████| 497.5 MB 24 kB/s \n",
      "\u001b[?25hRequirement already satisfied: tensorflow-metadata in /usr/local/lib/python3.7/dist-packages (from tensorflow-datasets~=3.1->urduhack[tf-gpu]) (1.6.0)\n",
      "Requirement already satisfied: promise in /usr/local/lib/python3.7/dist-packages (from tensorflow-datasets~=3.1->urduhack[tf-gpu]) (2.3)\n",
      "Requirement already satisfied: protobuf>=3.6.1 in /usr/local/lib/python3.7/dist-packages (from tensorflow-datasets~=3.1->urduhack[tf-gpu]) (3.17.3)\n",
      "Requirement already satisfied: numpy in /usr/local/lib/python3.7/dist-packages (from tensorflow-datasets~=3.1->urduhack[tf-gpu]) (1.21.5)\n",
      "Requirement already satisfied: future in /usr/local/lib/python3.7/dist-packages (from tensorflow-datasets~=3.1->urduhack[tf-gpu]) (0.16.0)\n",
      "Requirement already satisfied: tqdm in /usr/local/lib/python3.7/dist-packages (from tensorflow-datasets~=3.1->urduhack[tf-gpu]) (4.62.3)\n",
      "Requirement already satisfied: requests>=2.19.0 in /usr/local/lib/python3.7/dist-packages (from tensorflow-datasets~=3.1->urduhack[tf-gpu]) (2.23.0)\n",
      "Requirement already satisfied: six in /usr/local/lib/python3.7/dist-packages (from tensorflow-datasets~=3.1->urduhack[tf-gpu]) (1.15.0)\n",
      "Requirement already satisfied: termcolor in /usr/local/lib/python3.7/dist-packages (from tensorflow-datasets~=3.1->urduhack[tf-gpu]) (1.1.0)\n",
      "Requirement already satisfied: wrapt in /usr/local/lib/python3.7/dist-packages (from tensorflow-datasets~=3.1->urduhack[tf-gpu]) (1.13.3)\n",
      "Requirement already satisfied: dill in /usr/local/lib/python3.7/dist-packages (from tensorflow-datasets~=3.1->urduhack[tf-gpu]) (0.3.4)\n",
      "Requirement already satisfied: attrs>=18.1.0 in /usr/local/lib/python3.7/dist-packages (from tensorflow-datasets~=3.1->urduhack[tf-gpu]) (21.4.0)\n",
      "Requirement already satisfied: absl-py in /usr/local/lib/python3.7/dist-packages (from tensorflow-datasets~=3.1->urduhack[tf-gpu]) (1.0.0)\n",
      "Requirement already satisfied: chardet<4,>=3.0.2 in /usr/local/lib/python3.7/dist-packages (from requests>=2.19.0->tensorflow-datasets~=3.1->urduhack[tf-gpu]) (3.0.4)\n",
      "Requirement already satisfied: urllib3!=1.25.0,!=1.25.1,<1.26,>=1.21.1 in /usr/local/lib/python3.7/dist-packages (from requests>=2.19.0->tensorflow-datasets~=3.1->urduhack[tf-gpu]) (1.24.3)\n",
      "Requirement already satisfied: idna<3,>=2.5 in /usr/local/lib/python3.7/dist-packages (from requests>=2.19.0->tensorflow-datasets~=3.1->urduhack[tf-gpu]) (2.10)\n",
      "Requirement already satisfied: certifi>=2017.4.17 in /usr/local/lib/python3.7/dist-packages (from requests>=2.19.0->tensorflow-datasets~=3.1->urduhack[tf-gpu]) (2021.10.8)\n",
      "Requirement already satisfied: gast>=0.2.1 in /usr/local/lib/python3.7/dist-packages (from tensorflow-gpu~=2.2->urduhack[tf-gpu]) (0.5.3)\n",
      "Requirement already satisfied: opt-einsum>=2.3.2 in /usr/local/lib/python3.7/dist-packages (from tensorflow-gpu~=2.2->urduhack[tf-gpu]) (3.3.0)\n",
      "Collecting tf-estimator-nightly==2.8.0.dev2021122109\n",
      "  Downloading tf_estimator_nightly-2.8.0.dev2021122109-py2.py3-none-any.whl (462 kB)\n",
      "\u001b[K     |████████████████████████████████| 462 kB 60.4 MB/s \n",
      "\u001b[?25hRequirement already satisfied: setuptools in /usr/local/lib/python3.7/dist-packages (from tensorflow-gpu~=2.2->urduhack[tf-gpu]) (57.4.0)\n",
      "Requirement already satisfied: libclang>=9.0.1 in /usr/local/lib/python3.7/dist-packages (from tensorflow-gpu~=2.2->urduhack[tf-gpu]) (13.0.0)\n",
      "Requirement already satisfied: grpcio<2.0,>=1.24.3 in /usr/local/lib/python3.7/dist-packages (from tensorflow-gpu~=2.2->urduhack[tf-gpu]) (1.43.0)\n",
      "Requirement already satisfied: typing-extensions>=3.6.6 in /usr/local/lib/python3.7/dist-packages (from tensorflow-gpu~=2.2->urduhack[tf-gpu]) (3.10.0.2)\n",
      "Requirement already satisfied: flatbuffers>=1.12 in /usr/local/lib/python3.7/dist-packages (from tensorflow-gpu~=2.2->urduhack[tf-gpu]) (2.0)\n",
      "Requirement already satisfied: h5py>=2.9.0 in /usr/local/lib/python3.7/dist-packages (from tensorflow-gpu~=2.2->urduhack[tf-gpu]) (3.1.0)\n",
      "Requirement already satisfied: keras<2.9,>=2.8.0rc0 in /usr/local/lib/python3.7/dist-packages (from tensorflow-gpu~=2.2->urduhack[tf-gpu]) (2.8.0)\n",
      "Requirement already satisfied: keras-preprocessing>=1.1.1 in /usr/local/lib/python3.7/dist-packages (from tensorflow-gpu~=2.2->urduhack[tf-gpu]) (1.1.2)\n",
      "Requirement already satisfied: tensorboard<2.9,>=2.8 in /usr/local/lib/python3.7/dist-packages (from tensorflow-gpu~=2.2->urduhack[tf-gpu]) (2.8.0)\n",
      "Requirement already satisfied: astunparse>=1.6.0 in /usr/local/lib/python3.7/dist-packages (from tensorflow-gpu~=2.2->urduhack[tf-gpu]) (1.6.3)\n",
      "Requirement already satisfied: tensorflow-io-gcs-filesystem>=0.23.1 in /usr/local/lib/python3.7/dist-packages (from tensorflow-gpu~=2.2->urduhack[tf-gpu]) (0.24.0)\n",
      "Requirement already satisfied: google-pasta>=0.1.1 in /usr/local/lib/python3.7/dist-packages (from tensorflow-gpu~=2.2->urduhack[tf-gpu]) (0.2.0)\n",
      "Requirement already satisfied: wheel<1.0,>=0.23.0 in /usr/local/lib/python3.7/dist-packages (from astunparse>=1.6.0->tensorflow-gpu~=2.2->urduhack[tf-gpu]) (0.37.1)\n",
      "Requirement already satisfied: cached-property in /usr/local/lib/python3.7/dist-packages (from h5py>=2.9.0->tensorflow-gpu~=2.2->urduhack[tf-gpu]) (1.5.2)\n",
      "Requirement already satisfied: google-auth<3,>=1.6.3 in /usr/local/lib/python3.7/dist-packages (from tensorboard<2.9,>=2.8->tensorflow-gpu~=2.2->urduhack[tf-gpu]) (1.35.0)\n",
      "Requirement already satisfied: tensorboard-data-server<0.7.0,>=0.6.0 in /usr/local/lib/python3.7/dist-packages (from tensorboard<2.9,>=2.8->tensorflow-gpu~=2.2->urduhack[tf-gpu]) (0.6.1)\n",
      "Requirement already satisfied: markdown>=2.6.8 in /usr/local/lib/python3.7/dist-packages (from tensorboard<2.9,>=2.8->tensorflow-gpu~=2.2->urduhack[tf-gpu]) (3.3.6)\n",
      "Requirement already satisfied: google-auth-oauthlib<0.5,>=0.4.1 in /usr/local/lib/python3.7/dist-packages (from tensorboard<2.9,>=2.8->tensorflow-gpu~=2.2->urduhack[tf-gpu]) (0.4.6)\n",
      "Requirement already satisfied: tensorboard-plugin-wit>=1.6.0 in /usr/local/lib/python3.7/dist-packages (from tensorboard<2.9,>=2.8->tensorflow-gpu~=2.2->urduhack[tf-gpu]) (1.8.1)\n",
      "Requirement already satisfied: werkzeug>=0.11.15 in /usr/local/lib/python3.7/dist-packages (from tensorboard<2.9,>=2.8->tensorflow-gpu~=2.2->urduhack[tf-gpu]) (1.0.1)\n",
      "Requirement already satisfied: rsa<5,>=3.1.4 in /usr/local/lib/python3.7/dist-packages (from google-auth<3,>=1.6.3->tensorboard<2.9,>=2.8->tensorflow-gpu~=2.2->urduhack[tf-gpu]) (4.8)\n",
      "Requirement already satisfied: cachetools<5.0,>=2.0.0 in /usr/local/lib/python3.7/dist-packages (from google-auth<3,>=1.6.3->tensorboard<2.9,>=2.8->tensorflow-gpu~=2.2->urduhack[tf-gpu]) (4.2.4)\n",
      "Requirement already satisfied: pyasn1-modules>=0.2.1 in /usr/local/lib/python3.7/dist-packages (from google-auth<3,>=1.6.3->tensorboard<2.9,>=2.8->tensorflow-gpu~=2.2->urduhack[tf-gpu]) (0.2.8)\n",
      "Requirement already satisfied: requests-oauthlib>=0.7.0 in /usr/local/lib/python3.7/dist-packages (from google-auth-oauthlib<0.5,>=0.4.1->tensorboard<2.9,>=2.8->tensorflow-gpu~=2.2->urduhack[tf-gpu]) (1.3.1)\n",
      "Requirement already satisfied: importlib-metadata>=4.4 in /usr/local/lib/python3.7/dist-packages (from markdown>=2.6.8->tensorboard<2.9,>=2.8->tensorflow-gpu~=2.2->urduhack[tf-gpu]) (4.11.0)\n",
      "Requirement already satisfied: zipp>=0.5 in /usr/local/lib/python3.7/dist-packages (from importlib-metadata>=4.4->markdown>=2.6.8->tensorboard<2.9,>=2.8->tensorflow-gpu~=2.2->urduhack[tf-gpu]) (3.7.0)\n",
      "Requirement already satisfied: pyasn1<0.5.0,>=0.4.6 in /usr/local/lib/python3.7/dist-packages (from pyasn1-modules>=0.2.1->google-auth<3,>=1.6.3->tensorboard<2.9,>=2.8->tensorflow-gpu~=2.2->urduhack[tf-gpu]) (0.4.8)\n",
      "Requirement already satisfied: oauthlib>=3.0.0 in /usr/local/lib/python3.7/dist-packages (from requests-oauthlib>=0.7.0->google-auth-oauthlib<0.5,>=0.4.1->tensorboard<2.9,>=2.8->tensorflow-gpu~=2.2->urduhack[tf-gpu]) (3.2.0)\n",
      "Requirement already satisfied: googleapis-common-protos<2,>=1.52.0 in /usr/local/lib/python3.7/dist-packages (from tensorflow-metadata->tensorflow-datasets~=3.1->urduhack[tf-gpu]) (1.54.0)\n",
      "Collecting tensorflow-addons>=0.8.2\n",
      "  Downloading tensorflow_addons-0.16.1-cp37-cp37m-manylinux_2_12_x86_64.manylinux2010_x86_64.whl (1.1 MB)\n",
      "\u001b[K     |████████████████████████████████| 1.1 MB 45.4 MB/s \n",
      "\u001b[?25hRequirement already satisfied: tensorflow>=2.1.0 in /usr/local/lib/python3.7/dist-packages (from tf2crf->urduhack[tf-gpu]) (2.8.0)\n",
      "Requirement already satisfied: typeguard>=2.7 in /usr/local/lib/python3.7/dist-packages (from tensorflow-addons>=0.8.2->tf2crf->urduhack[tf-gpu]) (2.7.1)\n",
      "Installing collected packages: tf-estimator-nightly, tensorflow-addons, tf2crf, tensorflow-datasets, urduhack, tensorflow-gpu\n",
      "  Attempting uninstall: tensorflow-datasets\n",
      "    Found existing installation: tensorflow-datasets 4.0.1\n",
      "    Uninstalling tensorflow-datasets-4.0.1:\n",
      "      Successfully uninstalled tensorflow-datasets-4.0.1\n",
      "Successfully installed tensorflow-addons-0.16.1 tensorflow-datasets-3.2.1 tensorflow-gpu-2.8.0 tf-estimator-nightly-2.8.0.dev2021122109 tf2crf-0.1.33 urduhack-1.1.1\n"
     ]
    }
   ],
   "source": [
    "!pip install urduhack[tf-gpu]"
   ]
  },
  {
   "cell_type": "code",
   "execution_count": 7,
   "metadata": {
    "executionInfo": {
     "elapsed": 3587,
     "status": "ok",
     "timestamp": 1645109954109,
     "user": {
      "displayName": "Rafia Jabbar",
      "photoUrl": "https://lh3.googleusercontent.com/a-/AOh14Gg_1DjP6TxgmdZBWrVUfpmjnjwXkAIoeIdQlLOP=s64",
      "userId": "15947133849312122933"
     },
     "user_tz": -300
    },
    "id": "T0dcrZRyOOlx"
   },
   "outputs": [],
   "source": [
    "from urduhack.preprocessing import remove_punctuation\n",
    "tain_corpus=[]\n",
    "for i in (train['tweet']):\n",
    "#         i=remove_punctuation(i)\n",
    "        review=i.split()\n",
    "        review=[word for word in review if word not in stopwords]\n",
    "        review=' '.join(review)\n",
    "        tain_corpus.append(review)\n",
    "test_corpus=[]\n",
    "for i in (test['tweet']):\n",
    "#         i=remove_punctuation(i)\n",
    "        review=i.split()\n",
    "        review=[word for word in review if word not in stopwords]\n",
    "        review=' '.join(review)\n",
    "        test_corpus.append(review)"
   ]
  },
  {
   "cell_type": "markdown",
   "metadata": {
    "id": "e66VhtyrYbeB"
   },
   "source": [
    "### Feature Extraction\n",
    "1. **TFIDF** Term Frequency Inverse Document Frequencey\n",
    "2. Looking at vocubalary"
   ]
  },
  {
   "cell_type": "code",
   "execution_count": 8,
   "metadata": {
    "colab": {
     "base_uri": "https://localhost:8080/"
    },
    "executionInfo": {
     "elapsed": 4,
     "status": "ok",
     "timestamp": 1645109954110,
     "user": {
      "displayName": "Rafia Jabbar",
      "photoUrl": "https://lh3.googleusercontent.com/a-/AOh14Gg_1DjP6TxgmdZBWrVUfpmjnjwXkAIoeIdQlLOP=s64",
      "userId": "15947133849312122933"
     },
     "user_tz": -300
    },
    "id": "naeZEYaROW73",
    "outputId": "90a54a78-f096-4d8d-a528-fe67fca0e3f4"
   },
   "outputs": [
    {
     "data": {
      "text/plain": [
       "{'کہ': 2416,\n",
       " 'کے': 2454,\n",
       " 'لے': 1445,\n",
       " 'لی': 1426,\n",
       " 'شام': 1159,\n",
       " 'دلے': 799,\n",
       " 'کی': 2429,\n",
       " 'اب': 83,\n",
       " 'اگر': 255,\n",
       " 'اس': 118,\n",
       " 'نے': 1714,\n",
       " 'کچھ': 2376,\n",
       " 'جواب': 674,\n",
       " 'دیا': 837,\n",
       " 'تو': 570,\n",
       " 'گانڈ': 2475,\n",
       " 'مار': 1452,\n",
       " 'دیں': 872,\n",
       " 'گے': 2561,\n",
       " 'ان': 162,\n",
       " 'چوتیوں': 2081,\n",
       " 'وہ': 1761,\n",
       " 'جو': 672,\n",
       " 'کنسرٹ': 2341,\n",
       " 'ہو': 2616,\n",
       " 'رہا': 950,\n",
       " 'تھا': 588,\n",
       " 'بھی': 482,\n",
       " 'کینسل': 2446,\n",
       " 'کر': 2253,\n",
       " 'میں': 1640,\n",
       " 'ہاتھ': 2573,\n",
       " 'ڈال': 2169,\n",
       " 'انتڑیاں': 167,\n",
       " 'نکالے': 1693,\n",
       " 'گا': 2462,\n",
       " 'کیا': 2431,\n",
       " 'تک': 585,\n",
       " 'سکی': 1121,\n",
       " 'سب': 1017,\n",
       " 'سے': 1149,\n",
       " 'اچھی': 236,\n",
       " 'ویڈیو': 1778,\n",
       " 'ہے': 2650,\n",
       " 'کا': 2215,\n",
       " 'برا': 337,\n",
       " 'مزاق': 1524,\n",
       " 'اتنی': 96,\n",
       " 'دی': 836,\n",
       " 'تیری': 608,\n",
       " 'بھائی': 449,\n",
       " 'شادی': 1158,\n",
       " 'والے': 1734,\n",
       " 'جملے': 664,\n",
       " 'قابل': 1317,\n",
       " 'نہیں': 1703,\n",
       " 'لوڑا': 1380,\n",
       " 'آگیا': 76,\n",
       " 'یا': 2663,\n",
       " 'للی': 1357,\n",
       " 'ٹوپا': 1805,\n",
       " 'اپنی': 227,\n",
       " 'زور': 985,\n",
       " 'لگائے': 1412,\n",
       " 'کو': 2348,\n",
       " 'بند': 389,\n",
       " 'کروانےمیں': 2288,\n",
       " 'چوتیا': 2071,\n",
       " 'دکی': 826,\n",
       " 'بین': 506,\n",
       " 'دے': 875,\n",
       " 'ابرار': 85,\n",
       " 'یہ': 2685,\n",
       " 'ہندو': 2610,\n",
       " 'کلچر': 2315,\n",
       " 'بکواس': 445,\n",
       " 'بناتے': 379,\n",
       " 'ہیں': 2649,\n",
       " 'لوگ': 1387,\n",
       " 'ابلیس': 86,\n",
       " 'اوئے': 201,\n",
       " 'نازک': 1652,\n",
       " 'صورتحال': 1211,\n",
       " 'فر': 1280,\n",
       " 'ابیلس': 90,\n",
       " 'ایک': 277,\n",
       " 'اچھا': 232,\n",
       " 'نام': 1655,\n",
       " 'نئی': 1642,\n",
       " 'والی': 1733,\n",
       " 'دیکھو': 866,\n",
       " 'ڈنڈا': 2197,\n",
       " 'ہوا': 2620,\n",
       " 'کینیڈا': 2448,\n",
       " 'جا': 619,\n",
       " 'اوقات': 207,\n",
       " 'بھول': 468,\n",
       " 'گیا': 2555,\n",
       " 'سالے': 1011,\n",
       " 'اردو': 115,\n",
       " 'بولنی': 410,\n",
       " 'آتی': 17,\n",
       " 'گانڈو': 2479,\n",
       " 'بہن': 497,\n",
       " 'لوڑے': 1384,\n",
       " 'ہی': 2643,\n",
       " 'ہا': 2568,\n",
       " 'حچاب': 740,\n",
       " 'ابھی': 88,\n",
       " 'آپ': 63,\n",
       " 'چوتیاپا': 2074,\n",
       " 'لیا': 1428,\n",
       " 'بنا': 369,\n",
       " 'کراور': 2255,\n",
       " 'بہت': 493,\n",
       " 'شہرت': 1198,\n",
       " 'ملے': 1575,\n",
       " 'گی': 2553,\n",
       " 'لیکن': 1441,\n",
       " 'ہوگا': 2635,\n",
       " 'تجھے': 539,\n",
       " 'اور': 204,\n",
       " 'نہ': 1700,\n",
       " 'ملا': 1562,\n",
       " 'بھڑوے': 478,\n",
       " 'بچے': 431,\n",
       " 'تیل': 613,\n",
       " 'بوتل': 401,\n",
       " 'ماں': 1478,\n",
       " 'ویسے': 1766,\n",
       " 'معزز': 1556,\n",
       " 'حجاب': 719,\n",
       " 'آگے': 77,\n",
       " 'گالیاں': 2470,\n",
       " 'رنڈی': 915,\n",
       " 'صیح': 1212,\n",
       " 'طرح': 1218,\n",
       " 'بےعزت': 524,\n",
       " 'پیسے': 1997,\n",
       " 'چلے': 2061,\n",
       " 'گئے': 2461,\n",
       " 'ہوں': 2638,\n",
       " 'سبسکرائب': 1020,\n",
       " 'پیج': 1989,\n",
       " 'پردیسی': 1875,\n",
       " 'لڑکی': 1395,\n",
       " 'دیکھی': 869,\n",
       " 'تیرے': 609,\n",
       " 'دنچک': 804,\n",
       " 'پوجا': 1910,\n",
       " 'پر': 1866,\n",
       " 'تھی': 598,\n",
       " 'ابھیشیک': 89,\n",
       " 'وقت': 1753,\n",
       " 'مرا': 1507,\n",
       " 'چینل': 2161,\n",
       " 'دیکھ': 854,\n",
       " 'لینا': 1433,\n",
       " 'ابے': 91,\n",
       " 'او': 200,\n",
       " 'جھوٹے': 695,\n",
       " 'چوت': 2066,\n",
       " 'دفعہ': 792,\n",
       " 'یہاں': 2686,\n",
       " 'آپس': 64,\n",
       " 'بات': 291,\n",
       " 'کیسے': 2438,\n",
       " 'چلا': 2051,\n",
       " 'بار': 298,\n",
       " 'کوئی': 2350,\n",
       " 'کام': 2230,\n",
       " 'اعلی': 141,\n",
       " 'ایسے': 268,\n",
       " 'رہو': 957,\n",
       " 'چود': 2087,\n",
       " 'کروانے': 2287,\n",
       " 'لعنت': 1355,\n",
       " 'تم': 558,\n",
       " 'بھوسڑی': 465,\n",
       " 'پہلے': 1979,\n",
       " 'آئینہ': 8,\n",
       " 'شکل': 1196,\n",
       " 'ٹٹی': 1812,\n",
       " 'جیسی': 707,\n",
       " 'زیادہ': 988,\n",
       " 'شوق': 1185,\n",
       " 'بال': 309,\n",
       " 'ووڈ': 1757,\n",
       " 'انڈیا': 190,\n",
       " 'ردعمل': 907,\n",
       " 'چاہیے': 2033,\n",
       " 'فراگی': 1286,\n",
       " 'تا': 529,\n",
       " 'مشہور': 1548,\n",
       " 'جائے': 624,\n",
       " 'وہی': 1763,\n",
       " 'حرکتیں': 726,\n",
       " 'پھاڑ': 1953,\n",
       " 'دوں': 821,\n",
       " 'کہا': 2417,\n",
       " 'جاہل': 640,\n",
       " 'جانور': 635,\n",
       " 'اپنے': 228,\n",
       " 'لیے': 1443,\n",
       " 'ہر': 2589,\n",
       " 'کسی': 2309,\n",
       " 'چھوڑ': 2139,\n",
       " 'جلتے': 656,\n",
       " 'کیوں': 2449,\n",
       " 'ہاہاہا': 2583,\n",
       " 'ہوئی': 2617,\n",
       " 'کتے': 2250,\n",
       " 'ٹٹے': 1813,\n",
       " 'غرق': 1262,\n",
       " 'چوتیے': 2083,\n",
       " 'طرف': 1220,\n",
       " 'توجہ': 571,\n",
       " 'دو': 806,\n",
       " 'نمبر': 1676,\n",
       " 'طریقے': 1222,\n",
       " 'حاصل': 716,\n",
       " 'کرنے': 2279,\n",
       " 'والا': 1729,\n",
       " 'کتنا': 2244,\n",
       " 'آسان': 42,\n",
       " 'نا': 1644,\n",
       " 'روسٹ': 923,\n",
       " 'کرنا': 2277,\n",
       " 'اپنا': 226,\n",
       " 'صرف': 1209,\n",
       " 'مائیک': 1448,\n",
       " 'آاسان': 14,\n",
       " 'ڈھکن': 2203,\n",
       " 'فالتو': 1277,\n",
       " 'بناتا': 377,\n",
       " 'تجھ': 538,\n",
       " 'چوتیےانہوں': 2084,\n",
       " 'تیرا': 605,\n",
       " 'کہاں': 2419,\n",
       " 'اوپر': 214,\n",
       " 'فٹ': 1305,\n",
       " 'بولنے': 411,\n",
       " 'سوچ': 1082,\n",
       " 'فراڈ': 1283,\n",
       " 'باپ': 313,\n",
       " 'ہوتی': 2622,\n",
       " 'سمجھتا': 1049,\n",
       " 'بندر': 390,\n",
       " 'کم': 2320,\n",
       " 'فائن': 1274,\n",
       " 'کالے': 2229,\n",
       " 'اپ': 225,\n",
       " 'لوڈ': 1377,\n",
       " 'کیں': 2452,\n",
       " 'کمینے': 2335,\n",
       " 'پوری': 1914,\n",
       " 'پڑھ': 1941,\n",
       " 'کس': 2308,\n",
       " 'لکھا': 1402,\n",
       " 'کیری': 2435,\n",
       " 'آج': 19,\n",
       " 'کبھی': 2242,\n",
       " 'سستے': 1037,\n",
       " 'نشے': 1667,\n",
       " 'کیئے': 2430,\n",
       " 'پکانا': 1947,\n",
       " 'بور': 403,\n",
       " 'لگا': 1409,\n",
       " 'پاگل': 1858,\n",
       " 'بھوسڑے': 467,\n",
       " 'جلتی': 655,\n",
       " 'وہاں': 1762,\n",
       " 'بیٹھ': 512,\n",
       " 'پاکستان': 1855,\n",
       " 'بڑا': 434,\n",
       " 'یوٹیوبر': 2681,\n",
       " 'لوڑو': 1381,\n",
       " 'کون': 2362,\n",
       " 'فضول': 1296,\n",
       " 'بھونک': 471,\n",
       " 'لونڈے': 1374,\n",
       " 'دم': 800,\n",
       " 'نہں': 1702,\n",
       " 'مادرچود': 1451,\n",
       " 'لنڈ': 1363,\n",
       " 'لینے': 1435,\n",
       " 'آیا': 79,\n",
       " 'نعمان': 1670,\n",
       " 'کدہر': 2252,\n",
       " 'سپر': 1092,\n",
       " 'سٹار': 1087,\n",
       " 'کاپی': 2239,\n",
       " 'ویڈیوز': 1782,\n",
       " 'جیسے': 708,\n",
       " 'جوتیوں': 679,\n",
       " 'لوگوں': 1389,\n",
       " 'پہ': 1976,\n",
       " 'مت': 1482,\n",
       " 'لگاؤ': 1410,\n",
       " 'بہتر': 494,\n",
       " 'کرو': 2281,\n",
       " 'جاؤ': 620,\n",
       " 'ویو': 1770,\n",
       " 'گانے': 2484,\n",
       " 'زمین': 981,\n",
       " 'آسمان': 44,\n",
       " 'فرق': 1287,\n",
       " 'پسندیدہ': 1892,\n",
       " 'دیکھیں': 870,\n",
       " 'بچالے': 425,\n",
       " 'مادر': 1450,\n",
       " 'پھر': 1961,\n",
       " 'نیہں': 1713,\n",
       " 'ادھر': 113,\n",
       " 'مرضی': 1513,\n",
       " 'سنیں': 1071,\n",
       " 'میوزک': 1635,\n",
       " 'شروع': 1175,\n",
       " 'اتار': 92,\n",
       " 'رکھ': 941,\n",
       " 'اترو': 94,\n",
       " 'سن': 1056,\n",
       " 'گوبھی': 2527,\n",
       " 'آنٹی': 54,\n",
       " 'مر': 1506,\n",
       " 'گئی': 2459,\n",
       " 'اتنا': 95,\n",
       " 'پہلی': 1978,\n",
       " 'ڈالا': 2170,\n",
       " 'پسند': 1891,\n",
       " 'چھوٹا': 2136,\n",
       " 'کونٹینٹ': 2363,\n",
       " 'ہمارا': 2603,\n",
       " 'جدا': 645,\n",
       " 'ہونا': 2631,\n",
       " 'مزہ': 1526,\n",
       " 'گندی': 2524,\n",
       " 'انعم': 181,\n",
       " 'جتنی': 643,\n",
       " 'گھٹیا': 2552,\n",
       " 'زندگی': 983,\n",
       " 'دیکھا': 855,\n",
       " 'محنت': 1500,\n",
       " 'ثابت': 616,\n",
       " 'مزاحیہ': 1523,\n",
       " 'اج': 98,\n",
       " 'گیم': 2558,\n",
       " 'کھیلا': 2408,\n",
       " 'کارٹون': 2220,\n",
       " 'دئیے': 774,\n",
       " 'غصہ': 1264,\n",
       " 'دلا': 794,\n",
       " 'اجے': 103,\n",
       " 'لاکھوں': 1346,\n",
       " 'جائیں': 623,\n",
       " 'لئیے': 1329,\n",
       " 'لائیکس': 1336,\n",
       " 'نےآپ': 1715,\n",
       " 'بنائیں': 375,\n",
       " 'تمہارے': 562,\n",
       " 'کمنٹ': 2327,\n",
       " 'نےمیری': 1719,\n",
       " 'کیے': 2453,\n",
       " 'دوسرا': 815,\n",
       " 'مین': 1633,\n",
       " 'مجھے': 1489,\n",
       " 'دانتوں': 782,\n",
       " 'پیار': 1984,\n",
       " 'اجےمجھے': 104,\n",
       " 'آواز': 60,\n",
       " 'سٹائل': 1086,\n",
       " 'چلتے': 2058,\n",
       " 'واقعی': 1728,\n",
       " 'یار': 2665,\n",
       " 'یاد': 2664,\n",
       " 'دلائی': 795,\n",
       " 'اچھاہے': 234,\n",
       " 'عرفان': 1237,\n",
       " 'جنجوے': 668,\n",
       " 'ایسا': 266,\n",
       " 'سنا': 1057,\n",
       " 'ماری': 1464,\n",
       " 'اسکی': 127,\n",
       " 'گوگل': 2536,\n",
       " 'کمانا': 2324,\n",
       " 'چاہتا': 2028,\n",
       " 'میرے': 1631,\n",
       " 'اختتام': 106,\n",
       " 'ضرور': 1214,\n",
       " 'اخیر': 107,\n",
       " 'حوصلہ': 738,\n",
       " 'چیتا': 2154,\n",
       " 'ماور': 1477,\n",
       " 'کردی': 2265,\n",
       " 'نےجھوٹی': 1717,\n",
       " 'ہوگئی': 2634,\n",
       " 'بجائی': 327,\n",
       " 'ادریس': 111,\n",
       " 'ادھار': 112,\n",
       " 'کارڈ': 2221,\n",
       " 'لنک': 1364,\n",
       " 'ہاہاہاہا': 2585,\n",
       " 'ارفع': 116,\n",
       " 'عظمت': 1242,\n",
       " 'ارے': 117,\n",
       " 'بھیا': 483,\n",
       " 'مل': 1561,\n",
       " 'آئے': 11,\n",
       " 'مطلب': 1550,\n",
       " 'ہم': 2602,\n",
       " 'بڑھو': 439,\n",
       " 'گروپ': 2505,\n",
       " 'ہوتے': 2624,\n",
       " 'آخری': 31,\n",
       " 'لائیک': 1335,\n",
       " 'ہنسی': 2615,\n",
       " 'روک': 936,\n",
       " 'پا': 1843,\n",
       " 'اگلی': 258,\n",
       " 'کب': 2240,\n",
       " 'آرہی': 37,\n",
       " 'بھیج': 484,\n",
       " 'کالی': 2228,\n",
       " 'چرن': 2047,\n",
       " 'ولن': 1755,\n",
       " 'کردار': 2262,\n",
       " 'ادا': 108,\n",
       " 'دل': 793,\n",
       " 'چھین': 2149,\n",
       " 'قسم': 1323,\n",
       " 'تھیں': 600,\n",
       " 'بعد': 353,\n",
       " 'ڈیلیٹ': 2206,\n",
       " 'چودی': 2095,\n",
       " 'کرتے': 2260,\n",
       " 'بندے': 392,\n",
       " 'کہتا': 2420,\n",
       " 'آؤں': 3,\n",
       " 'خراب': 755,\n",
       " 'ناپسند': 1657,\n",
       " 'نسل': 1663,\n",
       " 'ننگا': 1677,\n",
       " 'مارنا': 1457,\n",
       " 'یکی': 2683,\n",
       " 'سپورٹ': 1094,\n",
       " 'گندا': 2522,\n",
       " 'پکڑ': 1948,\n",
       " 'مارو': 1460,\n",
       " 'الگ': 152,\n",
       " 'بے': 520,\n",
       " 'غیرت': 1271,\n",
       " 'حق': 731,\n",
       " 'بنتا': 386,\n",
       " 'پاکستانیوں': 1857,\n",
       " 'انسان': 179,\n",
       " 'گھر': 2538,\n",
       " 'جھیل': 699,\n",
       " 'رہے': 961,\n",
       " 'ہمت': 2606,\n",
       " 'داد': 777,\n",
       " 'دیتا': 838,\n",
       " 'تکلیف': 586,\n",
       " 'بندہ': 391,\n",
       " 'جھوٹی': 694,\n",
       " 'دیکھنے': 865,\n",
       " 'سدھارت': 1030,\n",
       " 'لیتے': 1430,\n",
       " 'اسلام': 123,\n",
       " 'عزتی': 1240,\n",
       " 'کرواتے': 2285,\n",
       " 'حرامی': 723,\n",
       " 'کتنی': 2245,\n",
       " 'جوتیاں': 678,\n",
       " 'پڑنی': 1939,\n",
       " 'چاہیں': 2032,\n",
       " 'پتہ': 1864,\n",
       " 'چل': 2050,\n",
       " 'سالا': 1006,\n",
       " 'ذہنی': 887,\n",
       " 'مریض': 1521,\n",
       " 'چھوڑو': 2141,\n",
       " 'گاںڈو': 2487,\n",
       " 'کوپکڑو': 2366,\n",
       " 'بولا': 407,\n",
       " 'ڈول': 2199,\n",
       " 'آنے': 59,\n",
       " 'گناہ': 2521,\n",
       " 'رائٹ': 893,\n",
       " 'دینا': 846,\n",
       " 'جل': 651,\n",
       " 'جانی': 636,\n",
       " 'طوخم': 1223,\n",
       " 'رہتا': 951,\n",
       " 'اویٹر': 217,\n",
       " 'کھبا': 2384,\n",
       " 'ٹٹہ': 1811,\n",
       " 'ویڈ': 1775,\n",
       " 'یوز': 2678,\n",
       " 'جاتے': 627,\n",
       " 'تے': 615,\n",
       " 'رپورٹس': 940,\n",
       " 'گیں': 2560,\n",
       " 'کمنٹس': 2329,\n",
       " 'اشتعال': 131,\n",
       " 'دلاتے': 796,\n",
       " 'انتظار': 165,\n",
       " 'کردیا': 2266,\n",
       " 'سینڈ': 1140,\n",
       " 'شاہ': 1166,\n",
       " 'سکول': 1115,\n",
       " 'علاج': 1246,\n",
       " 'سبسکرائبر': 1021,\n",
       " 'ملیں': 1574,\n",
       " 'پھیر': 1972,\n",
       " 'خود': 767,\n",
       " 'کھسرا': 2391,\n",
       " 'ابو': 87,\n",
       " 'جاری': 630,\n",
       " 'رکھو': 944,\n",
       " 'ٹائم': 1786,\n",
       " 'لازمی': 1342,\n",
       " 'بناؤ': 371,\n",
       " 'نیا': 1704,\n",
       " 'سال': 1005,\n",
       " 'مبارک': 1480,\n",
       " 'ختم': 753,\n",
       " 'راوالپنڈی': 900,\n",
       " 'ناران': 1650,\n",
       " 'گائیڈ': 2463,\n",
       " 'لوں': 1390,\n",
       " 'سنجیدہ': 1060,\n",
       " 'لیں': 1442,\n",
       " 'یو': 2676,\n",
       " 'ہماری': 2604,\n",
       " 'شیخ': 1202,\n",
       " 'گورمیت': 2529,\n",
       " 'ڈائریکٹ': 2166,\n",
       " 'کیاہے': 2433,\n",
       " 'کہتے': 2421,\n",
       " 'اصلی': 137,\n",
       " 'مواد': 1596,\n",
       " 'بناء': 370,\n",
       " 'ویشنو': 1767,\n",
       " 'ماتا': 1449,\n",
       " 'بارے': 302,\n",
       " 'آدمی': 33,\n",
       " 'کوسبق': 2357,\n",
       " 'سیکھایا': 1148,\n",
       " 'سٹیشن': 1091,\n",
       " 'آڈیشن': 67,\n",
       " 'کہیں': 2427,\n",
       " 'آگئی': 73,\n",
       " 'پھٹ': 1966,\n",
       " 'پاس': 1851,\n",
       " 'دونوں': 820,\n",
       " 'ڈسک': 2194,\n",
       " 'ایسی': 267,\n",
       " 'تیسی': 612,\n",
       " 'سالی': 1009,\n",
       " 'چوری': 2101,\n",
       " 'کرتی': 2259,\n",
       " 'باتوں': 292,\n",
       " 'وزن': 1745,\n",
       " 'نکالتے': 1690,\n",
       " 'انے': 199,\n",
       " 'واہ': 1738,\n",
       " 'نکل': 1694,\n",
       " 'پڑی': 1943,\n",
       " 'ماروں': 1462,\n",
       " 'جب': 641,\n",
       " 'شیو': 1204,\n",
       " 'کرتا': 2257,\n",
       " 'پھینک': 1975,\n",
       " 'لن': 1361,\n",
       " 'آنکھ': 55,\n",
       " 'چھولا': 2134,\n",
       " 'کہو': 2425,\n",
       " 'سر': 1031,\n",
       " 'درد': 786,\n",
       " 'ہونے': 2633,\n",
       " 'شوکت': 1188,\n",
       " 'خانم': 749,\n",
       " 'کروا': 2282,\n",
       " 'ہسپتال': 2595,\n",
       " 'گنا': 2520,\n",
       " 'میرا': 1627,\n",
       " 'فیس': 1311,\n",
       " 'بک': 444,\n",
       " 'پیچ': 2008,\n",
       " 'پاکستانی': 1856,\n",
       " 'شرم': 1172,\n",
       " 'آنی': 58,\n",
       " 'حصہ': 728,\n",
       " 'سننے': 1066,\n",
       " 'چین': 2160,\n",
       " 'سموکر': 1055,\n",
       " 'پلیز': 1900,\n",
       " 'زہر': 987,\n",
       " 'سچ': 1098,\n",
       " 'اندھا': 176,\n",
       " 'ہوتا': 2621,\n",
       " 'کلک': 2316,\n",
       " 'ایپلیکشن': 272,\n",
       " 'ڈون': 2200,\n",
       " 'کریں': 2305,\n",
       " 'کوڈ': 2368,\n",
       " 'استعمال': 121,\n",
       " 'رجسٹر': 903,\n",
       " 'چیک': 2163,\n",
       " 'مہربانی': 1622,\n",
       " 'فرما': 1288,\n",
       " 'لونڈیا': 1373,\n",
       " 'شا': 1154,\n",
       " 'لائن': 1333,\n",
       " 'مارے': 1467,\n",
       " 'ساتھ': 995,\n",
       " 'ڈیٹ': 2208,\n",
       " 'عوام': 1256,\n",
       " 'مردے': 1512,\n",
       " 'جسم': 650,\n",
       " 'لوٹ': 1376,\n",
       " 'لوسالوں': 1369,\n",
       " 'برائی': 338,\n",
       " 'تبدیلی': 534,\n",
       " 'اصل': 136,\n",
       " 'کوشش': 2359,\n",
       " 'ویوز': 1773,\n",
       " 'بنتے': 388,\n",
       " 'امین': 161,\n",
       " 'پکا': 1946,\n",
       " 'شکریہ': 1195,\n",
       " 'اللہ': 147,\n",
       " 'ساری': 998,\n",
       " 'کامیابیاں': 2233,\n",
       " 'اسد': 122,\n",
       " 'اشیش': 135,\n",
       " 'حال': 717,\n",
       " 'اسلم': 124,\n",
       " 'کنجر': 2338,\n",
       " 'اسے': 129,\n",
       " 'الفاظ': 146,\n",
       " 'بنگالی': 397,\n",
       " 'رہنے': 956,\n",
       " 'ڈر': 2185,\n",
       " 'اسکا': 126,\n",
       " 'اشانت': 130,\n",
       " 'شرما': 1173,\n",
       " 'اکبر': 245,\n",
       " 'بچوں': 427,\n",
       " 'لیئے': 1427,\n",
       " 'عطیات': 1241,\n",
       " 'اکٹھے': 248,\n",
       " 'معذرت': 1555,\n",
       " 'اکتوبر': 246,\n",
       " 'ٹائٹل': 1787,\n",
       " 'دارو': 779,\n",
       " 'تبدیل': 533,\n",
       " 'واپس': 1736,\n",
       " 'احتجاج': 105,\n",
       " 'دینی': 847,\n",
       " 'پروموٹ': 1880,\n",
       " 'چاہتے': 2030,\n",
       " 'چودو': 2092,\n",
       " 'شیئر': 1200,\n",
       " 'ذیادہ': 890,\n",
       " 'روسٹنگ': 925,\n",
       " 'آؤ': 0,\n",
       " 'جوائن': 673,\n",
       " 'لطف': 1353,\n",
       " 'اٹھاؤ': 220,\n",
       " 'شریف': 1178,\n",
       " 'تہ': 602,\n",
       " 'دوسروں': 816,\n",
       " 'باتیں': 293,\n",
       " 'ٹھیکھ': 1827,\n",
       " 'پڑا': 1935,\n",
       " 'جانے': 637,\n",
       " 'مناتی': 1579,\n",
       " 'بڑے': 443,\n",
       " 'فا': 1272,\n",
       " 'ئن': 80,\n",
       " 'ٹک': 1814,\n",
       " 'ٹاک': 1794,\n",
       " 'فالو': 1278,\n",
       " 'ہمیں': 2609,\n",
       " 'بالکل': 311,\n",
       " 'ہوتیں': 2623,\n",
       " 'جادو': 628,\n",
       " 'سارے': 999,\n",
       " 'جن': 666,\n",
       " 'رہتے': 953,\n",
       " 'سانڈیساہ': 1013,\n",
       " 'ترین': 547,\n",
       " 'اگلے': 259,\n",
       " 'سطح': 1038,\n",
       " 'الٹی': 150,\n",
       " 'پھیلاتا': 1973,\n",
       " 'مگر': 1619,\n",
       " 'قس': 1322,\n",
       " 'مے': 1641,\n",
       " 'الماس': 148,\n",
       " 'ہدایات': 2588,\n",
       " 'چلانے': 2055,\n",
       " 'عزت': 1239,\n",
       " 'کھیل': 2407,\n",
       " 'جیکب': 711,\n",
       " 'بنائی': 374,\n",
       " 'امیر': 160,\n",
       " 'کھوتی': 2397,\n",
       " 'غریب': 1263,\n",
       " 'جھونپڑا': 691,\n",
       " 'بھوسڑا': 464,\n",
       " 'بن': 368,\n",
       " 'تن': 566,\n",
       " 'تولا': 573,\n",
       " 'لوڑ': 1379,\n",
       " 'رکھی': 945,\n",
       " 'بول': 406,\n",
       " 'دودھ': 809,\n",
       " 'مانگو': 1475,\n",
       " 'کھیر': 2406,\n",
       " 'چیر': 2155,\n",
       " 'سستا': 1035,\n",
       " 'تھوک': 595,\n",
       " 'والوں': 1732,\n",
       " 'کینسر': 2445,\n",
       " 'گھسی': 2541,\n",
       " 'کنجری': 2340,\n",
       " 'دا': 775,\n",
       " 'پتر': 1863,\n",
       " 'پھٹے': 1969,\n",
       " 'ہوئے': 2619,\n",
       " 'کنڈم': 2346,\n",
       " 'اولاد': 208,\n",
       " 'چودوں': 2093,\n",
       " 'اڑا': 238,\n",
       " 'لفظ': 1356,\n",
       " 'نفرت': 1671,\n",
       " 'انتہائی': 169,\n",
       " 'اعل': 140,\n",
       " 'سالگرہ': 1008,\n",
       " 'انٹرنیٹ': 185,\n",
       " 'ذریعے': 881,\n",
       " 'جانتا': 633,\n",
       " 'انجالی': 171,\n",
       " 'پیاری': 1986,\n",
       " 'اندر': 175,\n",
       " 'باہر': 315,\n",
       " 'کھسری': 2392,\n",
       " 'ناصر': 1653,\n",
       " 'خان': 747,\n",
       " 'جان': 631,\n",
       " 'گالی': 2469,\n",
       " 'پڑ': 1934,\n",
       " 'انرجی': 178,\n",
       " 'ڈرنک': 2189,\n",
       " 'لسی': 1352,\n",
       " 'انہی': 198,\n",
       " 'وجہ': 1740,\n",
       " 'ین': 2675,\n",
       " 'اہ': 261,\n",
       " 'پن': 1903,\n",
       " 'چت': 2038,\n",
       " 'ماریں': 1465,\n",
       " 'جھوٹا': 693,\n",
       " 'کہنے': 2424,\n",
       " 'اودے': 203,\n",
       " 'شٹکر': 1190,\n",
       " 'متعلقہ': 1484,\n",
       " 'بی': 500,\n",
       " 'جلدی': 659,\n",
       " 'تمہارا': 560,\n",
       " 'نگر': 1698,\n",
       " 'جھوٹ': 692,\n",
       " 'سہارا': 1124,\n",
       " 'پڑتا': 1936,\n",
       " 'عقل': 1245,\n",
       " 'لکھتا': 1403,\n",
       " 'کل': 2310,\n",
       " 'چٹوانے': 2115,\n",
       " 'جیری': 705,\n",
       " 'مست': 1533,\n",
       " 'غضب': 1266,\n",
       " 'بنایا': 385,\n",
       " 'ہاں': 2579,\n",
       " 'گانڈوپن': 2482,\n",
       " 'تونہیں': 575,\n",
       " 'لگے': 1424,\n",
       " 'سبسکرائیب': 1023,\n",
       " 'گرنیڈ': 2502,\n",
       " 'سکتاتھا': 1109,\n",
       " 'مارنے': 1459,\n",
       " 'ضرورت': 1215,\n",
       " 'ہنس': 2612,\n",
       " 'رو': 918,\n",
       " 'لڑکا': 1393,\n",
       " 'کنفیوشن': 2344,\n",
       " 'اوسم': 206,\n",
       " 'آئی': 7,\n",
       " 'لو': 1366,\n",
       " 'اولام': 209,\n",
       " 'داخل': 776,\n",
       " 'سا': 991,\n",
       " 'گانا': 2472,\n",
       " 'چلایا': 2056,\n",
       " 'اوم': 210,\n",
       " 'پرکاش': 1884,\n",
       " 'بڑھیا': 440,\n",
       " 'فائدہ': 1273,\n",
       " 'اومے': 211,\n",
       " 'تمہاری': 561,\n",
       " 'اونام': 212,\n",
       " 'گپتا': 2537,\n",
       " 'بےوفا': 527,\n",
       " 'اوہ': 215,\n",
       " 'دیکھنا': 863,\n",
       " 'پڑے': 1944,\n",
       " 'جانتے': 634,\n",
       " 'بھوج': 461,\n",
       " 'گانوں': 2474,\n",
       " 'معاشرے': 1552,\n",
       " 'تنقید': 567,\n",
       " 'سکتے': 1111,\n",
       " 'جی': 702,\n",
       " 'خدا': 754,\n",
       " 'بڑبڑا': 435,\n",
       " 'تمہیں': 564,\n",
       " 'موقع': 1602,\n",
       " 'حیران': 743,\n",
       " 'خواب': 761,\n",
       " 'میری': 1630,\n",
       " 'ٹیکے': 1840,\n",
       " 'کافی': 2224,\n",
       " 'لیٹ': 1438,\n",
       " 'اوہم': 216,\n",
       " 'سرما': 1032,\n",
       " 'انڈین': 191,\n",
       " 'آئڈل': 6,\n",
       " 'باز': 303,\n",
       " 'آجاکوڑی': 27,\n",
       " 'ٹکی': 1817,\n",
       " 'منہ': 1595,\n",
       " 'گدھے': 2495,\n",
       " 'جئیسی': 618,\n",
       " 'تلاش': 557,\n",
       " 'بج': 324,\n",
       " 'شاید': 1167,\n",
       " 'پولیو': 1920,\n",
       " 'ٹیکہ': 1839,\n",
       " 'تمیز': 565,\n",
       " 'کرے': 2307,\n",
       " 'زرا': 977,\n",
       " 'چھوتے': 2133,\n",
       " 'مروانے': 1518,\n",
       " 'عمرا': 1252,\n",
       " 'بیچ': 515,\n",
       " 'لا': 1332,\n",
       " 'بورنگ': 404,\n",
       " 'اے': 283,\n",
       " 'یوتمہارے': 2677,\n",
       " 'لئے': 1331,\n",
       " 'دیکھایا': 859,\n",
       " 'بس': 351,\n",
       " 'کہوں': 2426,\n",
       " 'روپالی': 933,\n",
       " 'ڈالی': 2178,\n",
       " 'ہالی': 2578,\n",
       " 'ورژن': 1744,\n",
       " 'پھانسی': 1952,\n",
       " 'لگاتا': 1413,\n",
       " 'ہےزمیں': 2653,\n",
       " 'رکھے': 947,\n",
       " 'پنکھے': 1907,\n",
       " 'رسی': 908,\n",
       " 'دال': 781,\n",
       " 'لگ': 1408,\n",
       " 'پھٹی': 1968,\n",
       " 'ٹام': 1791,\n",
       " 'کروز': 2290,\n",
       " 'سامنے': 1012,\n",
       " 'بنانے': 384,\n",
       " 'جیل': 709,\n",
       " 'سکیم': 1122,\n",
       " 'پروان': 1876,\n",
       " 'چڑھ': 2120,\n",
       " 'بتا': 317,\n",
       " 'دن': 802,\n",
       " 'بیمار': 504,\n",
       " 'ہےکیا': 2661,\n",
       " 'روح': 921,\n",
       " 'فروخت': 1291,\n",
       " 'لوگان': 1388,\n",
       " 'پال': 1852,\n",
       " 'چتیاپا': 2041,\n",
       " 'دوسری': 817,\n",
       " 'مرے': 1522,\n",
       " 'خلاف': 759,\n",
       " 'بولتا': 408,\n",
       " 'لیرولیر': 1431,\n",
       " 'کردیتا': 2268,\n",
       " 'لمبے': 1359,\n",
       " 'عرصہ': 1235,\n",
       " 'یوزر': 2679,\n",
       " 'چائے': 2017,\n",
       " 'پیتے': 1988,\n",
       " 'گزارش': 2509,\n",
       " 'جتنا': 642,\n",
       " 'سکے': 1123,\n",
       " 'کیوںکہ': 2450,\n",
       " 'بھڑوا': 475,\n",
       " 'بھوجی': 462,\n",
       " 'اڑاتا': 239,\n",
       " 'مقصد': 1560,\n",
       " 'مکمل': 1618,\n",
       " 'اچھے': 237,\n",
       " 'سافٹ': 1003,\n",
       " 'وئیر': 1721,\n",
       " 'بتاؤ': 318,\n",
       " 'ٹیٹو': 1835,\n",
       " 'ٹھگ': 1825,\n",
       " 'بیک': 519,\n",
       " 'گراؤنڈ': 2498,\n",
       " 'آتا': 15,\n",
       " 'جاتا': 625,\n",
       " 'کھجلی': 2390,\n",
       " 'رہی': 959,\n",
       " 'ہےکچھ': 2659,\n",
       " 'ڈرامہ': 2187,\n",
       " 'بلاگ': 360,\n",
       " 'دیکھتا': 860,\n",
       " 'ڈالیں': 2179,\n",
       " 'تنگ': 569,\n",
       " 'شاباش': 1157,\n",
       " 'آتش': 16,\n",
       " 'اجالا': 100,\n",
       " 'کنسلٹ': 2342,\n",
       " 'تونے': 576,\n",
       " 'آنکھیں': 57,\n",
       " 'کھول': 2399,\n",
       " 'ٹیم': 1830,\n",
       " 'فیصلہ': 1312,\n",
       " 'یں': 2684,\n",
       " 'ملین': 1573,\n",
       " 'سبسکرائبرز': 1022,\n",
       " 'رونا': 931,\n",
       " 'کھلے': 2396,\n",
       " 'یقین': 2674,\n",
       " 'مانو': 1472,\n",
       " 'سیکسی': 1143,\n",
       " 'آخر': 29,\n",
       " 'کار': 2217,\n",
       " 'کھیلنا': 2411,\n",
       " 'دوبارہ': 808,\n",
       " 'کارسب': 2218,\n",
       " 'کوجواب': 2356,\n",
       " 'حقیقت': 733,\n",
       " 'پیارا': 1985,\n",
       " 'آجے': 28,\n",
       " 'کلپ': 2314,\n",
       " 'بھہت': 481,\n",
       " 'بننے': 394,\n",
       " 'چیٹ': 2162,\n",
       " 'آخرکار': 30,\n",
       " 'بچپن': 428,\n",
       " 'کھلی': 2395,\n",
       " 'لگانے': 1415,\n",
       " 'پڑتی': 1937,\n",
       " 'کوپورا': 2365,\n",
       " 'آریام': 39,\n",
       " 'پیدا': 1991,\n",
       " 'غلطی': 1268,\n",
       " 'لگتی': 1418,\n",
       " 'آریان': 40,\n",
       " 'بھاگ': 453,\n",
       " 'دیکھتے': 862,\n",
       " 'آتے': 18,\n",
       " 'آسمانی': 45,\n",
       " 'کھٹی': 2401,\n",
       " 'پچکاری': 1931,\n",
       " 'آفریدی': 49,\n",
       " 'چپ': 2117,\n",
       " 'آکاش': 69,\n",
       " 'کمار': 2322,\n",
       " 'دیکھں': 868,\n",
       " 'آگےسے': 78,\n",
       " 'کراس': 2254,\n",
       " 'آن': 51,\n",
       " 'گروٹیچ': 2504,\n",
       " 'آؤٹ': 1,\n",
       " 'امتحان': 154,\n",
       " 'آئےیوراما': 13,\n",
       " 'دیکھاتا': 857,\n",
       " 'ہےیہ': 2662,\n",
       " 'میچ': 1637,\n",
       " 'دلچسپ': 798,\n",
       " 'بابا': 289,\n",
       " 'ٹی': 1828,\n",
       " 'سیرز': 1133,\n",
       " 'بدلہ': 335,\n",
       " 'انٹرویو': 186,\n",
       " ...}"
      ]
     },
     "execution_count": 8,
     "metadata": {},
     "output_type": "execute_result"
    }
   ],
   "source": [
    "from sklearn.feature_extraction.text import CountVectorizer    \n",
    "train_vectorizer=CountVectorizer(max_features=10000)\n",
    "# from sklearn.feature_extraction.text import TfidfVectorizer\n",
    "max_feature_num = 10000\n",
    "train_vectorizer = CountVectorizer(max_features=max_feature_num)\n",
    "X_train=train_vectorizer.fit_transform(tain_corpus).toarray()\n",
    "y_train=train['target']\n",
    "train_vectorizer.vocabulary_\n",
    "test_vectorizer = CountVectorizer(max_features=max_feature_num,vocabulary=train_vectorizer.vocabulary_)\n",
    "X_test=test_vectorizer.fit_transform(test_corpus).toarray()\n",
    "y_test=test['target']\n",
    "train_vectorizer.vocabulary_"
   ]
  },
  {
   "cell_type": "markdown",
   "metadata": {
    "id": "WWOqT8vhYzRj"
   },
   "source": [
    "## Test Train Split\n",
    "1. 75% Training 25% Testing"
   ]
  },
  {
   "cell_type": "code",
   "execution_count": 9,
   "metadata": {
    "executionInfo": {
     "elapsed": 361,
     "status": "ok",
     "timestamp": 1645109954469,
     "user": {
      "displayName": "Rafia Jabbar",
      "photoUrl": "https://lh3.googleusercontent.com/a-/AOh14Gg_1DjP6TxgmdZBWrVUfpmjnjwXkAIoeIdQlLOP=s64",
      "userId": "15947133849312122933"
     },
     "user_tz": -300
    },
    "id": "wOf4JGDVObkT"
   },
   "outputs": [],
   "source": [
    "from sklearn.model_selection import train_test_split\n",
    "X_train,X_test1,y_train,y_test1 = train_test_split(X_train, y_train, test_size=0.30, random_state=0)"
   ]
  },
  {
   "cell_type": "markdown",
   "metadata": {
    "id": "FiDEZf5kZFd6"
   },
   "source": [
    "# Decision Tree"
   ]
  },
  {
   "cell_type": "code",
   "execution_count": 10,
   "metadata": {
    "executionInfo": {
     "elapsed": 883,
     "status": "ok",
     "timestamp": 1645109955350,
     "user": {
      "displayName": "Rafia Jabbar",
      "photoUrl": "https://lh3.googleusercontent.com/a-/AOh14Gg_1DjP6TxgmdZBWrVUfpmjnjwXkAIoeIdQlLOP=s64",
      "userId": "15947133849312122933"
     },
     "user_tz": -300
    },
    "id": "MfG-q9HyOh8k"
   },
   "outputs": [],
   "source": [
    "from sklearn.tree import DecisionTreeClassifier\n",
    "classifier=DecisionTreeClassifier()\n",
    "classifier.fit(X_train,y_train)\n",
    "pred=classifier.predict(X_test)\n",
    "dtc_probs = classifier.predict_proba(X_test)\n",
    "dtc_probs=dtc_probs[:,1]"
   ]
  },
  {
   "cell_type": "markdown",
   "metadata": {
    "id": "3dsm7kyDZMWN"
   },
   "source": [
    "# Decision Tree Evaluation\n",
    "1. Test Train split Accuracy, precision, recall and f1 score\n",
    "2. F1 Score for 10 Fold Cross Validation"
   ]
  },
  {
   "cell_type": "code",
   "execution_count": 11,
   "metadata": {
    "colab": {
     "base_uri": "https://localhost:8080/"
    },
    "executionInfo": {
     "elapsed": 629,
     "status": "ok",
     "timestamp": 1645109955978,
     "user": {
      "displayName": "Rafia Jabbar",
      "photoUrl": "https://lh3.googleusercontent.com/a-/AOh14Gg_1DjP6TxgmdZBWrVUfpmjnjwXkAIoeIdQlLOP=s64",
      "userId": "15947133849312122933"
     },
     "user_tz": -300
    },
    "id": "cjtfJGPMOnTK",
    "outputId": "ab6c505f-24ee-4bcb-aa0f-c67e47c617a1"
   },
   "outputs": [
    {
     "name": "stdout",
     "output_type": "stream",
     "text": [
      "----------------Test Train Score Complete Datasets---------------\n",
      "confusion matrix\n",
      "[[941 272]\n",
      " [465 722]]\n",
      "Accuracy score: 0.6929166666666666\n",
      "Precision score: 0.6978163432944753\n",
      "F1 score: 0.6903382487409486\n",
      "Recall score: 0.6920093399850399\n"
     ]
    }
   ],
   "source": [
    "from sklearn.metrics import accuracy_score,precision_score,f1_score,recall_score\n",
    "from sklearn.model_selection import cross_val_score\n",
    "from sklearn.metrics import confusion_matrix\n",
    "cm=confusion_matrix(y_test,pred)\n",
    "print(\"----------------Test Train Score Complete Datasets---------------\")\n",
    "print(\"confusion matrix\")\n",
    "print(cm)\n",
    "acc=accuracy_score(y_test, pred)\n",
    "pr=precision_score(y_test, pred,average='macro')\n",
    "re=recall_score(y_test, pred,average='macro')\n",
    "fs=f1_score(y_test, pred,average='macro')\n",
    "print('Accuracy score: {}'.format(acc))\n",
    "print('Precision score: {}'.format(pr))\n",
    "print('F1 score: {}'.format(fs))\n",
    "print('Recall score: {}'.format(re))"
   ]
  },
  {
   "cell_type": "markdown",
   "metadata": {
    "id": "G8YYQPJsZgOe"
   },
   "source": [
    "## AUC ROC Curve\n",
    "1. AUC Value\n",
    "2. Curve"
   ]
  },
  {
   "cell_type": "code",
   "execution_count": 12,
   "metadata": {
    "colab": {
     "base_uri": "https://localhost:8080/",
     "height": 297
    },
    "executionInfo": {
     "elapsed": 6,
     "status": "ok",
     "timestamp": 1645109955978,
     "user": {
      "displayName": "Rafia Jabbar",
      "photoUrl": "https://lh3.googleusercontent.com/a-/AOh14Gg_1DjP6TxgmdZBWrVUfpmjnjwXkAIoeIdQlLOP=s64",
      "userId": "15947133849312122933"
     },
     "user_tz": -300
    },
    "id": "H1rDn2ipPYYy",
    "outputId": "04671b31-43e4-4dcc-8b5a-3e9325195c1f"
   },
   "outputs": [
    {
     "name": "stdout",
     "output_type": "stream",
     "text": [
      "Classifier: ROC AUC=0.692\n"
     ]
    },
    {
     "data": {
      "image/png": "[encoded data removed]",
      "text/plain": [
       "<Figure size 432x288 with 1 Axes>"
      ]
     },
     "metadata": {
      "needs_background": "light"
     },
     "output_type": "display_data"
    }
   ],
   "source": [
    "# submission={\n",
    "#     'id':data['id'],\n",
    "#     'target':test_pred,\n",
    "#     'score':dtc_probs,\n",
    "# }\n",
    "\n",
    "# submission=pd.DataFrame(submission)\n",
    "# submission.to_csv(\"subt.csv\")\n",
    "from sklearn.metrics import roc_curve\n",
    "from sklearn.metrics import roc_auc_score\n",
    "from matplotlib import pyplot\n",
    "lr_auc = roc_auc_score(y_test, dtc_probs)\n",
    "# summarize scores\n",
    "print('Classifier: ROC AUC=%.3f' % (lr_auc))\n",
    "# calculate roc curves\n",
    "lr_fpr, lr_tpr, _ = roc_curve(y_test, dtc_probs)\n",
    "# plot the roc curve for the model\n",
    "pyplot.plot(lr_fpr, lr_tpr, 'r',marker='.', label='Decision Tree')\n",
    "# axis labels\n",
    "pyplot.xlabel('False Positive Rate')\n",
    "pyplot.ylabel('True Positive Rate')\n",
    "# show the legend\n",
    "pyplot.legend()\n",
    "# show the plot\n",
    "pyplot.show()\n",
    "\n",
    "from sklearn.model_selection import KFold\n",
    "from sklearn.neighbors import KNeighborsClassifier\n",
    "import matplotlib.pyplot as plt\n",
    "kf = KFold(n_splits=4)\n",
    "mae_train = []\n",
    "mae_test = []"
   ]
  },
  {
   "cell_type": "markdown",
   "metadata": {
    "id": "0dm2NtbrZqTh"
   },
   "source": [
    "## Learning Curve"
   ]
  },
  {
   "cell_type": "code",
   "execution_count": 13,
   "metadata": {
    "colab": {
     "base_uri": "https://localhost:8080/",
     "height": 313
    },
    "executionInfo": {
     "elapsed": 24234,
     "status": "ok",
     "timestamp": 1645109980208,
     "user": {
      "displayName": "Rafia Jabbar",
      "photoUrl": "https://lh3.googleusercontent.com/a-/AOh14Gg_1DjP6TxgmdZBWrVUfpmjnjwXkAIoeIdQlLOP=s64",
      "userId": "15947133849312122933"
     },
     "user_tz": -300
    },
    "id": "YLKbb-7LPcIC",
    "outputId": "a07fde17-96a6-4092-9aee-1e5f407bbdf7"
   },
   "outputs": [
    {
     "name": "stderr",
     "output_type": "stream",
     "text": [
      "No handles with labels found to put in legend.\n"
     ]
    },
    {
     "data": {
      "image/png": "[encoded data removed]",
      "text/plain": [
       "<Figure size 432x288 with 1 Axes>"
      ]
     },
     "metadata": {
      "needs_background": "light"
     },
     "output_type": "display_data"
    }
   ],
   "source": [
    "# imports\n",
    "from sklearn.model_selection import learning_curve\n",
    "import matplotlib.pyplot as plt\n",
    "import numpy as np\n",
    "def plot_curve():\n",
    "    # instantiate\n",
    "    lg = DecisionTreeClassifier()\n",
    "\n",
    "    # fit\n",
    "    lg.fit(X_test, y_test)\n",
    "    \n",
    "    \n",
    "    \"\"\"\n",
    "    Generate a simple plot of the test and traning learning curve.\n",
    "\n",
    "    Parameters\n",
    "    ----------\n",
    "    estimator : object type that implements the \"fit\" and \"predict\" methods\n",
    "        An object of that type which is cloned for each validation.\n",
    "\n",
    "    title : string\n",
    "        Title for the chart.\n",
    "\n",
    "    X : array-like, shape (n_samples, n_features)\n",
    "        Training vector, where n_samples is the number of samples and\n",
    "        n_features is the number of features.\n",
    "\n",
    "    y : array-like, shape (n_samples) or (n_samples, n_features), optional\n",
    "        Target relative to X for classification or regression;\n",
    "        None for unsupervised learning.\n",
    "\n",
    "    ylim : tuple, shape (ymin, ymax), optional\n",
    "        Defines minimum and maximum yvalues plotted.\n",
    "\n",
    "    cv : integer, cross-validation generator, optional\n",
    "        If an integer is passed, it is the number of folds (defaults to 3).\n",
    "        Specific cross-validation objects can be passed, see\n",
    "        sklearn.cross_validation module for the list of possible objects\n",
    "\n",
    "    n_jobs : integer, optional\n",
    "        Number of jobs to run in parallel (default 1).\n",
    "        \n",
    "    x1 = np.linspace(0, 10, 8, endpoint=True) produces\n",
    "        8 evenly spaced points in the range 0 to 10\n",
    "    \"\"\"\n",
    "    \n",
    "    train_sizes, train_scores, test_scores = learning_curve(lg, X_test, y_test, n_jobs=-1, cv=10, train_sizes=np.linspace(.1, 1.0, 5), verbose=0)\n",
    "\n",
    "    train_scores_mean = np.mean(train_scores, axis=1)\n",
    "    train_scores_std = np.std(train_scores, axis=1)\n",
    "    test_scores_mean = np.mean(test_scores, axis=1)\n",
    "    test_scores_std = np.std(test_scores, axis=1)\n",
    "    \n",
    "    plt.figure()\n",
    "    plt.title(\"Decison Tree\")\n",
    "    plt.legend(loc=\"best\")\n",
    "    plt.xlabel(\"Training examples\")\n",
    "    plt.ylabel(\"Score\")\n",
    "    plt.gca().invert_yaxis()\n",
    "    \n",
    "    # box-like grid\n",
    "    plt.grid()\n",
    "    \n",
    "    # plot the std deviation as a transparent range at each training set size\n",
    "    plt.fill_between(train_sizes, train_scores_mean - train_scores_std, train_scores_mean + train_scores_std, alpha=0.1, color=\"r\")\n",
    "    plt.fill_between(train_sizes, test_scores_mean - test_scores_std, test_scores_mean + test_scores_std, alpha=0.1, color=\"g\")\n",
    "    \n",
    "    # plot the average training and test score lines at each training set size\n",
    "    plt.plot(train_sizes, train_scores_mean, 'o-', color=\"r\", label=\"Training score\")\n",
    "    plt.plot(train_sizes, test_scores_mean, 'o-', color=\"g\", label=\"Cross-validation score\")\n",
    "    \n",
    "    # sizes the window for readability and displays the plot\n",
    "    # shows error from 0 to 1.1\n",
    "    plt.ylim(-.1,1.1)\n",
    "    plt.show()\n",
    "plot_curve()"
   ]
  },
  {
   "cell_type": "markdown",
   "metadata": {
    "id": "d0Hjl41MZx6J"
   },
   "source": [
    "## Logistic Regression"
   ]
  },
  {
   "cell_type": "code",
   "execution_count": 14,
   "metadata": {
    "executionInfo": {
     "elapsed": 566,
     "status": "ok",
     "timestamp": 1645109980772,
     "user": {
      "displayName": "Rafia Jabbar",
      "photoUrl": "https://lh3.googleusercontent.com/a-/AOh14Gg_1DjP6TxgmdZBWrVUfpmjnjwXkAIoeIdQlLOP=s64",
      "userId": "15947133849312122933"
     },
     "user_tz": -300
    },
    "id": "3jQFugpdSv2r"
   },
   "outputs": [],
   "source": [
    "from sklearn.linear_model import LogisticRegression\n",
    "classifier=LogisticRegression()\n",
    "classifier.fit(X_train,y_train)\n",
    "pred=classifier.predict(X_test)\n",
    "dtc_probs = classifier.predict_proba(X_test)\n",
    "dtc_probs=dtc_probs[:,1]"
   ]
  },
  {
   "cell_type": "markdown",
   "metadata": {
    "id": "x39ZnV5NZ81i"
   },
   "source": [
    "## Logistic Regression\n",
    "1. Test Train split Accuracy, precision, recall and f1 score\n",
    "2. F1 Score for 10 Fold Cross Validation"
   ]
  },
  {
   "cell_type": "code",
   "execution_count": 15,
   "metadata": {
    "colab": {
     "base_uri": "https://localhost:8080/"
    },
    "executionInfo": {
     "elapsed": 5,
     "status": "ok",
     "timestamp": 1645109980772,
     "user": {
      "displayName": "Rafia Jabbar",
      "photoUrl": "https://lh3.googleusercontent.com/a-/AOh14Gg_1DjP6TxgmdZBWrVUfpmjnjwXkAIoeIdQlLOP=s64",
      "userId": "15947133849312122933"
     },
     "user_tz": -300
    },
    "id": "_9qBudNGSxPe",
    "outputId": "630f0a6f-88d2-4072-96a7-e68cfdbea15e"
   },
   "outputs": [
    {
     "name": "stdout",
     "output_type": "stream",
     "text": [
      "Complete Dataset Results\n",
      "confusion matrix\n",
      "[[808 405]\n",
      " [441 746]]\n",
      "Accuracy score: 0.6475\n",
      "Precision score: 0.6475247965531417\n",
      "F1 score: 0.6472645981102667\n",
      "Recall score: 0.6472961062791397\n"
     ]
    }
   ],
   "source": [
    "cm=confusion_matrix(y_test,pred)\n",
    "print(\"Complete Dataset Results\")\n",
    "print(\"confusion matrix\")\n",
    "print(cm)\n",
    "acc=accuracy_score(y_test, pred)\n",
    "pr=precision_score(y_test, pred,average='macro')\n",
    "re=recall_score(y_test, pred,average='macro')\n",
    "fs=f1_score(y_test, pred,average='macro')\n",
    "print('Accuracy score: {}'.format(acc))\n",
    "print('Precision score: {}'.format(pr))\n",
    "print('F1 score: {}'.format(fs))\n",
    "print('Recall score: {}'.format(re))"
   ]
  },
  {
   "cell_type": "markdown",
   "metadata": {
    "id": "EKumwyyMaDGX"
   },
   "source": [
    "#AUC ROC Curve"
   ]
  },
  {
   "cell_type": "code",
   "execution_count": 16,
   "metadata": {
    "colab": {
     "base_uri": "https://localhost:8080/",
     "height": 297
    },
    "executionInfo": {
     "elapsed": 911,
     "status": "ok",
     "timestamp": 1645109981680,
     "user": {
      "displayName": "Rafia Jabbar",
      "photoUrl": "https://lh3.googleusercontent.com/a-/AOh14Gg_1DjP6TxgmdZBWrVUfpmjnjwXkAIoeIdQlLOP=s64",
      "userId": "15947133849312122933"
     },
     "user_tz": -300
    },
    "id": "Wu3j1_GwS_be",
    "outputId": "31aa9872-a705-4631-ce70-0aa09e3b91a2"
   },
   "outputs": [
    {
     "name": "stdout",
     "output_type": "stream",
     "text": [
      "Classifier: ROC AUC=0.712\n"
     ]
    },
    {
     "data": {
      "image/png": "[encoded data removed]",
      "text/plain": [
       "<Figure size 432x288 with 1 Axes>"
      ]
     },
     "metadata": {
      "needs_background": "light"
     },
     "output_type": "display_data"
    }
   ],
   "source": [
    "# submission={\n",
    "#     'id':data['id'],\n",
    "#     'target':test_pred,\n",
    "#     'score':dtc_probs,\n",
    "# }\n",
    "\n",
    "# submission=pd.DataFrame(submission)\n",
    "# submission.to_csv(\"subt.csv\")\n",
    "from sklearn.metrics import roc_curve\n",
    "from sklearn.metrics import roc_auc_score\n",
    "from matplotlib import pyplot\n",
    "lr_auc = roc_auc_score(y_test, dtc_probs)\n",
    "# summarize scores\n",
    "print('Classifier: ROC AUC=%.3f' % (lr_auc))\n",
    "# calculate roc curves\n",
    "lr_fpr, lr_tpr, _ = roc_curve(y_test, dtc_probs)\n",
    "# plot the roc curve for the model\n",
    "pyplot.plot(lr_fpr, lr_tpr, 'r',marker='.', label='Logistic Regression')\n",
    "# axis labels\n",
    "pyplot.xlabel('False Positive Rate')\n",
    "pyplot.ylabel('True Positive Rate')\n",
    "# show the legend\n",
    "pyplot.legend()\n",
    "# show the plot\n",
    "pyplot.show()\n",
    "\n",
    "from sklearn.model_selection import KFold\n",
    "from sklearn.neighbors import KNeighborsClassifier\n",
    "import matplotlib.pyplot as plt\n",
    "kf = KFold(n_splits=4)\n",
    "mae_train = []\n",
    "mae_test = []"
   ]
  },
  {
   "cell_type": "markdown",
   "metadata": {
    "id": "-BlgZ0epaH87"
   },
   "source": [
    "## Learning Curve"
   ]
  },
  {
   "cell_type": "code",
   "execution_count": 17,
   "metadata": {
    "colab": {
     "base_uri": "https://localhost:8080/",
     "height": 313
    },
    "executionInfo": {
     "elapsed": 22158,
     "status": "ok",
     "timestamp": 1645110003835,
     "user": {
      "displayName": "Rafia Jabbar",
      "photoUrl": "https://lh3.googleusercontent.com/a-/AOh14Gg_1DjP6TxgmdZBWrVUfpmjnjwXkAIoeIdQlLOP=s64",
      "userId": "15947133849312122933"
     },
     "user_tz": -300
    },
    "id": "YYLzX_feTLPr",
    "outputId": "91682952-29c6-4b07-d405-b06b31dafe6f"
   },
   "outputs": [
    {
     "name": "stderr",
     "output_type": "stream",
     "text": [
      "No handles with labels found to put in legend.\n"
     ]
    },
    {
     "data": {
      "image/png": "[encoded data removed]",
      "text/plain": [
       "<Figure size 432x288 with 1 Axes>"
      ]
     },
     "metadata": {
      "needs_background": "light"
     },
     "output_type": "display_data"
    }
   ],
   "source": [
    "# imports\n",
    "from sklearn.model_selection import learning_curve\n",
    "import matplotlib.pyplot as plt\n",
    "import numpy as np\n",
    "def plot_curve():\n",
    "    # instantiate\n",
    "    lg = LogisticRegression()\n",
    "\n",
    "    # fit\n",
    "    lg.fit(X_test , y_test)\n",
    "    \n",
    "    \n",
    "    \"\"\"\n",
    "    Generate a simple plot of the test and traning learning curve.\n",
    "\n",
    "    Parameters\n",
    "    ----------\n",
    "    estimator : object type that implements the \"fit\" and \"predict\" methods\n",
    "        An object of that type which is cloned for each validation.\n",
    "\n",
    "    title : string\n",
    "        Title for the chart.\n",
    "\n",
    "    X : array-like, shape (n_samples, n_features)\n",
    "        Training vector, where n_samples is the number of samples and\n",
    "        n_features is the number of features.\n",
    "\n",
    "    y : array-like, shape (n_samples) or (n_samples, n_features), optional\n",
    "        Target relative to X for classification or regression;\n",
    "        None for unsupervised learning.\n",
    "\n",
    "    ylim : tuple, shape (ymin, ymax), optional\n",
    "        Defines minimum and maximum yvalues plotted.\n",
    "\n",
    "    cv : integer, cross-validation generator, optional\n",
    "        If an integer is passed, it is the number of folds (defaults to 3).\n",
    "        Specific cross-validation objects can be passed, see\n",
    "        sklearn.cross_validation module for the list of possible objects\n",
    "\n",
    "    n_jobs : integer, optional\n",
    "        Number of jobs to run in parallel (default 1).\n",
    "        \n",
    "    x1 = np.linspace(0, 10, 8, endpoint=True) produces\n",
    "        8 evenly spaced points in the range 0 to 10\n",
    "    \"\"\"\n",
    "    \n",
    "    train_sizes, train_scores, test_scores = learning_curve(lg, X_test, y_test, n_jobs=-1, cv=10, train_sizes=np.linspace(.1, 1.0, 5), verbose=0)\n",
    "\n",
    "    train_scores_mean = np.mean(train_scores, axis=1)\n",
    "    train_scores_std = np.std(train_scores, axis=1)\n",
    "    test_scores_mean = np.mean(test_scores, axis=1)\n",
    "    test_scores_std = np.std(test_scores, axis=1)\n",
    "    \n",
    "    plt.figure()\n",
    "    plt.title(\"Logistic Regression\")\n",
    "    plt.legend(loc=\"best\")\n",
    "    plt.xlabel(\"Training examples\")\n",
    "    plt.ylabel(\"Score\")\n",
    "    plt.gca().invert_yaxis()\n",
    "    \n",
    "    # box-like grid\n",
    "    plt.grid()\n",
    "    \n",
    "    # plot the std deviation as a transparent range at each training set size\n",
    "    plt.fill_between(train_sizes, train_scores_mean - train_scores_std, train_scores_mean + train_scores_std, alpha=0.1, color=\"r\")\n",
    "    plt.fill_between(train_sizes, test_scores_mean - test_scores_std, test_scores_mean + test_scores_std, alpha=0.1, color=\"g\")\n",
    "    \n",
    "    # plot the average training and test score lines at each training set size\n",
    "    plt.plot(train_sizes, train_scores_mean, 'o-', color=\"r\", label=\"Training score\")\n",
    "    plt.plot(train_sizes, test_scores_mean, 'o-', color=\"g\", label=\"Cross-validation score\")\n",
    "    \n",
    "    # sizes the window for readability and displays the plot\n",
    "    # shows error from 0 to 1.1\n",
    "    plt.ylim(-.1,1.1)\n",
    "    plt.show()\n",
    "plot_curve()"
   ]
  },
  {
   "cell_type": "markdown",
   "metadata": {
    "id": "kj6xiaNvaRH-"
   },
   "source": [
    "## SVM"
   ]
  },
  {
   "cell_type": "code",
   "execution_count": 18,
   "metadata": {
    "executionInfo": {
     "elapsed": 33530,
     "status": "ok",
     "timestamp": 1645110037357,
     "user": {
      "displayName": "Rafia Jabbar",
      "photoUrl": "https://lh3.googleusercontent.com/a-/AOh14Gg_1DjP6TxgmdZBWrVUfpmjnjwXkAIoeIdQlLOP=s64",
      "userId": "15947133849312122933"
     },
     "user_tz": -300
    },
    "id": "1gcSbRxYTZpT"
   },
   "outputs": [],
   "source": [
    "from sklearn.svm import SVC\n",
    "classifier=SVC(probability=True)\n",
    "classifier.fit(X_train,y_train)\n",
    "pred=classifier.predict(X_test)\n",
    "dtc_probs = classifier.predict_proba(X_test)\n",
    "dtc_probs=dtc_probs[:,1]"
   ]
  },
  {
   "cell_type": "markdown",
   "metadata": {
    "id": "QT6sI7RIaVoV"
   },
   "source": [
    "## SVM\n",
    "1. Test Train split Accuracy, precision, recall and f1 score\n",
    "2. F1 Score for 10 Fold Cross Validation"
   ]
  },
  {
   "cell_type": "code",
   "execution_count": 19,
   "metadata": {
    "colab": {
     "base_uri": "https://localhost:8080/"
    },
    "executionInfo": {
     "elapsed": 7,
     "status": "ok",
     "timestamp": 1645110037359,
     "user": {
      "displayName": "Rafia Jabbar",
      "photoUrl": "https://lh3.googleusercontent.com/a-/AOh14Gg_1DjP6TxgmdZBWrVUfpmjnjwXkAIoeIdQlLOP=s64",
      "userId": "15947133849312122933"
     },
     "user_tz": -300
    },
    "id": "Hm4K-ItzTlcQ",
    "outputId": "e98f60e8-a037-46c8-ce0d-7c83ff635df7"
   },
   "outputs": [
    {
     "name": "stdout",
     "output_type": "stream",
     "text": [
      "Complete Dataset Score\n",
      "confusion matrix\n",
      "[[743 470]\n",
      " [430 757]]\n",
      "Accuracy score: 0.625\n",
      "Precision score: 0.6251852500328291\n",
      "F1 score: 0.6249872391491099\n",
      "Recall score: 0.625136561165859\n"
     ]
    }
   ],
   "source": [
    "cm=confusion_matrix(y_test,pred)\n",
    "print(\"Complete Dataset Score\")\n",
    "print(\"confusion matrix\")\n",
    "print(cm)\n",
    "acc=accuracy_score(y_test, pred)\n",
    "pr=precision_score(y_test, pred,average='macro')\n",
    "re=recall_score(y_test, pred,average='macro')\n",
    "fs=f1_score(y_test, pred,average='macro')\n",
    "print('Accuracy score: {}'.format(acc))\n",
    "print('Precision score: {}'.format(pr))\n",
    "print('F1 score: {}'.format(fs))\n",
    "print('Recall score: {}'.format(re))"
   ]
  },
  {
   "cell_type": "markdown",
   "metadata": {
    "id": "TjZmTNyCaacJ"
   },
   "source": [
    "## AUC ROC Curve"
   ]
  },
  {
   "cell_type": "code",
   "execution_count": 20,
   "metadata": {
    "colab": {
     "base_uri": "https://localhost:8080/",
     "height": 297
    },
    "executionInfo": {
     "elapsed": 7,
     "status": "ok",
     "timestamp": 1645110037360,
     "user": {
      "displayName": "Rafia Jabbar",
      "photoUrl": "https://lh3.googleusercontent.com/a-/AOh14Gg_1DjP6TxgmdZBWrVUfpmjnjwXkAIoeIdQlLOP=s64",
      "userId": "15947133849312122933"
     },
     "user_tz": -300
    },
    "id": "ucmRbaUcXkDK",
    "outputId": "655204b7-9e43-431a-e2b5-2fe4f2cd3be1"
   },
   "outputs": [
    {
     "name": "stdout",
     "output_type": "stream",
     "text": [
      "Classifier: ROC AUC=0.689\n"
     ]
    },
    {
     "data": {
      "image/png": "[encoded data removed]",
      "text/plain": [
       "<Figure size 432x288 with 1 Axes>"
      ]
     },
     "metadata": {
      "needs_background": "light"
     },
     "output_type": "display_data"
    }
   ],
   "source": [
    "# submission={\n",
    "#     'id':data['id'],\n",
    "#     'target':test_pred,\n",
    "#     'score':dtc_probs,\n",
    "# }\n",
    "\n",
    "# submission=pd.DataFrame(submission)\n",
    "# submission.to_csv(\"subt.csv\")\n",
    "from sklearn.metrics import roc_curve\n",
    "from sklearn.metrics import roc_auc_score\n",
    "from matplotlib import pyplot\n",
    "lr_auc = roc_auc_score(y_test, dtc_probs)\n",
    "# summarize scores\n",
    "print('Classifier: ROC AUC=%.3f' % (lr_auc))\n",
    "# calculate roc curves\n",
    "lr_fpr, lr_tpr, _ = roc_curve(y_test, dtc_probs)\n",
    "# plot the roc curve for the model\n",
    "pyplot.plot(lr_fpr, lr_tpr, 'r',marker='.', label='SVM')\n",
    "# axis labels\n",
    "pyplot.xlabel('False Positive Rate')\n",
    "pyplot.ylabel('True Positive Rate')\n",
    "# show the legend\n",
    "pyplot.legend()\n",
    "# show the plot\n",
    "pyplot.show()\n",
    "\n",
    "from sklearn.model_selection import KFold\n",
    "from sklearn.neighbors import KNeighborsClassifier\n",
    "import matplotlib.pyplot as plt\n",
    "kf = KFold(n_splits=4)\n",
    "mae_train = []\n",
    "mae_test = []"
   ]
  },
  {
   "cell_type": "markdown",
   "metadata": {
    "id": "hGC4U9hKak6s"
   },
   "source": [
    "## Learning Curve"
   ]
  },
  {
   "cell_type": "code",
   "execution_count": 21,
   "metadata": {
    "colab": {
     "base_uri": "https://localhost:8080/",
     "height": 313
    },
    "executionInfo": {
     "elapsed": 343129,
     "status": "ok",
     "timestamp": 1645110380484,
     "user": {
      "displayName": "Rafia Jabbar",
      "photoUrl": "https://lh3.googleusercontent.com/a-/AOh14Gg_1DjP6TxgmdZBWrVUfpmjnjwXkAIoeIdQlLOP=s64",
      "userId": "15947133849312122933"
     },
     "user_tz": -300
    },
    "id": "JTrGXE0XXqTj",
    "outputId": "897413ef-38c5-4fc3-d390-9ad4874ef90e"
   },
   "outputs": [
    {
     "name": "stderr",
     "output_type": "stream",
     "text": [
      "No handles with labels found to put in legend.\n"
     ]
    },
    {
     "data": {
      "image/png": "[encoded data removed]",
      "text/plain": [
       "<Figure size 432x288 with 1 Axes>"
      ]
     },
     "metadata": {
      "needs_background": "light"
     },
     "output_type": "display_data"
    }
   ],
   "source": [
    "# imports\n",
    "from sklearn.model_selection import learning_curve\n",
    "import matplotlib.pyplot as plt\n",
    "import numpy as np\n",
    "from sklearn.svm import SVC\n",
    "def plot_curve():\n",
    "    # instantiate\n",
    "    lg = SVC()\n",
    "\n",
    "    # fit\n",
    "    lg.fit(X_test, y_test)\n",
    "    \n",
    "    \n",
    "    \"\"\"\n",
    "    Generate a simple plot of the test and traning learning curve.\n",
    "\n",
    "    Parameters\n",
    "    ----------\n",
    "    estimator : object type that implements the \"fit\" and \"predict\" methods\n",
    "        An object of that type which is cloned for each validation.\n",
    "\n",
    "    title : string\n",
    "        Title for the chart.\n",
    "\n",
    "    X : array-like, shape (n_samples, n_features)\n",
    "        Training vector, where n_samples is the number of samples and\n",
    "        n_features is the number of features.\n",
    "\n",
    "    y : array-like, shape (n_samples) or (n_samples, n_features), optional\n",
    "        Target relative to X for classification or regression;\n",
    "        None for unsupervised learning.\n",
    "\n",
    "    ylim : tuple, shape (ymin, ymax), optional\n",
    "        Defines minimum and maximum yvalues plotted.\n",
    "\n",
    "    cv : integer, cross-validation generator, optional\n",
    "        If an integer is passed, it is the number of folds (defaults to 3).\n",
    "        Specific cross-validation objects can be passed, see\n",
    "        sklearn.cross_validation module for the list of possible objects\n",
    "\n",
    "    n_jobs : integer, optional\n",
    "        Number of jobs to run in parallel (default 1).\n",
    "        \n",
    "    x1 = np.linspace(0, 10, 8, endpoint=True) produces\n",
    "        8 evenly spaced points in the range 0 to 10\n",
    "    \"\"\"\n",
    "    \n",
    "    train_sizes, train_scores, test_scores = learning_curve(lg, X_test, y_test, n_jobs=-1, cv=10, train_sizes=np.linspace(.1, 1.0, 5), verbose=0)\n",
    "\n",
    "    train_scores_mean = np.mean(train_scores, axis=1)\n",
    "    train_scores_std = np.std(train_scores, axis=1)\n",
    "    test_scores_mean = np.mean(test_scores, axis=1)\n",
    "    test_scores_std = np.std(test_scores, axis=1)\n",
    "    \n",
    "    plt.figure()\n",
    "    plt.title(\"SVM\")\n",
    "    plt.legend(loc=\"best\")\n",
    "    plt.xlabel(\"Training examples\")\n",
    "    plt.ylabel(\"Score\")\n",
    "    plt.gca().invert_yaxis()\n",
    "    \n",
    "    # box-like grid\n",
    "    plt.grid()\n",
    "    \n",
    "    # plot the std deviation as a transparent range at each training set size\n",
    "    plt.fill_between(train_sizes, train_scores_mean - train_scores_std, train_scores_mean + train_scores_std, alpha=0.1, color=\"r\")\n",
    "    plt.fill_between(train_sizes, test_scores_mean - test_scores_std, test_scores_mean + test_scores_std, alpha=0.1, color=\"g\")\n",
    "    \n",
    "    # plot the average training and test score lines at each training set size\n",
    "    plt.plot(train_sizes, train_scores_mean, 'o-', color=\"r\", label=\"Training score\")\n",
    "    plt.plot(train_sizes, test_scores_mean, 'o-', color=\"g\", label=\"Cross-validation score\")\n",
    "    \n",
    "    # sizes the window for readability and displays the plot\n",
    "    # shows error from 0 to 1.1\n",
    "    plt.ylim(-.1,1.1)\n",
    "    plt.show()\n",
    "plot_curve()"
   ]
  },
  {
   "cell_type": "code",
   "execution_count": 22,
   "metadata": {
    "executionInfo": {
     "elapsed": 4,
     "status": "ok",
     "timestamp": 1645110380484,
     "user": {
      "displayName": "Rafia Jabbar",
      "photoUrl": "https://lh3.googleusercontent.com/a-/AOh14Gg_1DjP6TxgmdZBWrVUfpmjnjwXkAIoeIdQlLOP=s64",
      "userId": "15947133849312122933"
     },
     "user_tz": -300
    },
    "id": "aoPZmTEY1b0i"
   },
   "outputs": [],
   "source": [
    "from sklearn.metrics import accuracy_score,precision_score,f1_score,recall_score\n",
    "from sklearn.model_selection import cross_val_score\n",
    "from sklearn.metrics import confusion_matrix"
   ]
  },
  {
   "cell_type": "markdown",
   "metadata": {
    "id": "9pGNqRanarp_"
   },
   "source": [
    "## Naive Bayes"
   ]
  },
  {
   "cell_type": "code",
   "execution_count": 23,
   "metadata": {
    "executionInfo": {
     "elapsed": 668,
     "status": "ok",
     "timestamp": 1645110381148,
     "user": {
      "displayName": "Rafia Jabbar",
      "photoUrl": "https://lh3.googleusercontent.com/a-/AOh14Gg_1DjP6TxgmdZBWrVUfpmjnjwXkAIoeIdQlLOP=s64",
      "userId": "15947133849312122933"
     },
     "user_tz": -300
    },
    "id": "JJfkcxJI1y-a"
   },
   "outputs": [],
   "source": [
    "from sklearn.naive_bayes import GaussianNB\n",
    "classifier=GaussianNB()\n",
    "classifier.fit(X_train,y_train)\n",
    "pred=classifier.predict(X_test)\n",
    "dtc_probs = classifier.predict_proba(X_test)\n",
    "dtc_probs=dtc_probs[:,1]"
   ]
  },
  {
   "cell_type": "markdown",
   "metadata": {
    "id": "1m941-PkaumE"
   },
   "source": [
    "## Naive Bayes\n",
    "1. Test Train split Accuracy, precision, recall and f1 score\n",
    "2. F1 Score for 10 Fold Cross Validation"
   ]
  },
  {
   "cell_type": "code",
   "execution_count": 24,
   "metadata": {
    "colab": {
     "base_uri": "https://localhost:8080/"
    },
    "executionInfo": {
     "elapsed": 6,
     "status": "ok",
     "timestamp": 1645110381148,
     "user": {
      "displayName": "Rafia Jabbar",
      "photoUrl": "https://lh3.googleusercontent.com/a-/AOh14Gg_1DjP6TxgmdZBWrVUfpmjnjwXkAIoeIdQlLOP=s64",
      "userId": "15947133849312122933"
     },
     "user_tz": -300
    },
    "id": "DfxLNhy_2Xnb",
    "outputId": "3da500de-bbbb-4584-a412-17300278a99a"
   },
   "outputs": [
    {
     "name": "stdout",
     "output_type": "stream",
     "text": [
      "Complete Dataset Results\n",
      "confusion matrix\n",
      "[[ 473  740]\n",
      " [ 165 1022]]\n",
      "Accuracy score: 0.6229166666666667\n",
      "Precision score: 0.6607010059102117\n",
      "F1 score: 0.6020957025786287\n",
      "Recall score: 0.6254681973092675\n"
     ]
    }
   ],
   "source": [
    "cm=confusion_matrix(y_test,pred)\n",
    "print(\"Complete Dataset Results\")\n",
    "print(\"confusion matrix\")\n",
    "print(cm)\n",
    "acc=accuracy_score(y_test, pred)\n",
    "pr=precision_score(y_test, pred,average='macro')\n",
    "re=recall_score(y_test, pred,average='macro')\n",
    "fs=f1_score(y_test, pred,average='macro')\n",
    "print('Accuracy score: {}'.format(acc))\n",
    "print('Precision score: {}'.format(pr))\n",
    "print('F1 score: {}'.format(fs))\n",
    "print('Recall score: {}'.format(re))"
   ]
  },
  {
   "cell_type": "markdown",
   "metadata": {
    "id": "ZVaszpavaz10"
   },
   "source": [
    "## AUC ROC Curve"
   ]
  },
  {
   "cell_type": "code",
   "execution_count": 25,
   "metadata": {
    "colab": {
     "base_uri": "https://localhost:8080/",
     "height": 297
    },
    "executionInfo": {
     "elapsed": 6,
     "status": "ok",
     "timestamp": 1645110381150,
     "user": {
      "displayName": "Rafia Jabbar",
      "photoUrl": "https://lh3.googleusercontent.com/a-/AOh14Gg_1DjP6TxgmdZBWrVUfpmjnjwXkAIoeIdQlLOP=s64",
      "userId": "15947133849312122933"
     },
     "user_tz": -300
    },
    "id": "A_xLTwWE2aE9",
    "outputId": "222d80aa-3db0-442e-8f8a-7694921eb702"
   },
   "outputs": [
    {
     "name": "stdout",
     "output_type": "stream",
     "text": [
      "Classifier: ROC AUC=0.633\n"
     ]
    },
    {
     "data": {
      "image/png": "[encoded data removed]",
      "text/plain": [
       "<Figure size 432x288 with 1 Axes>"
      ]
     },
     "metadata": {
      "needs_background": "light"
     },
     "output_type": "display_data"
    }
   ],
   "source": [
    "# submission={\n",
    "#     'id':data['id'],\n",
    "#     'target':test_pred,\n",
    "#     'score':dtc_probs,\n",
    "# }\n",
    "\n",
    "# submission=pd.DataFrame(submission)\n",
    "# submission.to_csv(\"subt.csv\")\n",
    "from sklearn.metrics import roc_curve\n",
    "from sklearn.metrics import roc_auc_score\n",
    "from matplotlib import pyplot\n",
    "lr_auc = roc_auc_score(y_test, dtc_probs)\n",
    "# summarize scores\n",
    "print('Classifier: ROC AUC=%.3f' % (lr_auc))\n",
    "# calculate roc curves\n",
    "lr_fpr, lr_tpr, _ = roc_curve(y_test, dtc_probs)\n",
    "# plot the roc curve for the model\n",
    "pyplot.plot(lr_fpr, lr_tpr, 'r',marker='.', label='Naive Bayes')\n",
    "# axis labels\n",
    "pyplot.xlabel('False Positive Rate')\n",
    "pyplot.ylabel('True Positive Rate')\n",
    "# show the legend\n",
    "pyplot.legend()\n",
    "# show the plot\n",
    "pyplot.show()\n",
    "\n",
    "from sklearn.model_selection import KFold\n",
    "from sklearn.neighbors import KNeighborsClassifier\n",
    "import matplotlib.pyplot as plt\n",
    "kf = KFold(n_splits=4)\n",
    "mae_train = []\n",
    "mae_test = []"
   ]
  },
  {
   "cell_type": "markdown",
   "metadata": {
    "id": "4K_F_zWea5BC"
   },
   "source": [
    "## Learning Curve"
   ]
  },
  {
   "cell_type": "code",
   "execution_count": 26,
   "metadata": {
    "colab": {
     "base_uri": "https://localhost:8080/",
     "height": 313
    },
    "executionInfo": {
     "elapsed": 4468,
     "status": "ok",
     "timestamp": 1645110385614,
     "user": {
      "displayName": "Rafia Jabbar",
      "photoUrl": "https://lh3.googleusercontent.com/a-/AOh14Gg_1DjP6TxgmdZBWrVUfpmjnjwXkAIoeIdQlLOP=s64",
      "userId": "15947133849312122933"
     },
     "user_tz": -300
    },
    "id": "8ZdlrRgZ2eiu",
    "outputId": "de6f4370-659e-4188-87f3-a7ccac8f76cf"
   },
   "outputs": [
    {
     "name": "stderr",
     "output_type": "stream",
     "text": [
      "No handles with labels found to put in legend.\n"
     ]
    },
    {
     "data": {
      "image/png": "[encoded data removed]",
      "text/plain": [
       "<Figure size 432x288 with 1 Axes>"
      ]
     },
     "metadata": {
      "needs_background": "light"
     },
     "output_type": "display_data"
    }
   ],
   "source": [
    "# imports\n",
    "from sklearn.model_selection import learning_curve\n",
    "import matplotlib.pyplot as plt\n",
    "import numpy as np\n",
    "def plot_curve():\n",
    "    # instantiate\n",
    "    lg = GaussianNB()\n",
    "\n",
    "    # fit\n",
    "    lg.fit(X_test, y_test)\n",
    "    \n",
    "    \n",
    "    \"\"\"\n",
    "    Generate a simple plot of the test and traning learning curve.\n",
    "\n",
    "    Parameters\n",
    "    ----------\n",
    "    estimator : object type that implements the \"fit\" and \"predict\" methods\n",
    "        An object of that type which is cloned for each validation.\n",
    "\n",
    "    title : string\n",
    "        Title for the chart.\n",
    "\n",
    "    X : array-like, shape (n_samples, n_features)\n",
    "        Training vector, where n_samples is the number of samples and\n",
    "        n_features is the number of features.\n",
    "\n",
    "    y : array-like, shape (n_samples) or (n_samples, n_features), optional\n",
    "        Target relative to X for classification or regression;\n",
    "        None for unsupervised learning.\n",
    "\n",
    "    ylim : tuple, shape (ymin, ymax), optional\n",
    "        Defines minimum and maximum yvalues plotted.\n",
    "\n",
    "    cv : integer, cross-validation generator, optional\n",
    "        If an integer is passed, it is the number of folds (defaults to 3).\n",
    "        Specific cross-validation objects can be passed, see\n",
    "        sklearn.cross_validation module for the list of possible objects\n",
    "\n",
    "    n_jobs : integer, optional\n",
    "        Number of jobs to run in parallel (default 1).\n",
    "        \n",
    "    x1 = np.linspace(0, 10, 8, endpoint=True) produces\n",
    "        8 evenly spaced points in the range 0 to 10\n",
    "    \"\"\"\n",
    "    \n",
    "    train_sizes, train_scores, test_scores = learning_curve(lg, X_test, y_test, n_jobs=-1, cv=10, train_sizes=np.linspace(.1, 1.0, 5), verbose=0)\n",
    "\n",
    "    train_scores_mean = np.mean(train_scores, axis=1)\n",
    "    train_scores_std = np.std(train_scores, axis=1)\n",
    "    test_scores_mean = np.mean(test_scores, axis=1)\n",
    "    test_scores_std = np.std(test_scores, axis=1)\n",
    "    \n",
    "    plt.figure()\n",
    "    plt.title(\"Naive Bayes\")\n",
    "    plt.legend(loc=\"best\")\n",
    "    plt.xlabel(\"Training examples\")\n",
    "    plt.ylabel(\"Score\")\n",
    "    plt.gca().invert_yaxis()\n",
    "    \n",
    "    # box-like grid\n",
    "    plt.grid()\n",
    "    \n",
    "    # plot the std deviation as a transparent range at each training set size\n",
    "    plt.fill_between(train_sizes, train_scores_mean - train_scores_std, train_scores_mean + train_scores_std, alpha=0.1, color=\"r\")\n",
    "    plt.fill_between(train_sizes, test_scores_mean - test_scores_std, test_scores_mean + test_scores_std, alpha=0.1, color=\"g\")\n",
    "    \n",
    "    # plot the average training and test score lines at each training set size\n",
    "    plt.plot(train_sizes, train_scores_mean, 'o-', color=\"r\", label=\"Training score\")\n",
    "    plt.plot(train_sizes, test_scores_mean, 'o-', color=\"g\", label=\"Cross-validation score\")\n",
    "    \n",
    "    # sizes the window for readability and displays the plot\n",
    "    # shows error from 0 to 1.1\n",
    "    plt.ylim(-.1,1.1)\n",
    "    plt.show()\n",
    "plot_curve()"
   ]
  },
  {
   "cell_type": "markdown",
   "metadata": {
    "id": "FHr9h3_Ka_ET"
   },
   "source": [
    "## Random Forest"
   ]
  },
  {
   "cell_type": "code",
   "execution_count": 27,
   "metadata": {
    "executionInfo": {
     "elapsed": 1448,
     "status": "ok",
     "timestamp": 1645110387059,
     "user": {
      "displayName": "Rafia Jabbar",
      "photoUrl": "https://lh3.googleusercontent.com/a-/AOh14Gg_1DjP6TxgmdZBWrVUfpmjnjwXkAIoeIdQlLOP=s64",
      "userId": "15947133849312122933"
     },
     "user_tz": -300
    },
    "id": "zMhdegl06669"
   },
   "outputs": [],
   "source": [
    "from sklearn.ensemble import RandomForestClassifier\n",
    "classifier=RandomForestClassifier()\n",
    "classifier.fit(X_train,y_train)\n",
    "pred=classifier.predict(X_test)\n",
    "dtc_probs = classifier.predict_proba(X_test)\n",
    "dtc_probs=dtc_probs[:,1]"
   ]
  },
  {
   "cell_type": "markdown",
   "metadata": {
    "id": "9FQv9m1AbDCp"
   },
   "source": [
    "## Random Forest\n",
    "1. Test Train split Accuracy, precision, recall and f1 score\n",
    "2. F1 Score for 10 Fold Cross Validation"
   ]
  },
  {
   "cell_type": "code",
   "execution_count": 28,
   "metadata": {
    "colab": {
     "base_uri": "https://localhost:8080/"
    },
    "executionInfo": {
     "elapsed": 756,
     "status": "ok",
     "timestamp": 1645110387812,
     "user": {
      "displayName": "Rafia Jabbar",
      "photoUrl": "https://lh3.googleusercontent.com/a-/AOh14Gg_1DjP6TxgmdZBWrVUfpmjnjwXkAIoeIdQlLOP=s64",
      "userId": "15947133849312122933"
     },
     "user_tz": -300
    },
    "id": "SAwgfrik6-pC",
    "outputId": "42a00339-e8dc-4156-c907-63f9395254fb"
   },
   "outputs": [
    {
     "name": "stdout",
     "output_type": "stream",
     "text": [
      "confusion matrix\n",
      "Complete Dataset Results\n",
      "[[841 372]\n",
      " [456 731]]\n",
      "Accuracy score: 0.655\n",
      "Precision score: 0.6555787083799632\n",
      "F1 score: 0.6542737347553019\n",
      "Recall score: 0.6545802944928953\n"
     ]
    }
   ],
   "source": [
    "cm=confusion_matrix(y_test,pred)\n",
    "print(\"confusion matrix\")\n",
    "print(\"Complete Dataset Results\")\n",
    "print(cm)\n",
    "acc=accuracy_score(y_test, pred)\n",
    "pr=precision_score(y_test, pred,average='macro')\n",
    "re=recall_score(y_test, pred,average='macro')\n",
    "fs=f1_score(y_test, pred,average='macro')\n",
    "print('Accuracy score: {}'.format(acc))\n",
    "print('Precision score: {}'.format(pr))\n",
    "print('F1 score: {}'.format(fs))\n",
    "print('Recall score: {}'.format(re))"
   ]
  },
  {
   "cell_type": "markdown",
   "metadata": {
    "id": "5g2BlTo0bKqS"
   },
   "source": [
    "## AUC ROC Curve"
   ]
  },
  {
   "cell_type": "code",
   "execution_count": 29,
   "metadata": {
    "colab": {
     "base_uri": "https://localhost:8080/",
     "height": 297
    },
    "executionInfo": {
     "elapsed": 6,
     "status": "ok",
     "timestamp": 1645110387813,
     "user": {
      "displayName": "Rafia Jabbar",
      "photoUrl": "https://lh3.googleusercontent.com/a-/AOh14Gg_1DjP6TxgmdZBWrVUfpmjnjwXkAIoeIdQlLOP=s64",
      "userId": "15947133849312122933"
     },
     "user_tz": -300
    },
    "id": "TV2IrHNQ7OP-",
    "outputId": "bcd3a4c8-8cdb-4e0a-ef64-de01e1e385b3"
   },
   "outputs": [
    {
     "name": "stdout",
     "output_type": "stream",
     "text": [
      "Classifier: ROC AUC=0.716\n"
     ]
    },
    {
     "data": {
      "image/png": "[encoded data removed]",
      "text/plain": [
       "<Figure size 432x288 with 1 Axes>"
      ]
     },
     "metadata": {
      "needs_background": "light"
     },
     "output_type": "display_data"
    }
   ],
   "source": [
    "# submission={\n",
    "#     'id':data['id'],\n",
    "#     'target':test_pred,\n",
    "#     'score':dtc_probs,\n",
    "# }\n",
    "\n",
    "# submission=pd.DataFrame(submission)\n",
    "# submission.to_csv(\"subt.csv\")\n",
    "from sklearn.metrics import roc_curve\n",
    "from sklearn.metrics import roc_auc_score\n",
    "from matplotlib import pyplot\n",
    "lr_auc = roc_auc_score(y_test, dtc_probs)\n",
    "# summarize scores\n",
    "print('Classifier: ROC AUC=%.3f' % (lr_auc))\n",
    "# calculate roc curves\n",
    "lr_fpr, lr_tpr, _ = roc_curve(y_test, dtc_probs)\n",
    "# plot the roc curve for the model\n",
    "pyplot.plot(lr_fpr, lr_tpr, 'r',marker='.', label='Random Forest')\n",
    "# axis labels\n",
    "pyplot.xlabel('False Positive Rate')\n",
    "pyplot.ylabel('True Positive Rate')\n",
    "# show the legend\n",
    "pyplot.legend()\n",
    "# show the plot\n",
    "pyplot.show()\n",
    "\n",
    "from sklearn.model_selection import KFold\n",
    "from sklearn.neighbors import KNeighborsClassifier\n",
    "import matplotlib.pyplot as plt\n",
    "kf = KFold(n_splits=4)\n",
    "mae_train = []\n",
    "mae_test = []"
   ]
  },
  {
   "cell_type": "markdown",
   "metadata": {
    "id": "9OfmFlhHbOvk"
   },
   "source": [
    "## Learning Curve"
   ]
  },
  {
   "cell_type": "code",
   "execution_count": 30,
   "metadata": {
    "colab": {
     "base_uri": "https://localhost:8080/",
     "height": 313
    },
    "executionInfo": {
     "elapsed": 58649,
     "status": "ok",
     "timestamp": 1645110446459,
     "user": {
      "displayName": "Rafia Jabbar",
      "photoUrl": "https://lh3.googleusercontent.com/a-/AOh14Gg_1DjP6TxgmdZBWrVUfpmjnjwXkAIoeIdQlLOP=s64",
      "userId": "15947133849312122933"
     },
     "user_tz": -300
    },
    "id": "EeHfKC7a7TCu",
    "outputId": "9cf42778-0883-4582-df9c-1901ff270407"
   },
   "outputs": [
    {
     "name": "stderr",
     "output_type": "stream",
     "text": [
      "No handles with labels found to put in legend.\n"
     ]
    },
    {
     "data": {
      "image/png": "[encoded data removed]",
      "text/plain": [
       "<Figure size 432x288 with 1 Axes>"
      ]
     },
     "metadata": {
      "needs_background": "light"
     },
     "output_type": "display_data"
    }
   ],
   "source": [
    "# imports\n",
    "from sklearn.model_selection import learning_curve\n",
    "import matplotlib.pyplot as plt\n",
    "import numpy as np\n",
    "def plot_curve():\n",
    "    # instantiate\n",
    "    lg = RandomForestClassifier()\n",
    "\n",
    "    # fit\n",
    "    lg.fit(X_test, y_test)\n",
    "    \n",
    "    \n",
    "    \"\"\"\n",
    "    Generate a simple plot of the test and traning learning curve.\n",
    "\n",
    "    Parameters\n",
    "    ----------\n",
    "    estimator : object type that implements the \"fit\" and \"predict\" methods\n",
    "        An object of that type which is cloned for each validation.\n",
    "\n",
    "    title : string\n",
    "        Title for the chart.\n",
    "\n",
    "    X : array-like, shape (n_samples, n_features)\n",
    "        Training vector, where n_samples is the number of samples and\n",
    "        n_features is the number of features.\n",
    "\n",
    "    y : array-like, shape (n_samples) or (n_samples, n_features), optional\n",
    "        Target relative to X for classification or regression;\n",
    "        None for unsupervised learning.\n",
    "\n",
    "    ylim : tuple, shape (ymin, ymax), optional\n",
    "        Defines minimum and maximum yvalues plotted.\n",
    "\n",
    "    cv : integer, cross-validation generator, optional\n",
    "        If an integer is passed, it is the number of folds (defaults to 3).\n",
    "        Specific cross-validation objects can be passed, see\n",
    "        sklearn.cross_validation module for the list of possible objects\n",
    "\n",
    "    n_jobs : integer, optional\n",
    "        Number of jobs to run in parallel (default 1).\n",
    "        \n",
    "    x1 = np.linspace(0, 10, 8, endpoint=True) produces\n",
    "        8 evenly spaced points in the range 0 to 10\n",
    "    \"\"\"\n",
    "    \n",
    "    train_sizes, train_scores, test_scores = learning_curve(lg, X_test, y_test, n_jobs=-1, cv=10, train_sizes=np.linspace(.1, 1.0, 5), verbose=0)\n",
    "\n",
    "    train_scores_mean = np.mean(train_scores, axis=1)\n",
    "    train_scores_std = np.std(train_scores, axis=1)\n",
    "    test_scores_mean = np.mean(test_scores, axis=1)\n",
    "    test_scores_std = np.std(test_scores, axis=1)\n",
    "    \n",
    "    plt.figure()\n",
    "    plt.title(\"Random Forest\")\n",
    "    plt.legend(loc=\"best\")\n",
    "    plt.xlabel(\"Training examples\")\n",
    "    plt.ylabel(\"Score\")\n",
    "    plt.gca().invert_yaxis()\n",
    "    \n",
    "    # box-like grid\n",
    "    plt.grid()\n",
    "    \n",
    "    # plot the std deviation as a transparent range at each training set size\n",
    "    plt.fill_between(train_sizes, train_scores_mean - train_scores_std, train_scores_mean + train_scores_std, alpha=0.1, color=\"r\")\n",
    "    plt.fill_between(train_sizes, test_scores_mean - test_scores_std, test_scores_mean + test_scores_std, alpha=0.1, color=\"g\")\n",
    "    \n",
    "    # plot the average training and test score lines at each training set size\n",
    "    plt.plot(train_sizes, train_scores_mean, 'o-', color=\"r\", label=\"Training score\")\n",
    "    plt.plot(train_sizes, test_scores_mean, 'o-', color=\"g\", label=\"Cross-validation score\")\n",
    "    \n",
    "    # sizes the window for readability and displays the plot\n",
    "    # shows error from 0 to 1.1\n",
    "    plt.ylim(-.1,1.1)\n",
    "    plt.show()\n",
    "plot_curve()"
   ]
  },
  {
   "cell_type": "code",
   "execution_count": 30,
   "metadata": {
    "executionInfo": {
     "elapsed": 5,
     "status": "ok",
     "timestamp": 1645110446459,
     "user": {
      "displayName": "Rafia Jabbar",
      "photoUrl": "https://lh3.googleusercontent.com/a-/AOh14Gg_1DjP6TxgmdZBWrVUfpmjnjwXkAIoeIdQlLOP=s64",
      "userId": "15947133849312122933"
     },
     "user_tz": -300
    },
    "id": "Sa2qnUYlGZtT"
   },
   "outputs": [],
   "source": []
  }
 ],
 "metadata": {
  "colab": {
   "collapsed_sections": [],
   "name": "approach_2_test_classification_70_100_countvectorizer.ipynb",
   "provenance": []
  },
  "kernelspec": {
   "display_name": "Python 3 (ipykernel)",
   "language": "python",
   "name": "python3"
  },
  "language_info": {
   "codemirror_mode": {
    "name": "ipython",
    "version": 3
   },
   "file_extension": ".py",
   "mimetype": "text/x-python",
   "name": "python",
   "nbconvert_exporter": "python",
   "pygments_lexer": "ipython3",
   "version": "3.10.4"
  }
 },
 "nbformat": 4,
 "nbformat_minor": 1
}
