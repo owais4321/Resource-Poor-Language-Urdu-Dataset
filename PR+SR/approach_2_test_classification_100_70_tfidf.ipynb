{
 "cells": [
  {
   "cell_type": "markdown",
   "metadata": {
    "id": "SY5pZ5rLXlyS"
   },
   "source": [
    "**Importing pandas here**"
   ]
  },
  {
   "cell_type": "code",
   "execution_count": 3,
   "metadata": {
    "executionInfo": {
     "elapsed": 395,
     "status": "ok",
     "timestamp": 1645103942019,
     "user": {
      "displayName": "Rafia Jabbar",
      "photoUrl": "https://lh3.googleusercontent.com/a-/AOh14Gg_1DjP6TxgmdZBWrVUfpmjnjwXkAIoeIdQlLOP=s64",
      "userId": "15947133849312122933"
     },
     "user_tz": -300
    },
    "id": "KKrMV7EtNjXc"
   },
   "outputs": [],
   "source": [
    "import pandas as pd"
   ]
  },
  {
   "cell_type": "markdown",
   "metadata": {
    "id": "cLzXltu1XuA7"
   },
   "source": [
    "**Importing dataset and Having a look at dataset**"
   ]
  },
  {
   "cell_type": "code",
   "execution_count": 5,
   "metadata": {
    "colab": {
     "base_uri": "https://localhost:8080/",
     "height": 206
    },
    "executionInfo": {
     "elapsed": 1212,
     "status": "ok",
     "timestamp": 1645103946751,
     "user": {
      "displayName": "Rafia Jabbar",
      "photoUrl": "https://lh3.googleusercontent.com/a-/AOh14Gg_1DjP6TxgmdZBWrVUfpmjnjwXkAIoeIdQlLOP=s64",
      "userId": "15947133849312122933"
     },
     "user_tz": -300
    },
    "id": "BNRbAmEQNuh9",
    "outputId": "cc7f611b-081e-4e2d-adf9-312fed88f686"
   },
   "outputs": [
    {
     "data": {
      "text/html": [
       "\n",
       "  <div id=\"df-7efb643b-5843-465b-a969-7d38cf3ba317\">\n",
       "    <div class=\"colab-df-container\">\n",
       "      <div>\n",
       "<style scoped>\n",
       "    .dataframe tbody tr th:only-of-type {\n",
       "        vertical-align: middle;\n",
       "    }\n",
       "\n",
       "    .dataframe tbody tr th {\n",
       "        vertical-align: top;\n",
       "    }\n",
       "\n",
       "    .dataframe thead th {\n",
       "        text-align: right;\n",
       "    }\n",
       "</style>\n",
       "<table border=\"1\" class=\"dataframe\">\n",
       "  <thead>\n",
       "    <tr style=\"text-align: right;\">\n",
       "      <th></th>\n",
       "      <th>tweet</th>\n",
       "      <th>target</th>\n",
       "    </tr>\n",
       "  </thead>\n",
       "  <tbody>\n",
       "    <tr>\n",
       "      <th>0</th>\n",
       "      <td>قوم کے لیے پرانے خاندانی نمک حرام ہیں</td>\n",
       "      <td>1</td>\n",
       "    </tr>\n",
       "    <tr>\n",
       "      <th>1</th>\n",
       "      <td>اور پھر بھی ان خنزیروں کو بغض نواز میں سپورٹ ک...</td>\n",
       "      <td>0</td>\n",
       "    </tr>\n",
       "    <tr>\n",
       "      <th>2</th>\n",
       "      <td>پاکستان کے قبضے میں اسرائیلی پائلٹ ہے۔</td>\n",
       "      <td>0</td>\n",
       "    </tr>\n",
       "    <tr>\n",
       "      <th>3</th>\n",
       "      <td>اور نواز شریف کا نواسہ مستقبل کا وزیر اعظم</td>\n",
       "      <td>0</td>\n",
       "    </tr>\n",
       "    <tr>\n",
       "      <th>4</th>\n",
       "      <td>صرف ٹویٹر پہ بکواس کرنا ہی آسان ہے</td>\n",
       "      <td>0</td>\n",
       "    </tr>\n",
       "  </tbody>\n",
       "</table>\n",
       "</div>\n",
       "      <button class=\"colab-df-convert\" onclick=\"convertToInteractive('df-7efb643b-5843-465b-a969-7d38cf3ba317')\"\n",
       "              title=\"Convert this dataframe to an interactive table.\"\n",
       "              style=\"display:none;\">\n",
       "        \n",
       "  <svg xmlns=\"http://www.w3.org/2000/svg\" height=\"24px\"viewBox=\"0 0 24 24\"\n",
       "       width=\"24px\">\n",
       "    <path d=\"M0 0h24v24H0V0z\" fill=\"none\"/>\n",
       "    <path d=\"M18.56 5.44l.94 2.06.94-2.06 2.06-.94-2.06-.94-.94-2.06-.94 2.06-2.06.94zm-11 1L8.5 8.5l.94-2.06 2.06-.94-2.06-.94L8.5 2.5l-.94 2.06-2.06.94zm10 10l.94 2.06.94-2.06 2.06-.94-2.06-.94-.94-2.06-.94 2.06-2.06.94z\"/><path d=\"M17.41 7.96l-1.37-1.37c-.4-.4-.92-.59-1.43-.59-.52 0-1.04.2-1.43.59L10.3 9.45l-7.72 7.72c-.78.78-.78 2.05 0 2.83L4 21.41c.39.39.9.59 1.41.59.51 0 1.02-.2 1.41-.59l7.78-7.78 2.81-2.81c.8-.78.8-2.07 0-2.86zM5.41 20L4 18.59l7.72-7.72 1.47 1.35L5.41 20z\"/>\n",
       "  </svg>\n",
       "      </button>\n",
       "      \n",
       "  <style>\n",
       "    .colab-df-container {\n",
       "      display:flex;\n",
       "      flex-wrap:wrap;\n",
       "      gap: 12px;\n",
       "    }\n",
       "\n",
       "    .colab-df-convert {\n",
       "      background-color: #E8F0FE;\n",
       "      border: none;\n",
       "      border-radius: 50%;\n",
       "      cursor: pointer;\n",
       "      display: none;\n",
       "      fill: #1967D2;\n",
       "      height: 32px;\n",
       "      padding: 0 0 0 0;\n",
       "      width: 32px;\n",
       "    }\n",
       "\n",
       "    .colab-df-convert:hover {\n",
       "      background-color: #E2EBFA;\n",
       "      box-shadow: 0px 1px 2px rgba(60, 64, 67, 0.3), 0px 1px 3px 1px rgba(60, 64, 67, 0.15);\n",
       "      fill: #174EA6;\n",
       "    }\n",
       "\n",
       "    [theme=dark] .colab-df-convert {\n",
       "      background-color: #3B4455;\n",
       "      fill: #D2E3FC;\n",
       "    }\n",
       "\n",
       "    [theme=dark] .colab-df-convert:hover {\n",
       "      background-color: #434B5C;\n",
       "      box-shadow: 0px 1px 3px 1px rgba(0, 0, 0, 0.15);\n",
       "      filter: drop-shadow(0px 1px 2px rgba(0, 0, 0, 0.3));\n",
       "      fill: #FFFFFF;\n",
       "    }\n",
       "  </style>\n",
       "\n",
       "      <script>\n",
       "        const buttonEl =\n",
       "          document.querySelector('#df-7efb643b-5843-465b-a969-7d38cf3ba317 button.colab-df-convert');\n",
       "        buttonEl.style.display =\n",
       "          google.colab.kernel.accessAllowed ? 'block' : 'none';\n",
       "\n",
       "        async function convertToInteractive(key) {\n",
       "          const element = document.querySelector('#df-7efb643b-5843-465b-a969-7d38cf3ba317');\n",
       "          const dataTable =\n",
       "            await google.colab.kernel.invokeFunction('convertToInteractive',\n",
       "                                                     [key], {});\n",
       "          if (!dataTable) return;\n",
       "\n",
       "          const docLinkHtml = 'Like what you see? Visit the ' +\n",
       "            '<a target=\"_blank\" href=https://colab.research.google.com/notebooks/data_table.ipynb>data table notebook</a>'\n",
       "            + ' to learn more about interactive tables.';\n",
       "          element.innerHTML = '';\n",
       "          dataTable['output_type'] = 'display_data';\n",
       "          await google.colab.output.renderOutput(dataTable, element);\n",
       "          const docLink = document.createElement('div');\n",
       "          docLink.innerHTML = docLinkHtml;\n",
       "          element.appendChild(docLink);\n",
       "        }\n",
       "      </script>\n",
       "    </div>\n",
       "  </div>\n",
       "  "
      ],
      "text/plain": [
       "                                               tweet  target\n",
       "0             قوم کے لیے پرانے خاندانی نمک حرام ہیں        1\n",
       "1  اور پھر بھی ان خنزیروں کو بغض نواز میں سپورٹ ک...       0\n",
       "2             پاکستان کے قبضے میں اسرائیلی پائلٹ ہے۔       0\n",
       "3        اور نواز شریف کا نواسہ مستقبل کا وزیر اعظم        0\n",
       "4                صرف ٹویٹر پہ بکواس کرنا ہی آسان ہے        0"
      ]
     },
     "execution_count": 5,
     "metadata": {},
     "output_type": "execute_result"
    }
   ],
   "source": [
    "train=pd.read_csv(\"Dataset 2.csv\")\n",
    "test=pd.read_csv(\"Dataset 1.csv\")\n",
    "stopw=pd.read_csv(\"Stopword.csv\")\n",
    "test=test[['tweet','target']]\n",
    "test.head()"
   ]
  },
  {
   "cell_type": "markdown",
   "metadata": {
    "id": "RYHGQGOlX4vD"
   },
   "source": [
    "### Dataset Cleaning process\n",
    "1. Remove Missing values"
   ]
  },
  {
   "cell_type": "code",
   "execution_count": 6,
   "metadata": {
    "colab": {
     "base_uri": "https://localhost:8080/"
    },
    "executionInfo": {
     "elapsed": 11,
     "status": "ok",
     "timestamp": 1645103946752,
     "user": {
      "displayName": "Rafia Jabbar",
      "photoUrl": "https://lh3.googleusercontent.com/a-/AOh14Gg_1DjP6TxgmdZBWrVUfpmjnjwXkAIoeIdQlLOP=s64",
      "userId": "15947133849312122933"
     },
     "user_tz": -300
    },
    "id": "MdiOuDZ2N_SN",
    "outputId": "69612d4a-7988-4157-d0ba-980106d85b5e"
   },
   "outputs": [
    {
     "name": "stdout",
     "output_type": "stream",
     "text": [
      "1    1108\n",
      "0    1062\n",
      "Name: target, dtype: int64\n",
      "0    1213\n",
      "1    1187\n",
      "Name: target, dtype: int64\n"
     ]
    },
    {
     "name": "stderr",
     "output_type": "stream",
     "text": [
      "/usr/local/lib/python3.7/dist-packages/pandas/core/frame.py:5244: SettingWithCopyWarning: \n",
      "A value is trying to be set on a copy of a slice from a DataFrame\n",
      "\n",
      "See the caveats in the documentation: https://pandas.pydata.org/pandas-docs/stable/user_guide/indexing.html#returning-a-view-versus-a-copy\n",
      "  method=method,\n",
      "/usr/local/lib/python3.7/dist-packages/pandas/util/_decorators.py:311: SettingWithCopyWarning: \n",
      "A value is trying to be set on a copy of a slice from a DataFrame\n",
      "\n",
      "See the caveats in the documentation: https://pandas.pydata.org/pandas-docs/stable/user_guide/indexing.html#returning-a-view-versus-a-copy\n",
      "  return func(*args, **kwargs)\n"
     ]
    }
   ],
   "source": [
    "nan_value = float(\"NaN\")\n",
    "train.replace(\"\", nan_value, inplace=True)\n",
    "train.dropna(subset = [\"tweet\"], inplace=True)\n",
    "train.tail()\n",
    "print(train['target'].value_counts())\n",
    "nan_value = float(\"NaN\")\n",
    "test.replace(\"\", nan_value, inplace=True)\n",
    "test.dropna(subset = [\"tweet\"], inplace=True)\n",
    "test.tail()\n",
    "print(test['target'].value_counts())"
   ]
  },
  {
   "cell_type": "markdown",
   "metadata": {
    "id": "RIHQXJa9YHht"
   },
   "source": [
    "### Dataset Cleaning process\n",
    "2. Acquring Stopwords"
   ]
  },
  {
   "cell_type": "code",
   "execution_count": 7,
   "metadata": {
    "executionInfo": {
     "elapsed": 7,
     "status": "ok",
     "timestamp": 1645103946753,
     "user": {
      "displayName": "Rafia Jabbar",
      "photoUrl": "https://lh3.googleusercontent.com/a-/AOh14Gg_1DjP6TxgmdZBWrVUfpmjnjwXkAIoeIdQlLOP=s64",
      "userId": "15947133849312122933"
     },
     "user_tz": -300
    },
    "id": "E-PhNvnbN_9X"
   },
   "outputs": [],
   "source": [
    "stopwords=[]\n",
    "for i in (stopw['Stopwords']):\n",
    "    stopwords.append(i)"
   ]
  },
  {
   "cell_type": "markdown",
   "metadata": {
    "id": "icHw-ILnYQfr"
   },
   "source": [
    "### Dataset Cleaning process\n",
    "1. Remove Missing values\n",
    "2. Tokenization\n",
    "3. Cleaning Extra Characters\n",
    "4. Removal of Stopwords"
   ]
  },
  {
   "cell_type": "code",
   "execution_count": 8,
   "metadata": {
    "colab": {
     "base_uri": "https://localhost:8080/"
    },
    "executionInfo": {
     "elapsed": 59723,
     "status": "ok",
     "timestamp": 1645104006469,
     "user": {
      "displayName": "Rafia Jabbar",
      "photoUrl": "https://lh3.googleusercontent.com/a-/AOh14Gg_1DjP6TxgmdZBWrVUfpmjnjwXkAIoeIdQlLOP=s64",
      "userId": "15947133849312122933"
     },
     "user_tz": -300
    },
    "id": "J1gllJLaf1hN",
    "outputId": "d1a45ba1-251d-4020-9708-2a5084ff036c"
   },
   "outputs": [
    {
     "name": "stdout",
     "output_type": "stream",
     "text": [
      "Collecting urduhack[tf-gpu]\n",
      "  Downloading urduhack-1.1.1-py3-none-any.whl (105 kB)\n",
      "\u001b[?25l\r",
      "\u001b[K     |███                             | 10 kB 18.6 MB/s eta 0:00:01\r",
      "\u001b[K     |██████▏                         | 20 kB 12.2 MB/s eta 0:00:01\r",
      "\u001b[K     |█████████▎                      | 30 kB 9.5 MB/s eta 0:00:01\r",
      "\u001b[K     |████████████▍                   | 40 kB 8.6 MB/s eta 0:00:01\r",
      "\u001b[K     |███████████████▌                | 51 kB 4.4 MB/s eta 0:00:01\r",
      "\u001b[K     |██████████████████▋             | 61 kB 5.2 MB/s eta 0:00:01\r",
      "\u001b[K     |█████████████████████▊          | 71 kB 5.7 MB/s eta 0:00:01\r",
      "\u001b[K     |████████████████████████▉       | 81 kB 5.9 MB/s eta 0:00:01\r",
      "\u001b[K     |████████████████████████████    | 92 kB 6.5 MB/s eta 0:00:01\r",
      "\u001b[K     |███████████████████████████████ | 102 kB 5.5 MB/s eta 0:00:01\r",
      "\u001b[K     |████████████████████████████████| 105 kB 5.5 MB/s \n",
      "\u001b[?25hRequirement already satisfied: regex in /usr/local/lib/python3.7/dist-packages (from urduhack[tf-gpu]) (2019.12.20)\n",
      "Requirement already satisfied: Click~=7.1 in /usr/local/lib/python3.7/dist-packages (from urduhack[tf-gpu]) (7.1.2)\n",
      "Collecting tensorflow-datasets~=3.1\n",
      "  Downloading tensorflow_datasets-3.2.1-py3-none-any.whl (3.4 MB)\n",
      "\u001b[K     |████████████████████████████████| 3.4 MB 38.6 MB/s \n",
      "\u001b[?25hCollecting tf2crf\n",
      "  Downloading tf2crf-0.1.33-py2.py3-none-any.whl (7.3 kB)\n",
      "Collecting tensorflow-gpu~=2.2\n",
      "  Downloading tensorflow_gpu-2.8.0-cp37-cp37m-manylinux2010_x86_64.whl (497.5 MB)\n",
      "\u001b[K     |████████████████████████████████| 497.5 MB 25 kB/s \n",
      "\u001b[?25hRequirement already satisfied: wrapt in /usr/local/lib/python3.7/dist-packages (from tensorflow-datasets~=3.1->urduhack[tf-gpu]) (1.13.3)\n",
      "Requirement already satisfied: future in /usr/local/lib/python3.7/dist-packages (from tensorflow-datasets~=3.1->urduhack[tf-gpu]) (0.16.0)\n",
      "Requirement already satisfied: attrs>=18.1.0 in /usr/local/lib/python3.7/dist-packages (from tensorflow-datasets~=3.1->urduhack[tf-gpu]) (21.4.0)\n",
      "Requirement already satisfied: tensorflow-metadata in /usr/local/lib/python3.7/dist-packages (from tensorflow-datasets~=3.1->urduhack[tf-gpu]) (1.6.0)\n",
      "Requirement already satisfied: dill in /usr/local/lib/python3.7/dist-packages (from tensorflow-datasets~=3.1->urduhack[tf-gpu]) (0.3.4)\n",
      "Requirement already satisfied: termcolor in /usr/local/lib/python3.7/dist-packages (from tensorflow-datasets~=3.1->urduhack[tf-gpu]) (1.1.0)\n",
      "Requirement already satisfied: requests>=2.19.0 in /usr/local/lib/python3.7/dist-packages (from tensorflow-datasets~=3.1->urduhack[tf-gpu]) (2.23.0)\n",
      "Requirement already satisfied: numpy in /usr/local/lib/python3.7/dist-packages (from tensorflow-datasets~=3.1->urduhack[tf-gpu]) (1.21.5)\n",
      "Requirement already satisfied: promise in /usr/local/lib/python3.7/dist-packages (from tensorflow-datasets~=3.1->urduhack[tf-gpu]) (2.3)\n",
      "Requirement already satisfied: absl-py in /usr/local/lib/python3.7/dist-packages (from tensorflow-datasets~=3.1->urduhack[tf-gpu]) (1.0.0)\n",
      "Requirement already satisfied: tqdm in /usr/local/lib/python3.7/dist-packages (from tensorflow-datasets~=3.1->urduhack[tf-gpu]) (4.62.3)\n",
      "Requirement already satisfied: six in /usr/local/lib/python3.7/dist-packages (from tensorflow-datasets~=3.1->urduhack[tf-gpu]) (1.15.0)\n",
      "Requirement already satisfied: protobuf>=3.6.1 in /usr/local/lib/python3.7/dist-packages (from tensorflow-datasets~=3.1->urduhack[tf-gpu]) (3.17.3)\n",
      "Requirement already satisfied: chardet<4,>=3.0.2 in /usr/local/lib/python3.7/dist-packages (from requests>=2.19.0->tensorflow-datasets~=3.1->urduhack[tf-gpu]) (3.0.4)\n",
      "Requirement already satisfied: urllib3!=1.25.0,!=1.25.1,<1.26,>=1.21.1 in /usr/local/lib/python3.7/dist-packages (from requests>=2.19.0->tensorflow-datasets~=3.1->urduhack[tf-gpu]) (1.24.3)\n",
      "Requirement already satisfied: certifi>=2017.4.17 in /usr/local/lib/python3.7/dist-packages (from requests>=2.19.0->tensorflow-datasets~=3.1->urduhack[tf-gpu]) (2021.10.8)\n",
      "Requirement already satisfied: idna<3,>=2.5 in /usr/local/lib/python3.7/dist-packages (from requests>=2.19.0->tensorflow-datasets~=3.1->urduhack[tf-gpu]) (2.10)\n",
      "Requirement already satisfied: typing-extensions>=3.6.6 in /usr/local/lib/python3.7/dist-packages (from tensorflow-gpu~=2.2->urduhack[tf-gpu]) (3.10.0.2)\n",
      "Requirement already satisfied: opt-einsum>=2.3.2 in /usr/local/lib/python3.7/dist-packages (from tensorflow-gpu~=2.2->urduhack[tf-gpu]) (3.3.0)\n",
      "Requirement already satisfied: tensorboard<2.9,>=2.8 in /usr/local/lib/python3.7/dist-packages (from tensorflow-gpu~=2.2->urduhack[tf-gpu]) (2.8.0)\n",
      "Requirement already satisfied: h5py>=2.9.0 in /usr/local/lib/python3.7/dist-packages (from tensorflow-gpu~=2.2->urduhack[tf-gpu]) (3.1.0)\n",
      "Requirement already satisfied: tensorflow-io-gcs-filesystem>=0.23.1 in /usr/local/lib/python3.7/dist-packages (from tensorflow-gpu~=2.2->urduhack[tf-gpu]) (0.24.0)\n",
      "Requirement already satisfied: flatbuffers>=1.12 in /usr/local/lib/python3.7/dist-packages (from tensorflow-gpu~=2.2->urduhack[tf-gpu]) (2.0)\n",
      "Requirement already satisfied: grpcio<2.0,>=1.24.3 in /usr/local/lib/python3.7/dist-packages (from tensorflow-gpu~=2.2->urduhack[tf-gpu]) (1.43.0)\n",
      "Requirement already satisfied: astunparse>=1.6.0 in /usr/local/lib/python3.7/dist-packages (from tensorflow-gpu~=2.2->urduhack[tf-gpu]) (1.6.3)\n",
      "Requirement already satisfied: gast>=0.2.1 in /usr/local/lib/python3.7/dist-packages (from tensorflow-gpu~=2.2->urduhack[tf-gpu]) (0.5.3)\n",
      "Requirement already satisfied: libclang>=9.0.1 in /usr/local/lib/python3.7/dist-packages (from tensorflow-gpu~=2.2->urduhack[tf-gpu]) (13.0.0)\n",
      "Requirement already satisfied: google-pasta>=0.1.1 in /usr/local/lib/python3.7/dist-packages (from tensorflow-gpu~=2.2->urduhack[tf-gpu]) (0.2.0)\n",
      "Requirement already satisfied: keras<2.9,>=2.8.0rc0 in /usr/local/lib/python3.7/dist-packages (from tensorflow-gpu~=2.2->urduhack[tf-gpu]) (2.8.0)\n",
      "Collecting tf-estimator-nightly==2.8.0.dev2021122109\n",
      "  Downloading tf_estimator_nightly-2.8.0.dev2021122109-py2.py3-none-any.whl (462 kB)\n",
      "\u001b[K     |████████████████████████████████| 462 kB 67.4 MB/s \n",
      "\u001b[?25hRequirement already satisfied: keras-preprocessing>=1.1.1 in /usr/local/lib/python3.7/dist-packages (from tensorflow-gpu~=2.2->urduhack[tf-gpu]) (1.1.2)\n",
      "Requirement already satisfied: setuptools in /usr/local/lib/python3.7/dist-packages (from tensorflow-gpu~=2.2->urduhack[tf-gpu]) (57.4.0)\n",
      "Requirement already satisfied: wheel<1.0,>=0.23.0 in /usr/local/lib/python3.7/dist-packages (from astunparse>=1.6.0->tensorflow-gpu~=2.2->urduhack[tf-gpu]) (0.37.1)\n",
      "Requirement already satisfied: cached-property in /usr/local/lib/python3.7/dist-packages (from h5py>=2.9.0->tensorflow-gpu~=2.2->urduhack[tf-gpu]) (1.5.2)\n",
      "Requirement already satisfied: werkzeug>=0.11.15 in /usr/local/lib/python3.7/dist-packages (from tensorboard<2.9,>=2.8->tensorflow-gpu~=2.2->urduhack[tf-gpu]) (1.0.1)\n",
      "Requirement already satisfied: google-auth<3,>=1.6.3 in /usr/local/lib/python3.7/dist-packages (from tensorboard<2.9,>=2.8->tensorflow-gpu~=2.2->urduhack[tf-gpu]) (1.35.0)\n",
      "Requirement already satisfied: tensorboard-data-server<0.7.0,>=0.6.0 in /usr/local/lib/python3.7/dist-packages (from tensorboard<2.9,>=2.8->tensorflow-gpu~=2.2->urduhack[tf-gpu]) (0.6.1)\n",
      "Requirement already satisfied: markdown>=2.6.8 in /usr/local/lib/python3.7/dist-packages (from tensorboard<2.9,>=2.8->tensorflow-gpu~=2.2->urduhack[tf-gpu]) (3.3.6)\n",
      "Requirement already satisfied: google-auth-oauthlib<0.5,>=0.4.1 in /usr/local/lib/python3.7/dist-packages (from tensorboard<2.9,>=2.8->tensorflow-gpu~=2.2->urduhack[tf-gpu]) (0.4.6)\n",
      "Requirement already satisfied: tensorboard-plugin-wit>=1.6.0 in /usr/local/lib/python3.7/dist-packages (from tensorboard<2.9,>=2.8->tensorflow-gpu~=2.2->urduhack[tf-gpu]) (1.8.1)\n",
      "Requirement already satisfied: pyasn1-modules>=0.2.1 in /usr/local/lib/python3.7/dist-packages (from google-auth<3,>=1.6.3->tensorboard<2.9,>=2.8->tensorflow-gpu~=2.2->urduhack[tf-gpu]) (0.2.8)\n",
      "Requirement already satisfied: rsa<5,>=3.1.4 in /usr/local/lib/python3.7/dist-packages (from google-auth<3,>=1.6.3->tensorboard<2.9,>=2.8->tensorflow-gpu~=2.2->urduhack[tf-gpu]) (4.8)\n",
      "Requirement already satisfied: cachetools<5.0,>=2.0.0 in /usr/local/lib/python3.7/dist-packages (from google-auth<3,>=1.6.3->tensorboard<2.9,>=2.8->tensorflow-gpu~=2.2->urduhack[tf-gpu]) (4.2.4)\n",
      "Requirement already satisfied: requests-oauthlib>=0.7.0 in /usr/local/lib/python3.7/dist-packages (from google-auth-oauthlib<0.5,>=0.4.1->tensorboard<2.9,>=2.8->tensorflow-gpu~=2.2->urduhack[tf-gpu]) (1.3.1)\n",
      "Requirement already satisfied: importlib-metadata>=4.4 in /usr/local/lib/python3.7/dist-packages (from markdown>=2.6.8->tensorboard<2.9,>=2.8->tensorflow-gpu~=2.2->urduhack[tf-gpu]) (4.11.0)\n",
      "Requirement already satisfied: zipp>=0.5 in /usr/local/lib/python3.7/dist-packages (from importlib-metadata>=4.4->markdown>=2.6.8->tensorboard<2.9,>=2.8->tensorflow-gpu~=2.2->urduhack[tf-gpu]) (3.7.0)\n",
      "Requirement already satisfied: pyasn1<0.5.0,>=0.4.6 in /usr/local/lib/python3.7/dist-packages (from pyasn1-modules>=0.2.1->google-auth<3,>=1.6.3->tensorboard<2.9,>=2.8->tensorflow-gpu~=2.2->urduhack[tf-gpu]) (0.4.8)\n",
      "Requirement already satisfied: oauthlib>=3.0.0 in /usr/local/lib/python3.7/dist-packages (from requests-oauthlib>=0.7.0->google-auth-oauthlib<0.5,>=0.4.1->tensorboard<2.9,>=2.8->tensorflow-gpu~=2.2->urduhack[tf-gpu]) (3.2.0)\n",
      "Requirement already satisfied: googleapis-common-protos<2,>=1.52.0 in /usr/local/lib/python3.7/dist-packages (from tensorflow-metadata->tensorflow-datasets~=3.1->urduhack[tf-gpu]) (1.54.0)\n",
      "Requirement already satisfied: tensorflow>=2.1.0 in /usr/local/lib/python3.7/dist-packages (from tf2crf->urduhack[tf-gpu]) (2.8.0)\n",
      "Collecting tensorflow-addons>=0.8.2\n",
      "  Downloading tensorflow_addons-0.16.1-cp37-cp37m-manylinux_2_12_x86_64.manylinux2010_x86_64.whl (1.1 MB)\n",
      "\u001b[K     |████████████████████████████████| 1.1 MB 44.2 MB/s \n",
      "\u001b[?25hRequirement already satisfied: typeguard>=2.7 in /usr/local/lib/python3.7/dist-packages (from tensorflow-addons>=0.8.2->tf2crf->urduhack[tf-gpu]) (2.7.1)\n",
      "Installing collected packages: tf-estimator-nightly, tensorflow-addons, tf2crf, tensorflow-datasets, urduhack, tensorflow-gpu\n",
      "  Attempting uninstall: tensorflow-datasets\n",
      "    Found existing installation: tensorflow-datasets 4.0.1\n",
      "    Uninstalling tensorflow-datasets-4.0.1:\n",
      "      Successfully uninstalled tensorflow-datasets-4.0.1\n",
      "Successfully installed tensorflow-addons-0.16.1 tensorflow-datasets-3.2.1 tensorflow-gpu-2.8.0 tf-estimator-nightly-2.8.0.dev2021122109 tf2crf-0.1.33 urduhack-1.1.1\n"
     ]
    }
   ],
   "source": [
    "!pip install urduhack[tf-gpu]"
   ]
  },
  {
   "cell_type": "code",
   "execution_count": 9,
   "metadata": {
    "executionInfo": {
     "elapsed": 3770,
     "status": "ok",
     "timestamp": 1645104010223,
     "user": {
      "displayName": "Rafia Jabbar",
      "photoUrl": "https://lh3.googleusercontent.com/a-/AOh14Gg_1DjP6TxgmdZBWrVUfpmjnjwXkAIoeIdQlLOP=s64",
      "userId": "15947133849312122933"
     },
     "user_tz": -300
    },
    "id": "T0dcrZRyOOlx"
   },
   "outputs": [],
   "source": [
    "from urduhack.preprocessing import remove_punctuation\n",
    "tain_corpus=[]\n",
    "for i in (train['tweet']):\n",
    "        i=remove_punctuation(i)\n",
    "        review=i.split()\n",
    "        review=[word for word in review if word not in stopwords]\n",
    "        review=' '.join(review)\n",
    "        tain_corpus.append(review)\n",
    "test_corpus=[]\n",
    "for i in (test['tweet']):\n",
    "        i=remove_punctuation(i)\n",
    "        review=i.split()\n",
    "        review=[word for word in review if word not in stopwords]\n",
    "        review=' '.join(review)\n",
    "        test_corpus.append(review)"
   ]
  },
  {
   "cell_type": "markdown",
   "metadata": {
    "id": "e66VhtyrYbeB"
   },
   "source": [
    "### Feature Extraction\n",
    "1. **TFIDF** Term Frequency Inverse Document Frequencey\n",
    "2. Looking at vocubalary"
   ]
  },
  {
   "cell_type": "code",
   "execution_count": 10,
   "metadata": {
    "colab": {
     "base_uri": "https://localhost:8080/"
    },
    "executionInfo": {
     "elapsed": 475,
     "status": "ok",
     "timestamp": 1645104010684,
     "user": {
      "displayName": "Rafia Jabbar",
      "photoUrl": "https://lh3.googleusercontent.com/a-/AOh14Gg_1DjP6TxgmdZBWrVUfpmjnjwXkAIoeIdQlLOP=s64",
      "userId": "15947133849312122933"
     },
     "user_tz": -300
    },
    "id": "naeZEYaROW73",
    "outputId": "a2322f0d-cae8-4e2d-eef9-183a72b22c4c"
   },
   "outputs": [
    {
     "data": {
      "text/plain": [
       "{'شام': 1048,\n",
       " 'دلے': 724,\n",
       " 'جواب': 602,\n",
       " 'گانڈ': 2282,\n",
       " 'مار': 1319,\n",
       " 'چوتیوں': 1924,\n",
       " 'کنسرٹ': 2164,\n",
       " 'کینسل': 2259,\n",
       " 'ہاتھ': 2377,\n",
       " 'ڈال': 2012,\n",
       " 'انتڑیاں': 149,\n",
       " 'نکالے': 1552,\n",
       " 'سکی': 1012,\n",
       " 'اچھی': 210,\n",
       " 'ویڈیو': 1627,\n",
       " 'برا': 304,\n",
       " 'مزاق': 1389,\n",
       " 'اتنی': 82,\n",
       " 'بھائی': 411,\n",
       " 'شادی': 1047,\n",
       " 'جملے': 594,\n",
       " 'قابل': 1202,\n",
       " 'لوڑا': 1259,\n",
       " 'آگیا': 66,\n",
       " 'للی': 1237,\n",
       " 'ٹوپا': 1654,\n",
       " 'زور': 881,\n",
       " 'لگائے': 1290,\n",
       " 'بند': 354,\n",
       " 'کروانےمیں': 2116,\n",
       " 'چوتیا': 1914,\n",
       " 'دکی': 748,\n",
       " 'بین': 466,\n",
       " 'ابرار': 72,\n",
       " 'ہندو': 2408,\n",
       " 'کلچر': 2138,\n",
       " 'بکواس': 407,\n",
       " 'بناتے': 344,\n",
       " 'لوگ': 1266,\n",
       " 'ابلیس': 73,\n",
       " 'اوئے': 180,\n",
       " 'نازک': 1511,\n",
       " 'صورتحال': 1098,\n",
       " 'فر': 1165,\n",
       " 'ابیلس': 76,\n",
       " 'اچھا': 206,\n",
       " 'نام': 1514,\n",
       " 'نئی': 1502,\n",
       " 'دیکھو': 781,\n",
       " 'ڈنڈا': 2035,\n",
       " 'کینیڈا': 2261,\n",
       " 'اوقات': 185,\n",
       " 'بھول': 430,\n",
       " 'سالے': 905,\n",
       " 'اردو': 101,\n",
       " 'بولنی': 375,\n",
       " 'گانڈو': 2286,\n",
       " 'بہن': 457,\n",
       " 'لوڑے': 1263,\n",
       " 'ہا': 2372,\n",
       " 'حچاب': 665,\n",
       " 'چوتیاپا': 1917,\n",
       " 'بنا': 334,\n",
       " 'کراور': 2089,\n",
       " 'شہرت': 1086,\n",
       " 'ملے': 1440,\n",
       " 'ہوگا': 2421,\n",
       " 'ملا': 1427,\n",
       " 'بھڑوے': 440,\n",
       " 'بچے': 396,\n",
       " 'تیل': 554,\n",
       " 'بوتل': 366,\n",
       " 'ماں': 1345,\n",
       " 'ویسے': 1615,\n",
       " 'معزز': 1421,\n",
       " 'حجاب': 644,\n",
       " 'گالیاں': 2277,\n",
       " 'رنڈی': 826,\n",
       " 'صیح': 1099,\n",
       " 'بےعزت': 483,\n",
       " 'پیسے': 1842,\n",
       " 'چلے': 1904,\n",
       " 'سبسکرائب': 912,\n",
       " 'پیج': 1834,\n",
       " 'پردیسی': 1722,\n",
       " 'لڑکی': 1274,\n",
       " 'دیکھی': 784,\n",
       " 'دنچک': 729,\n",
       " 'پوجا': 1757,\n",
       " 'ابھیشیک': 75,\n",
       " 'وقت': 1605,\n",
       " 'مرا': 1372,\n",
       " 'چینل': 2004,\n",
       " 'دیکھ': 769,\n",
       " 'لینا': 1304,\n",
       " 'ابے': 77,\n",
       " 'جھوٹے': 623,\n",
       " 'چوت': 1909,\n",
       " 'دفعہ': 717,\n",
       " 'آپس': 54,\n",
       " 'بات': 258,\n",
       " 'بار': 265,\n",
       " 'کام': 2066,\n",
       " 'اعلی': 124,\n",
       " 'چود': 1930,\n",
       " 'کروانے': 2115,\n",
       " 'لعنت': 1235,\n",
       " 'بھوسڑی': 427,\n",
       " 'آئینہ': 7,\n",
       " 'شکل': 1084,\n",
       " 'ٹٹی': 1661,\n",
       " 'شوق': 1073,\n",
       " 'بال': 276,\n",
       " 'ووڈ': 1609,\n",
       " 'انڈیا': 172,\n",
       " 'ردعمل': 818,\n",
       " 'چاہیے': 1878,\n",
       " 'فراگی': 1171,\n",
       " 'مشہور': 1413,\n",
       " 'حرکتیں': 651,\n",
       " 'پھاڑ': 1800,\n",
       " 'جاہل': 572,\n",
       " 'جانور': 569,\n",
       " 'چھوڑ': 1982,\n",
       " 'جلتے': 586,\n",
       " 'ہاہاہا': 2386,\n",
       " 'کتے': 2085,\n",
       " 'ٹٹے': 1662,\n",
       " 'غرق': 1147,\n",
       " 'چوتیے': 1926,\n",
       " 'توجہ': 519,\n",
       " 'نمبر': 1535,\n",
       " 'طریقے': 1107,\n",
       " 'حاصل': 641,\n",
       " 'کتنا': 2079,\n",
       " 'آسان': 36,\n",
       " 'روسٹ': 834,\n",
       " 'مائیک': 1315,\n",
       " 'آاسان': 11,\n",
       " 'ڈھکن': 2041,\n",
       " 'فالتو': 1162,\n",
       " 'بناتا': 342,\n",
       " 'چوتیےانہوں': 1927,\n",
       " 'تیرا': 548,\n",
       " 'کہاں': 2236,\n",
       " 'اوپر': 192,\n",
       " 'فٹ': 1190,\n",
       " 'بولنے': 376,\n",
       " 'سوچ': 974,\n",
       " 'فراڈ': 1168,\n",
       " 'باپ': 280,\n",
       " 'سمجھتا': 941,\n",
       " 'بندر': 355,\n",
       " 'کم': 2143,\n",
       " 'فائن': 1159,\n",
       " 'کالے': 2065,\n",
       " 'اپ': 202,\n",
       " 'لوڈ': 1256,\n",
       " 'کیں': 2264,\n",
       " 'کمینے': 2158,\n",
       " 'پوری': 1761,\n",
       " 'پڑھ': 1788,\n",
       " 'لکھا': 1281,\n",
       " 'کیری': 2249,\n",
       " 'آج': 13,\n",
       " 'سستے': 929,\n",
       " 'نشے': 1526,\n",
       " 'کیئے': 2245,\n",
       " 'پکانا': 1794,\n",
       " 'بور': 368,\n",
       " 'پاگل': 1706,\n",
       " 'بھوسڑے': 429,\n",
       " 'جلتی': 585,\n",
       " 'بیٹھ': 472,\n",
       " 'پاکستان': 1703,\n",
       " 'یوٹیوبر': 2462,\n",
       " 'لوڑو': 1260,\n",
       " 'فضول': 1181,\n",
       " 'بھونک': 433,\n",
       " 'لونڈے': 1253,\n",
       " 'دم': 725,\n",
       " 'نہں': 1560,\n",
       " 'مادرچود': 1318,\n",
       " 'لنڈ': 1243,\n",
       " 'لینے': 1306,\n",
       " 'نعمان': 1529,\n",
       " 'کدہر': 2087,\n",
       " 'سپر': 984,\n",
       " 'سٹار': 979,\n",
       " 'کاپی': 2075,\n",
       " 'ویڈیوز': 1631,\n",
       " 'جوتیوں': 607,\n",
       " 'لوگوں': 1268,\n",
       " 'پہ': 1822,\n",
       " 'مت': 1349,\n",
       " 'لگاؤ': 1288,\n",
       " 'بہتر': 454,\n",
       " 'ویو': 1619,\n",
       " 'گانے': 2291,\n",
       " 'زمین': 877,\n",
       " 'آسمان': 38,\n",
       " 'فرق': 1172,\n",
       " 'پسندیدہ': 1739,\n",
       " 'دیکھیں': 785,\n",
       " 'بچالے': 390,\n",
       " 'مادر': 1317,\n",
       " 'نیہں': 1570,\n",
       " 'ادھر': 99,\n",
       " 'مرضی': 1378,\n",
       " 'سنیں': 963,\n",
       " 'میوزک': 1496,\n",
       " 'شروع': 1063,\n",
       " 'اتار': 78,\n",
       " 'رکھ': 852,\n",
       " 'اترو': 80,\n",
       " 'سن': 948,\n",
       " 'گوبھی': 2334,\n",
       " 'آنٹی': 47,\n",
       " 'مر': 1371,\n",
       " 'اتنا': 81,\n",
       " 'پہلی': 1824,\n",
       " 'پسند': 1738,\n",
       " 'چھوٹا': 1979,\n",
       " 'کونٹینٹ': 2183,\n",
       " 'جدا': 576,\n",
       " 'مزہ': 1391,\n",
       " 'گندی': 2331,\n",
       " 'انعم': 163,\n",
       " 'جتنی': 574,\n",
       " 'گھٹیا': 2359,\n",
       " 'زندگی': 879,\n",
       " 'دیکھا': 770,\n",
       " 'محنت': 1365,\n",
       " 'ثابت': 557,\n",
       " 'مزاحیہ': 1388,\n",
       " 'اج': 84,\n",
       " 'گیم': 2363,\n",
       " 'کھیلا': 2227,\n",
       " 'کارٹون': 2056,\n",
       " 'دئیے': 699,\n",
       " 'غصہ': 1149,\n",
       " 'دلا': 719,\n",
       " 'اجے': 89,\n",
       " 'لاکھوں': 1226,\n",
       " 'لئیے': 1214,\n",
       " 'لائیکس': 1219,\n",
       " 'نےآپ': 1571,\n",
       " 'بنائیں': 340,\n",
       " 'کمنٹ': 2150,\n",
       " 'نےمیری': 1575,\n",
       " 'دوسرا': 739,\n",
       " 'مین': 1494,\n",
       " 'دانتوں': 707,\n",
       " 'پیار': 1829,\n",
       " 'اجےمجھے': 90,\n",
       " 'آواز': 51,\n",
       " 'سٹائل': 978,\n",
       " 'چلتے': 1901,\n",
       " 'واقعی': 1584,\n",
       " 'یار': 2447,\n",
       " 'یاد': 2446,\n",
       " 'دلائی': 720,\n",
       " 'اچھاہے': 208,\n",
       " 'عرفان': 1122,\n",
       " 'جنجوے': 597,\n",
       " 'سنا': 949,\n",
       " 'ماری': 1331,\n",
       " 'اسکی': 112,\n",
       " 'گوگل': 2343,\n",
       " 'کمانا': 2147,\n",
       " 'چاہتا': 1873,\n",
       " 'اختتام': 92,\n",
       " 'ضرور': 1101,\n",
       " 'اخیر': 93,\n",
       " 'حوصلہ': 663,\n",
       " 'چیتا': 1997,\n",
       " 'ماور': 1344,\n",
       " 'کردی': 2096,\n",
       " 'نےجھوٹی': 1573,\n",
       " 'ہوگئی': 2420,\n",
       " 'بجائی': 294,\n",
       " 'ادریس': 97,\n",
       " 'ادھار': 98,\n",
       " 'کارڈ': 2057,\n",
       " 'لنک': 1244,\n",
       " 'ہاہاہاہا': 2388,\n",
       " 'ارفع': 102,\n",
       " 'عظمت': 1127,\n",
       " 'ارے': 103,\n",
       " 'بھیا': 444,\n",
       " 'مل': 1426,\n",
       " 'مطلب': 1415,\n",
       " 'بڑھو': 403,\n",
       " 'گروپ': 2312,\n",
       " 'آخری': 25,\n",
       " 'لائیک': 1218,\n",
       " 'ہنسی': 2413,\n",
       " 'روک': 847,\n",
       " 'پا': 1692,\n",
       " 'اگلی': 231,\n",
       " 'کب': 2076,\n",
       " 'آرہی': 31,\n",
       " 'بھیج': 445,\n",
       " 'کالی': 2064,\n",
       " 'چرن': 1891,\n",
       " 'ولن': 1607,\n",
       " 'کردار': 2093,\n",
       " 'ادا': 94,\n",
       " 'دل': 718,\n",
       " 'چھین': 1992,\n",
       " 'قسم': 1208,\n",
       " 'ڈیلیٹ': 2044,\n",
       " 'چودی': 1938,\n",
       " 'بندے': 357,\n",
       " 'کہتا': 2237,\n",
       " 'آؤں': 3,\n",
       " 'خراب': 680,\n",
       " 'ناپسند': 1516,\n",
       " 'نسل': 1522,\n",
       " 'ننگا': 1536,\n",
       " 'مارنا': 1324,\n",
       " 'یکی': 2464,\n",
       " 'سپورٹ': 986,\n",
       " 'گندا': 2329,\n",
       " 'پکڑ': 1795,\n",
       " 'مارو': 1327,\n",
       " 'الگ': 135,\n",
       " 'غیرت': 1156,\n",
       " 'حق': 656,\n",
       " 'بنتا': 351,\n",
       " 'پاکستانیوں': 1705,\n",
       " 'انسان': 161,\n",
       " 'گھر': 2345,\n",
       " 'جھیل': 627,\n",
       " 'ہمت': 2404,\n",
       " 'داد': 702,\n",
       " 'تکلیف': 533,\n",
       " 'بندہ': 356,\n",
       " 'جھوٹی': 622,\n",
       " 'دیکھنے': 780,\n",
       " 'سدھارت': 922,\n",
       " 'اسلام': 108,\n",
       " 'عزتی': 1125,\n",
       " 'کرواتے': 2113,\n",
       " 'حرامی': 648,\n",
       " 'کتنی': 2080,\n",
       " 'جوتیاں': 606,\n",
       " 'پڑنی': 1786,\n",
       " 'چاہیں': 1877,\n",
       " 'پتہ': 1712,\n",
       " 'چل': 1894,\n",
       " 'سالا': 900,\n",
       " 'ذہنی': 798,\n",
       " 'مریض': 1386,\n",
       " 'چھوڑو': 1984,\n",
       " 'گاںڈو': 2294,\n",
       " 'کوپکڑو': 2186,\n",
       " 'بولا': 372,\n",
       " 'ڈول': 2037,\n",
       " 'گناہ': 2328,\n",
       " 'رائٹ': 804,\n",
       " 'جل': 581,\n",
       " 'طوخم': 1108,\n",
       " 'اویٹر': 195,\n",
       " 'کھبا': 2203,\n",
       " 'ٹٹہ': 1660,\n",
       " 'ویڈ': 1624,\n",
       " 'یوز': 2459,\n",
       " 'تے': 556,\n",
       " 'رپورٹس': 851,\n",
       " 'گیں': 2365,\n",
       " 'کمنٹس': 2152,\n",
       " 'اشتعال': 114,\n",
       " 'دلاتے': 721,\n",
       " 'انتظار': 147,\n",
       " 'کردیا': 2097,\n",
       " 'سینڈ': 1030,\n",
       " 'شاہ': 1055,\n",
       " 'سکول': 1006,\n",
       " 'علاج': 1131,\n",
       " 'سبسکرائبر': 913,\n",
       " 'ملیں': 1439,\n",
       " 'پھیر': 1818,\n",
       " 'خود': 692,\n",
       " 'کھسرا': 2210,\n",
       " 'ابو': 74,\n",
       " 'جاری': 564,\n",
       " 'رکھو': 853,\n",
       " 'ٹائم': 1635,\n",
       " 'لازمی': 1223,\n",
       " 'بناؤ': 336,\n",
       " 'نیا': 1561,\n",
       " 'سال': 899,\n",
       " 'مبارک': 1347,\n",
       " 'ختم': 678,\n",
       " 'راوالپنڈی': 811,\n",
       " 'ناران': 1509,\n",
       " 'گائیڈ': 2270,\n",
       " 'لوں': 1269,\n",
       " 'سنجیدہ': 952,\n",
       " 'یو': 2457,\n",
       " 'شیخ': 1090,\n",
       " 'گورمیت': 2336,\n",
       " 'ڈائریکٹ': 2009,\n",
       " 'کیاہے': 2247,\n",
       " 'کہتے': 2238,\n",
       " 'اصلی': 120,\n",
       " 'مواد': 1461,\n",
       " 'بناء': 335,\n",
       " 'ویشنو': 1616,\n",
       " 'ماتا': 1316,\n",
       " 'بارے': 269,\n",
       " 'آدمی': 27,\n",
       " 'کوسبق': 2178,\n",
       " 'سیکھایا': 1038,\n",
       " 'سٹیشن': 983,\n",
       " 'آڈیشن': 57,\n",
       " 'کہیں': 2244,\n",
       " 'آگئی': 63,\n",
       " 'پھٹ': 1812,\n",
       " 'ڈسک': 2032,\n",
       " 'تیسی': 553,\n",
       " 'سالی': 903,\n",
       " 'چوری': 1944,\n",
       " 'باتوں': 259,\n",
       " 'وزن': 1597,\n",
       " 'نکالتے': 1549,\n",
       " 'انے': 179,\n",
       " 'واہ': 1590,\n",
       " 'نکل': 1553,\n",
       " 'پڑی': 1790,\n",
       " 'ماروں': 1329,\n",
       " 'شیو': 1092,\n",
       " 'پھینک': 1821,\n",
       " 'لن': 1241,\n",
       " 'آنکھ': 48,\n",
       " 'چھولا': 1977,\n",
       " 'کہو': 2242,\n",
       " 'سر': 923,\n",
       " 'درد': 711,\n",
       " 'شوکت': 1076,\n",
       " 'خانم': 674,\n",
       " 'کروا': 2110,\n",
       " 'ہسپتال': 2397,\n",
       " 'گنا': 2327,\n",
       " 'فیس': 1196,\n",
       " 'بک': 406,\n",
       " 'پیچ': 1853,\n",
       " 'پاکستانی': 1704,\n",
       " 'شرم': 1060,\n",
       " 'حصہ': 653,\n",
       " 'سننے': 958,\n",
       " 'چین': 2003,\n",
       " 'سموکر': 947,\n",
       " 'پلیز': 1747,\n",
       " 'زہر': 883,\n",
       " 'سچ': 990,\n",
       " 'اندھا': 158,\n",
       " 'کلک': 2139,\n",
       " 'ایپلیکشن': 242,\n",
       " 'ڈون': 2038,\n",
       " 'کوڈ': 2188,\n",
       " 'استعمال': 106,\n",
       " 'رجسٹر': 814,\n",
       " 'چیک': 2006,\n",
       " 'مہربانی': 1486,\n",
       " 'فرما': 1173,\n",
       " 'لونڈیا': 1252,\n",
       " 'شا': 1043,\n",
       " 'لائن': 1216,\n",
       " 'مارے': 1334,\n",
       " 'ساتھ': 889,\n",
       " 'ڈیٹ': 2046,\n",
       " 'عوام': 1141,\n",
       " 'مردے': 1377,\n",
       " 'جسم': 580,\n",
       " 'لوٹ': 1255,\n",
       " 'لوسالوں': 1248,\n",
       " 'برائی': 305,\n",
       " 'تبدیلی': 490,\n",
       " 'اصل': 119,\n",
       " 'کوشش': 2180,\n",
       " 'ویوز': 1622,\n",
       " 'بنتے': 353,\n",
       " 'امین': 144,\n",
       " 'پکا': 1793,\n",
       " 'شکریہ': 1083,\n",
       " 'اللہ': 130,\n",
       " 'ساری': 892,\n",
       " 'کامیابیاں': 2069,\n",
       " 'اسد': 107,\n",
       " 'اشیش': 118,\n",
       " 'حال': 642,\n",
       " 'اسلم': 109,\n",
       " 'کنجر': 2161,\n",
       " 'الفاظ': 129,\n",
       " 'بنگالی': 362,\n",
       " 'ڈر': 2023,\n",
       " 'اسکا': 111,\n",
       " 'اشانت': 113,\n",
       " 'شرما': 1061,\n",
       " 'اکبر': 219,\n",
       " 'بچوں': 392,\n",
       " 'لیئے': 1301,\n",
       " 'عطیات': 1126,\n",
       " 'اکٹھے': 222,\n",
       " 'معذرت': 1420,\n",
       " 'اکتوبر': 220,\n",
       " 'ٹائٹل': 1636,\n",
       " 'دارو': 704,\n",
       " 'تبدیل': 489,\n",
       " 'واپس': 1588,\n",
       " 'احتجاج': 91,\n",
       " 'پروموٹ': 1727,\n",
       " 'چاہتے': 1875,\n",
       " 'چودو': 1935,\n",
       " 'شیئر': 1088,\n",
       " 'ذیادہ': 801,\n",
       " 'روسٹنگ': 836,\n",
       " 'آؤ': 0,\n",
       " 'جوائن': 601,\n",
       " 'لطف': 1233,\n",
       " 'اٹھاؤ': 197,\n",
       " 'شریف': 1066,\n",
       " 'تہ': 545,\n",
       " 'دوسروں': 740,\n",
       " 'باتیں': 260,\n",
       " 'ٹھیکھ': 1676,\n",
       " 'پڑا': 1782,\n",
       " 'مناتی': 1444,\n",
       " 'فا': 1157,\n",
       " 'ئن': 68,\n",
       " 'ٹک': 1663,\n",
       " 'ٹاک': 1643,\n",
       " 'فالو': 1163,\n",
       " 'ہمیں': 2407,\n",
       " 'بالکل': 278,\n",
       " 'جادو': 562,\n",
       " 'سارے': 893,\n",
       " 'سانڈیساہ': 906,\n",
       " 'ترین': 501,\n",
       " 'اگلے': 232,\n",
       " 'سطح': 930,\n",
       " 'الٹی': 133,\n",
       " 'پھیلاتا': 1819,\n",
       " 'قس': 1207,\n",
       " 'مے': 1501,\n",
       " 'الماس': 131,\n",
       " 'ہدایات': 2391,\n",
       " 'چلانے': 1898,\n",
       " 'عزت': 1124,\n",
       " 'کھیل': 2226,\n",
       " 'جیکب': 636,\n",
       " 'بنائی': 339,\n",
       " 'امیر': 143,\n",
       " 'کھوتی': 2216,\n",
       " 'غریب': 1148,\n",
       " 'جھونپڑا': 619,\n",
       " 'بھوسڑا': 426,\n",
       " 'بن': 333,\n",
       " 'تن': 515,\n",
       " 'تولا': 521,\n",
       " 'لوڑ': 1258,\n",
       " 'بول': 371,\n",
       " 'دودھ': 733,\n",
       " 'مانگو': 1342,\n",
       " 'کھیر': 2225,\n",
       " 'چیر': 1998,\n",
       " 'سستا': 927,\n",
       " 'تھوک': 541,\n",
       " 'کینسر': 2258,\n",
       " 'گھسی': 2348,\n",
       " 'کنجری': 2163,\n",
       " 'دا': 700,\n",
       " 'پتر': 1711,\n",
       " 'پھٹے': 1815,\n",
       " 'کنڈم': 2169,\n",
       " 'اولاد': 186,\n",
       " 'چودوں': 1936,\n",
       " 'اڑا': 212,\n",
       " 'لفظ': 1236,\n",
       " 'نفرت': 1530,\n",
       " 'انتہائی': 151,\n",
       " 'اعل': 123,\n",
       " 'سالگرہ': 902,\n",
       " 'انٹرنیٹ': 167,\n",
       " 'ذریعے': 792,\n",
       " 'جانتا': 567,\n",
       " 'انجالی': 153,\n",
       " 'پیاری': 1831,\n",
       " 'اندر': 157,\n",
       " 'باہر': 282,\n",
       " 'کھسری': 2211,\n",
       " 'ناصر': 1512,\n",
       " 'خان': 672,\n",
       " 'جان': 565,\n",
       " 'گالی': 2276,\n",
       " 'پڑ': 1781,\n",
       " 'انرجی': 160,\n",
       " 'ڈرنک': 2027,\n",
       " 'لسی': 1232,\n",
       " 'وجہ': 1592,\n",
       " 'ین': 2456,\n",
       " 'اہ': 234,\n",
       " 'پن': 1750,\n",
       " 'چت': 1882,\n",
       " 'ماریں': 1332,\n",
       " 'جھوٹا': 621,\n",
       " 'کہنے': 2241,\n",
       " 'اودے': 182,\n",
       " 'شٹکر': 1078,\n",
       " 'متعلقہ': 1351,\n",
       " 'بی': 460,\n",
       " 'جلدی': 589,\n",
       " 'نگر': 1557,\n",
       " 'جھوٹ': 620,\n",
       " 'سہارا': 1015,\n",
       " 'پڑتا': 1783,\n",
       " 'عقل': 1130,\n",
       " 'لکھتا': 1282,\n",
       " 'کل': 2133,\n",
       " 'چٹوانے': 1958,\n",
       " 'جیری': 633,\n",
       " 'مست': 1398,\n",
       " 'غضب': 1151,\n",
       " 'بنایا': 350,\n",
       " 'گانڈوپن': 2289,\n",
       " 'تونہیں': 523,\n",
       " 'سبسکرائیب': 915,\n",
       " 'گرنیڈ': 2309,\n",
       " 'سکتاتھا': 1000,\n",
       " 'مارنے': 1326,\n",
       " 'ضرورت': 1102,\n",
       " 'ہنس': 2410,\n",
       " 'رو': 829,\n",
       " 'لڑکا': 1272,\n",
       " 'کنفیوشن': 2167,\n",
       " 'اوسم': 184,\n",
       " 'اولام': 187,\n",
       " 'داخل': 701,\n",
       " 'گانا': 2279,\n",
       " 'چلایا': 1899,\n",
       " 'اوم': 188,\n",
       " 'پرکاش': 1731,\n",
       " 'بڑھیا': 404,\n",
       " 'فائدہ': 1158,\n",
       " 'اومے': 189,\n",
       " 'اونام': 190,\n",
       " 'گپتا': 2344,\n",
       " 'بےوفا': 486,\n",
       " 'اوہ': 193,\n",
       " 'دیکھنا': 778,\n",
       " 'پڑے': 1791,\n",
       " 'جانتے': 568,\n",
       " 'بھوج': 423,\n",
       " 'گانوں': 2281,\n",
       " 'معاشرے': 1417,\n",
       " 'تنقید': 516,\n",
       " 'سکتے': 1002,\n",
       " 'جی': 630,\n",
       " 'خدا': 679,\n",
       " 'بڑبڑا': 399,\n",
       " 'موقع': 1467,\n",
       " 'حیران': 668,\n",
       " 'خواب': 686,\n",
       " 'ٹیکے': 1689,\n",
       " 'کافی': 2060,\n",
       " 'لیٹ': 1309,\n",
       " 'اوہم': 194,\n",
       " 'سرما': 924,\n",
       " 'انڈین': 173,\n",
       " 'آئڈل': 6,\n",
       " 'باز': 270,\n",
       " 'آجاکوڑی': 21,\n",
       " 'ٹکی': 1666,\n",
       " 'منہ': 1460,\n",
       " 'گدھے': 2302,\n",
       " 'جئیسی': 559,\n",
       " 'تلاش': 511,\n",
       " 'بج': 291,\n",
       " 'پولیو': 1767,\n",
       " 'ٹیکہ': 1688,\n",
       " 'تمیز': 514,\n",
       " 'زرا': 873,\n",
       " 'چھوتے': 1976,\n",
       " 'مروانے': 1383,\n",
       " 'عمرا': 1137,\n",
       " 'بیچ': 475,\n",
       " 'بورنگ': 369,\n",
       " 'یوتمہارے': 2458,\n",
       " 'دیکھایا': 774,\n",
       " 'بس': 318,\n",
       " 'کہوں': 2243,\n",
       " 'روپالی': 844,\n",
       " 'ہالی': 2382,\n",
       " 'ورژن': 1596,\n",
       " 'پھانسی': 1799,\n",
       " 'لگاتا': 1291,\n",
       " 'ہےزمیں': 2436,\n",
       " 'پنکھے': 1754,\n",
       " 'رسی': 819,\n",
       " 'دال': 706,\n",
       " 'لگ': 1287,\n",
       " 'پھٹی': 1814,\n",
       " 'ٹام': 1640,\n",
       " 'کروز': 2118,\n",
       " 'بنانے': 349,\n",
       " 'جیل': 634,\n",
       " 'سکیم': 1013,\n",
       " 'پروان': 1723,\n",
       " 'چڑھ': 1963,\n",
       " 'بتا': 284,\n",
       " 'دن': 727,\n",
       " 'بیمار': 464,\n",
       " 'ہےکیا': 2444,\n",
       " 'روح': 832,\n",
       " 'فروخت': 1176,\n",
       " 'لوگان': 1267,\n",
       " 'پال': 1700,\n",
       " 'چتیاپا': 1885,\n",
       " 'دوسری': 741,\n",
       " 'مرے': 1387,\n",
       " 'خلاف': 684,\n",
       " 'بولتا': 373,\n",
       " 'لیرولیر': 1302,\n",
       " 'کردیتا': 2099,\n",
       " 'لمبے': 1239,\n",
       " 'عرصہ': 1120,\n",
       " 'یوزر': 2460,\n",
       " 'چائے': 1862,\n",
       " 'پیتے': 1833,\n",
       " 'گزارش': 2316,\n",
       " 'جتنا': 573,\n",
       " 'سکے': 1014,\n",
       " 'کیوںکہ': 2262,\n",
       " 'بھڑوا': 437,\n",
       " 'بھوجی': 424,\n",
       " 'اڑاتا': 213,\n",
       " 'مقصد': 1425,\n",
       " 'مکمل': 1483,\n",
       " 'اچھے': 211,\n",
       " 'سافٹ': 897,\n",
       " 'وئیر': 1577,\n",
       " 'بتاؤ': 285,\n",
       " 'ٹیٹو': 1684,\n",
       " 'ٹھگ': 1674,\n",
       " 'بیک': 479,\n",
       " 'گراؤنڈ': 2305,\n",
       " 'کھجلی': 2209,\n",
       " 'ہےکچھ': 2442,\n",
       " 'ڈرامہ': 2025,\n",
       " 'بلاگ': 326,\n",
       " 'دیکھتا': 775,\n",
       " 'ڈالیں': 2018,\n",
       " 'تنگ': 518,\n",
       " 'شاباش': 1046,\n",
       " 'آتش': 12,\n",
       " 'اجالا': 86,\n",
       " 'کنسلٹ': 2165,\n",
       " 'تونے': 524,\n",
       " 'آنکھیں': 50,\n",
       " 'کھول': 2218,\n",
       " 'ٹیم': 1679,\n",
       " 'فیصلہ': 1197,\n",
       " 'یں': 2465,\n",
       " 'ملین': 1438,\n",
       " 'سبسکرائبرز': 914,\n",
       " 'رونا': 842,\n",
       " 'کھلے': 2215,\n",
       " 'یقین': 2455,\n",
       " 'مانو': 1339,\n",
       " 'سیکسی': 1033,\n",
       " 'آخر': 23,\n",
       " 'کار': 2053,\n",
       " 'کھیلنا': 2230,\n",
       " 'دوبارہ': 732,\n",
       " 'کارسب': 2054,\n",
       " 'کوجواب': 2177,\n",
       " 'حقیقت': 658,\n",
       " 'پیارا': 1830,\n",
       " 'آجے': 22,\n",
       " 'کلپ': 2137,\n",
       " 'بھہت': 443,\n",
       " 'بننے': 359,\n",
       " 'چیٹ': 2005,\n",
       " 'آخرکار': 24,\n",
       " 'بچپن': 393,\n",
       " 'کھلی': 2214,\n",
       " 'لگانے': 1293,\n",
       " 'پڑتی': 1784,\n",
       " 'کوپورا': 2185,\n",
       " 'آریام': 33,\n",
       " 'پیدا': 1836,\n",
       " 'غلطی': 1153,\n",
       " 'لگتی': 1296,\n",
       " 'آریان': 34,\n",
       " 'بھاگ': 415,\n",
       " 'دیکھتے': 777,\n",
       " 'آسمانی': 39,\n",
       " 'کھٹی': 2220,\n",
       " 'پچکاری': 1778,\n",
       " 'آفریدی': 43,\n",
       " 'چپ': 1960,\n",
       " 'آکاش': 59,\n",
       " 'کمار': 2145,\n",
       " 'دیکھں': 783,\n",
       " 'آگےسے': 67,\n",
       " 'کراس': 2088,\n",
       " 'آن': 45,\n",
       " 'گروٹیچ': 2311,\n",
       " 'آؤٹ': 1,\n",
       " 'امتحان': 137,\n",
       " 'آئےیوراما': 10,\n",
       " 'دیکھاتا': 772,\n",
       " 'ہےیہ': 2445,\n",
       " 'میچ': 1498,\n",
       " 'دلچسپ': 723,\n",
       " 'بابا': 256,\n",
       " 'ٹی': 1677,\n",
       " 'سیرز': 1023,\n",
       " 'بدلہ': 302,\n",
       " 'انٹرویو': 168,\n",
       " 'بغیر': 321,\n",
       " 'تجربہ': 493,\n",
       " 'باراک': 266,\n",
       " 'اوباما': 181,\n",
       " 'باس': 273,\n",
       " 'ملائیکہ': 1429,\n",
       " 'بتائیں': 287,\n",
       " 'پرانا': 1716,\n",
       " 'لگوا': 1299,\n",
       " 'گورا': 2335,\n",
       " 'بچہ': 394,\n",
       " 'بائیوگرافی': 252,\n",
       " 'ببن': 283,\n",
       " 'بچو': 391,\n",
       " 'دیر': 758,\n",
       " 'بخشی': 297,\n",
       " 'آپکا': 56,\n",
       " 'واپیس': 1589,\n",
       " 'سوری': 970,\n",
       " 'منانا': 1445,\n",
       " 'حمزہ': 662,\n",
       " 'برے': 317,\n",
       " 'برابر': 306,\n",
       " 'برچودی': 311,\n",
       " 'مرانی': 1374,\n",
       " 'لوڑی': 1262,\n",
       " 'بولتی': 374,\n",
       " 'برقع': 309,\n",
       " 'برہان': 313,\n",
       " 'حسن': 652,\n",
       " 'لوسر': 1249,\n",
       " 'پوچھتے': 1772,\n",
       " 'بری': 314,\n",
       " 'جمے': 595,\n",
       " 'انگریز': 175,\n",
       " 'لمبی': 1238,\n",
       " 'پرجو': 1721,\n",
       " 'محترم': 1359,\n",
       " 'اک': 217,\n",
       " 'چیز': 1999,\n",
       " 'سوچتا': 976,\n",
       " 'اکژ': 224,\n",
       " 'قیامت': 1213,\n",
       " 'دیکھائیں': 771,\n",
       " 'کہنا': 2240,\n",
       " 'ٹکا': 1664,\n",
       " 'جھلی': 617,\n",
       " 'چیزیں': 2001,\n",
       " 'عروج': 1123,\n",
       " 'کھل': 2213,\n",
       " 'بدلو': 301,\n",
       " 'خوفناک': 696,\n",
       " 'منظر': 1449,\n",
       " 'ٹانگیں': 1641,\n",
       " 'کھینچو': 2233,\n",
       " 'دوسرے': 742,\n",
       " 'شہزاد': 1087,\n",
       " 'رولائے': 840,\n",
       " 'رلائے': 822,\n",
       " 'پگلے': 1797,\n",
       " 'کریار': 2126,\n",
       " 'بنانا': 347,\n",
       " 'گری': 2314,\n",
       " 'جیت': 631,\n",
       " 'نظام': 1527,\n",
       " 'تعلیم': 508,\n",
       " 'شئیر': 1042,\n",
       " 'پورا': 1758,\n",
       " 'بشری': 319,\n",
       " 'داری': 705,\n",
       " 'آصف': 40,\n",
       " 'قریشی': 1206,\n",
       " 'واسطے': 1583,\n",
       " 'مدد': 1369,\n",
       " 'بھیجو': 447,\n",
       " 'آجا': 14,\n",
       " 'بوتھی': 367,\n",
       " 'شیشہ': 1091,\n",
       " 'ٹوٹ': 1653,\n",
       " 'بگ': 408,\n",
       " 'مارنی': 1325,\n",
       " 'بلا': 323,\n",
       " 'بیش': 463,\n",
       " 'بلغم': 327,\n",
       " 'بیٹا': 470,\n",
       " 'چو': 1907,\n",
       " 'نائٹ': 1504,\n",
       " 'مان': 1338,\n",
       " 'رے': 866,\n",
       " 'منگواؤ': 1459,\n",
       " 'اٹھاواؤ': 200,\n",
       " 'چچا': 1962,\n",
       " 'مجبور': 1354,\n",
       " 'بنڈ': 361,\n",
       " 'ناطے': 1513,\n",
       " 'بہاریوں': 453,\n",
       " 'کردو': 2094,\n",
       " 'اوے': 196,\n",
       " 'ظاہر': 1110,\n",
       " 'مینڈک': 1495,\n",
       " 'خوابوں': 687,\n",
       " 'آرہے': 32,\n",
       " 'فین': 1200,\n",
       " 'آکنھیں': 61,\n",
       " 'جناب': 596,\n",
       " 'کالا': 2061,\n",
       " 'اسک': 110,\n",
       " 'بائیں': 255,\n",
       " 'طر': 1104,\n",
       " 'رلانے': 823,\n",
       " 'اچھاخیال': 207,\n",
       " 'اتنے': 83,\n",
       " 'گردا': 2307,\n",
       " 'آڑا': 58,\n",
       " 'تھمبنل': 536,\n",
       " 'مارتے': 1322,\n",
       " 'حرکتوں': 650,\n",
       " 'افسوس': 125,\n",
       " 'گھس': 2346,\n",
       " 'خاص': 669,\n",
       " 'اشتہا': 115,\n",
       " 'رات': 805,\n",
       " 'حدف': 646,\n",
       " 'ایکٹنگ': 251,\n",
       " 'لیول': 1307,\n",
       " 'خوب': 690,\n",
       " 'لونڈےباز': 1254,\n",
       " 'دنوں': 728,\n",
       " 'تیز': 552,\n",
       " 'لڑکیوں': 1276,\n",
       " 'فٹافٹ': 1192,\n",
       " 'سبسرائب': 911,\n",
       " 'شاندار': 1052,\n",
       " 'حد': 645,\n",
       " 'عظیم': 1129,\n",
       " 'ریپر': 865,\n",
       " 'عمدہ': 1135,\n",
       " 'پیٹ': 1851,\n",
       " 'بہرحال': 456,\n",
       " 'نسا': 1521,\n",
       " 'آسام': 35,\n",
       " 'نشہ': 1525,\n",
       " 'عمدو': 1134,\n",
       " 'غلط': 1152,\n",
       " 'چبل': 1880,\n",
       " 'فارغ': 1160,\n",
       " 'کمینہ': 2157,\n",
       " 'لمنے': 1240,\n",
       " 'عرصے': 1121,\n",
       " 'ملی': 1437,\n",
       " 'کیمرے': 2257,\n",
       " 'پیجھے': 1835,\n",
       " 'ہے': 2433,\n",
       " 'محبت': 1358,\n",
       " 'مختصر': 1367,\n",
       " 'آکر': 60,\n",
       " 'پی': 1828,\n",
       " 'کینڈین': 2260,\n",
       " 'پیروی': 1840,\n",
       " 'کنا': 2160,\n",
       " 'یے': 2466,\n",
       " 'بہترین': 455,\n",
       " 'وضاحت': 1601,\n",
       " 'سکا': 998,\n",
       " 'ڈسلائیکس': 2031,\n",
       " 'سمجھے': 943,\n",
       " 'بنال': 346,\n",
       " 'پنجاب': 1751,\n",
       " 'بدتمیزی': 299,\n",
       " 'کردوں': 2095,\n",
       " 'عمران': 1138,\n",
       " 'ورنہ': 1595,\n",
       " 'بائیک': 253,\n",
       " 'چلاتا': 1896,\n",
       " 'سچھ': 992,\n",
       " 'ریپ': 864,\n",
       " 'مزاقیہ': 1390,\n",
       " 'متفق': 1352,\n",
       " ...}"
      ]
     },
     "execution_count": 10,
     "metadata": {},
     "output_type": "execute_result"
    }
   ],
   "source": [
    "# from sklearn.feature_extraction.text import CountVectorizer    \n",
    "# cv=CountVectorizer(max_features=3000)\n",
    "from sklearn.feature_extraction.text import TfidfVectorizer\n",
    "max_feature_num = 10000\n",
    "train_vectorizer = TfidfVectorizer(max_features=max_feature_num)\n",
    "X_train=train_vectorizer.fit_transform(tain_corpus).toarray()\n",
    "y_train=train['target']\n",
    "train_vectorizer.vocabulary_\n",
    "test_vectorizer = TfidfVectorizer(max_features=max_feature_num,vocabulary=train_vectorizer.vocabulary_)\n",
    "X_test=test_vectorizer.fit_transform(test_corpus).toarray()\n",
    "y_test=test['target']\n",
    "train_vectorizer.vocabulary_"
   ]
  },
  {
   "cell_type": "markdown",
   "metadata": {
    "id": "WWOqT8vhYzRj"
   },
   "source": [
    "## Test Train Split\n",
    "1. 75% Training 25% Testing"
   ]
  },
  {
   "cell_type": "code",
   "execution_count": 11,
   "metadata": {
    "executionInfo": {
     "elapsed": 9,
     "status": "ok",
     "timestamp": 1645104010685,
     "user": {
      "displayName": "Rafia Jabbar",
      "photoUrl": "https://lh3.googleusercontent.com/a-/AOh14Gg_1DjP6TxgmdZBWrVUfpmjnjwXkAIoeIdQlLOP=s64",
      "userId": "15947133849312122933"
     },
     "user_tz": -300
    },
    "id": "wOf4JGDVObkT"
   },
   "outputs": [],
   "source": [
    "from sklearn.model_selection import train_test_split\n",
    "X_train,X_test1,y_train,y_test1 = train_test_split(X_train, y_train, test_size=0.30, random_state=0)"
   ]
  },
  {
   "cell_type": "markdown",
   "metadata": {
    "id": "FiDEZf5kZFd6"
   },
   "source": [
    "# Decision Tree"
   ]
  },
  {
   "cell_type": "code",
   "execution_count": 12,
   "metadata": {
    "executionInfo": {
     "elapsed": 1228,
     "status": "ok",
     "timestamp": 1645104011906,
     "user": {
      "displayName": "Rafia Jabbar",
      "photoUrl": "https://lh3.googleusercontent.com/a-/AOh14Gg_1DjP6TxgmdZBWrVUfpmjnjwXkAIoeIdQlLOP=s64",
      "userId": "15947133849312122933"
     },
     "user_tz": -300
    },
    "id": "MfG-q9HyOh8k"
   },
   "outputs": [],
   "source": [
    "from sklearn.tree import DecisionTreeClassifier\n",
    "classifier=DecisionTreeClassifier()\n",
    "classifier.fit(X_train,y_train)\n",
    "pred=classifier.predict(X_test)\n",
    "dtc_probs = classifier.predict_proba(X_test)\n",
    "dtc_probs=dtc_probs[:,1]"
   ]
  },
  {
   "cell_type": "markdown",
   "metadata": {
    "id": "3dsm7kyDZMWN"
   },
   "source": [
    "# Decision Tree Evaluation\n",
    "1. Test Train split Accuracy, precision, recall and f1 score\n",
    "2. F1 Score for 10 Fold Cross Validation"
   ]
  },
  {
   "cell_type": "code",
   "execution_count": 13,
   "metadata": {
    "colab": {
     "base_uri": "https://localhost:8080/"
    },
    "executionInfo": {
     "elapsed": 6,
     "status": "ok",
     "timestamp": 1645104011906,
     "user": {
      "displayName": "Rafia Jabbar",
      "photoUrl": "https://lh3.googleusercontent.com/a-/AOh14Gg_1DjP6TxgmdZBWrVUfpmjnjwXkAIoeIdQlLOP=s64",
      "userId": "15947133849312122933"
     },
     "user_tz": -300
    },
    "id": "cjtfJGPMOnTK",
    "outputId": "2b94892e-2001-47ea-e727-517f8422f495"
   },
   "outputs": [
    {
     "name": "stdout",
     "output_type": "stream",
     "text": [
      "----------------Test Train Score Complete Datasets---------------\n",
      "confusion matrix\n",
      "[[957 256]\n",
      " [447 740]]\n",
      "Accuracy score: 0.7070833333333333\n",
      "Precision score: 0.7122979095870663\n",
      "F1 score: 0.7046689507328225\n",
      "Recall score: 0.7061866983000088\n"
     ]
    }
   ],
   "source": [
    "from sklearn.metrics import accuracy_score,precision_score,f1_score,recall_score\n",
    "from sklearn.model_selection import cross_val_score\n",
    "from sklearn.metrics import confusion_matrix\n",
    "cm=confusion_matrix(y_test,pred)\n",
    "print(\"----------------Test Train Score Complete Datasets---------------\")\n",
    "print(\"confusion matrix\")\n",
    "print(cm)\n",
    "acc=accuracy_score(y_test, pred)\n",
    "pr=precision_score(y_test, pred,average='macro')\n",
    "re=recall_score(y_test, pred,average='macro')\n",
    "fs=f1_score(y_test, pred,average='macro')\n",
    "print('Accuracy score: {}'.format(acc))\n",
    "print('Precision score: {}'.format(pr))\n",
    "print('F1 score: {}'.format(fs))\n",
    "print('Recall score: {}'.format(re))"
   ]
  },
  {
   "cell_type": "markdown",
   "metadata": {
    "id": "G8YYQPJsZgOe"
   },
   "source": [
    "## AUC ROC Curve\n",
    "1. AUC Value\n",
    "2. Curve"
   ]
  },
  {
   "cell_type": "code",
   "execution_count": 14,
   "metadata": {
    "colab": {
     "base_uri": "https://localhost:8080/",
     "height": 297
    },
    "executionInfo": {
     "elapsed": 613,
     "status": "ok",
     "timestamp": 1645104012517,
     "user": {
      "displayName": "Rafia Jabbar",
      "photoUrl": "https://lh3.googleusercontent.com/a-/AOh14Gg_1DjP6TxgmdZBWrVUfpmjnjwXkAIoeIdQlLOP=s64",
      "userId": "15947133849312122933"
     },
     "user_tz": -300
    },
    "id": "H1rDn2ipPYYy",
    "outputId": "c921a2e9-e37e-48ba-9cc1-8a7f4d97712e"
   },
   "outputs": [
    {
     "name": "stdout",
     "output_type": "stream",
     "text": [
      "Classifier: ROC AUC=0.706\n"
     ]
    },
    {
     "data": {
      "image/png": "[encoded data removed]",
      "text/plain": [
       "<Figure size 432x288 with 1 Axes>"
      ]
     },
     "metadata": {
      "needs_background": "light"
     },
     "output_type": "display_data"
    }
   ],
   "source": [
    "# submission={\n",
    "#     'id':data['id'],\n",
    "#     'target':test_pred,\n",
    "#     'score':dtc_probs,\n",
    "# }\n",
    "\n",
    "# submission=pd.DataFrame(submission)\n",
    "# submission.to_csv(\"subt.csv\")\n",
    "from sklearn.metrics import roc_curve\n",
    "from sklearn.metrics import roc_auc_score\n",
    "from matplotlib import pyplot\n",
    "lr_auc = roc_auc_score(y_test, dtc_probs)\n",
    "# summarize scores\n",
    "print('Classifier: ROC AUC=%.3f' % (lr_auc))\n",
    "# calculate roc curves\n",
    "lr_fpr, lr_tpr, _ = roc_curve(y_test, dtc_probs)\n",
    "# plot the roc curve for the model\n",
    "pyplot.plot(lr_fpr, lr_tpr, 'r',marker='.', label='Decision Tree')\n",
    "# axis labels\n",
    "pyplot.xlabel('False Positive Rate')\n",
    "pyplot.ylabel('True Positive Rate')\n",
    "# show the legend\n",
    "pyplot.legend()\n",
    "# show the plot\n",
    "pyplot.show()\n",
    "\n",
    "from sklearn.model_selection import KFold\n",
    "from sklearn.neighbors import KNeighborsClassifier\n",
    "import matplotlib.pyplot as plt\n",
    "kf = KFold(n_splits=4)\n",
    "mae_train = []\n",
    "mae_test = []"
   ]
  },
  {
   "cell_type": "markdown",
   "metadata": {
    "id": "0dm2NtbrZqTh"
   },
   "source": [
    "## Learning Curve"
   ]
  },
  {
   "cell_type": "code",
   "execution_count": 15,
   "metadata": {
    "colab": {
     "base_uri": "https://localhost:8080/",
     "height": 313
    },
    "executionInfo": {
     "elapsed": 44749,
     "status": "ok",
     "timestamp": 1645104057164,
     "user": {
      "displayName": "Rafia Jabbar",
      "photoUrl": "https://lh3.googleusercontent.com/a-/AOh14Gg_1DjP6TxgmdZBWrVUfpmjnjwXkAIoeIdQlLOP=s64",
      "userId": "15947133849312122933"
     },
     "user_tz": -300
    },
    "id": "YLKbb-7LPcIC",
    "outputId": "dc9175f0-5dce-4d56-d18b-78b75c3f6856"
   },
   "outputs": [
    {
     "name": "stderr",
     "output_type": "stream",
     "text": [
      "No handles with labels found to put in legend.\n"
     ]
    },
    {
     "data": {
      "image/png": "[encoded data removed]",
      "text/plain": [
       "<Figure size 432x288 with 1 Axes>"
      ]
     },
     "metadata": {
      "needs_background": "light"
     },
     "output_type": "display_data"
    }
   ],
   "source": [
    "# imports\n",
    "from sklearn.model_selection import learning_curve\n",
    "import matplotlib.pyplot as plt\n",
    "import numpy as np\n",
    "def plot_curve():\n",
    "    # instantiate\n",
    "    lg = DecisionTreeClassifier()\n",
    "\n",
    "    # fit\n",
    "    lg.fit(X_test, y_test)\n",
    "    \n",
    "    \n",
    "    \"\"\"\n",
    "    Generate a simple plot of the test and traning learning curve.\n",
    "\n",
    "    Parameters\n",
    "    ----------\n",
    "    estimator : object type that implements the \"fit\" and \"predict\" methods\n",
    "        An object of that type which is cloned for each validation.\n",
    "\n",
    "    title : string\n",
    "        Title for the chart.\n",
    "\n",
    "    X : array-like, shape (n_samples, n_features)\n",
    "        Training vector, where n_samples is the number of samples and\n",
    "        n_features is the number of features.\n",
    "\n",
    "    y : array-like, shape (n_samples) or (n_samples, n_features), optional\n",
    "        Target relative to X for classification or regression;\n",
    "        None for unsupervised learning.\n",
    "\n",
    "    ylim : tuple, shape (ymin, ymax), optional\n",
    "        Defines minimum and maximum yvalues plotted.\n",
    "\n",
    "    cv : integer, cross-validation generator, optional\n",
    "        If an integer is passed, it is the number of folds (defaults to 3).\n",
    "        Specific cross-validation objects can be passed, see\n",
    "        sklearn.cross_validation module for the list of possible objects\n",
    "\n",
    "    n_jobs : integer, optional\n",
    "        Number of jobs to run in parallel (default 1).\n",
    "        \n",
    "    x1 = np.linspace(0, 10, 8, endpoint=True) produces\n",
    "        8 evenly spaced points in the range 0 to 10\n",
    "    \"\"\"\n",
    "    \n",
    "    train_sizes, train_scores, test_scores = learning_curve(lg, X_test, y_test, n_jobs=-1, cv=10, train_sizes=np.linspace(.1, 1.0, 5), verbose=0)\n",
    "\n",
    "    train_scores_mean = np.mean(train_scores, axis=1)\n",
    "    train_scores_std = np.std(train_scores, axis=1)\n",
    "    test_scores_mean = np.mean(test_scores, axis=1)\n",
    "    test_scores_std = np.std(test_scores, axis=1)\n",
    "    \n",
    "    plt.figure()\n",
    "    plt.title(\"Decison Tree\")\n",
    "    plt.legend(loc=\"best\")\n",
    "    plt.xlabel(\"Training examples\")\n",
    "    plt.ylabel(\"Score\")\n",
    "    plt.gca().invert_yaxis()\n",
    "    \n",
    "    # box-like grid\n",
    "    plt.grid()\n",
    "    \n",
    "    # plot the std deviation as a transparent range at each training set size\n",
    "    plt.fill_between(train_sizes, train_scores_mean - train_scores_std, train_scores_mean + train_scores_std, alpha=0.1, color=\"r\")\n",
    "    plt.fill_between(train_sizes, test_scores_mean - test_scores_std, test_scores_mean + test_scores_std, alpha=0.1, color=\"g\")\n",
    "    \n",
    "    # plot the average training and test score lines at each training set size\n",
    "    plt.plot(train_sizes, train_scores_mean, 'o-', color=\"r\", label=\"Training score\")\n",
    "    plt.plot(train_sizes, test_scores_mean, 'o-', color=\"g\", label=\"Cross-validation score\")\n",
    "    \n",
    "    # sizes the window for readability and displays the plot\n",
    "    # shows error from 0 to 1.1\n",
    "    plt.ylim(-.1,1.1)\n",
    "    plt.show()\n",
    "plot_curve()"
   ]
  },
  {
   "cell_type": "markdown",
   "metadata": {
    "id": "d0Hjl41MZx6J"
   },
   "source": [
    "## Logistic Regression"
   ]
  },
  {
   "cell_type": "code",
   "execution_count": 16,
   "metadata": {
    "executionInfo": {
     "elapsed": 5,
     "status": "ok",
     "timestamp": 1645104057165,
     "user": {
      "displayName": "Rafia Jabbar",
      "photoUrl": "https://lh3.googleusercontent.com/a-/AOh14Gg_1DjP6TxgmdZBWrVUfpmjnjwXkAIoeIdQlLOP=s64",
      "userId": "15947133849312122933"
     },
     "user_tz": -300
    },
    "id": "3jQFugpdSv2r"
   },
   "outputs": [],
   "source": [
    "from sklearn.linear_model import LogisticRegression\n",
    "classifier=LogisticRegression()\n",
    "classifier.fit(X_train,y_train)\n",
    "pred=classifier.predict(X_test)\n",
    "dtc_probs = classifier.predict_proba(X_test)\n",
    "dtc_probs=dtc_probs[:,1]"
   ]
  },
  {
   "cell_type": "markdown",
   "metadata": {
    "id": "x39ZnV5NZ81i"
   },
   "source": [
    "## Logistic Regression\n",
    "1. Test Train split Accuracy, precision, recall and f1 score\n",
    "2. F1 Score for 10 Fold Cross Validation"
   ]
  },
  {
   "cell_type": "code",
   "execution_count": 17,
   "metadata": {
    "colab": {
     "base_uri": "https://localhost:8080/"
    },
    "executionInfo": {
     "elapsed": 4,
     "status": "ok",
     "timestamp": 1645104057165,
     "user": {
      "displayName": "Rafia Jabbar",
      "photoUrl": "https://lh3.googleusercontent.com/a-/AOh14Gg_1DjP6TxgmdZBWrVUfpmjnjwXkAIoeIdQlLOP=s64",
      "userId": "15947133849312122933"
     },
     "user_tz": -300
    },
    "id": "_9qBudNGSxPe",
    "outputId": "f7f75ec3-dfd1-4380-9f5e-e6aba33006c6"
   },
   "outputs": [
    {
     "name": "stdout",
     "output_type": "stream",
     "text": [
      "Complete Dataset Results\n",
      "confusion matrix\n",
      "[[940 273]\n",
      " [463 724]]\n",
      "Accuracy score: 0.6933333333333334\n",
      "Precision score: 0.6980857040115357\n",
      "F1 score: 0.6908290486272137\n",
      "Recall score: 0.6924395988140275\n"
     ]
    }
   ],
   "source": [
    "cm=confusion_matrix(y_test,pred)\n",
    "print(\"Complete Dataset Results\")\n",
    "print(\"confusion matrix\")\n",
    "print(cm)\n",
    "acc=accuracy_score(y_test, pred)\n",
    "pr=precision_score(y_test, pred,average='macro')\n",
    "re=recall_score(y_test, pred,average='macro')\n",
    "fs=f1_score(y_test, pred,average='macro')\n",
    "print('Accuracy score: {}'.format(acc))\n",
    "print('Precision score: {}'.format(pr))\n",
    "print('F1 score: {}'.format(fs))\n",
    "print('Recall score: {}'.format(re))"
   ]
  },
  {
   "cell_type": "markdown",
   "metadata": {
    "id": "EKumwyyMaDGX"
   },
   "source": [
    "#AUC ROC Curve"
   ]
  },
  {
   "cell_type": "code",
   "execution_count": 18,
   "metadata": {
    "colab": {
     "base_uri": "https://localhost:8080/",
     "height": 297
    },
    "executionInfo": {
     "elapsed": 589,
     "status": "ok",
     "timestamp": 1645104057751,
     "user": {
      "displayName": "Rafia Jabbar",
      "photoUrl": "https://lh3.googleusercontent.com/a-/AOh14Gg_1DjP6TxgmdZBWrVUfpmjnjwXkAIoeIdQlLOP=s64",
      "userId": "15947133849312122933"
     },
     "user_tz": -300
    },
    "id": "Wu3j1_GwS_be",
    "outputId": "6cf657ea-6de4-4ba5-ec3b-528f1da45228"
   },
   "outputs": [
    {
     "name": "stdout",
     "output_type": "stream",
     "text": [
      "Classifier: ROC AUC=0.764\n"
     ]
    },
    {
     "data": {
      "image/png": "[encoded data removed]",
      "text/plain": [
       "<Figure size 432x288 with 1 Axes>"
      ]
     },
     "metadata": {
      "needs_background": "light"
     },
     "output_type": "display_data"
    }
   ],
   "source": [
    "# submission={\n",
    "#     'id':data['id'],\n",
    "#     'target':test_pred,\n",
    "#     'score':dtc_probs,\n",
    "# }\n",
    "\n",
    "# submission=pd.DataFrame(submission)\n",
    "# submission.to_csv(\"subt.csv\")\n",
    "from sklearn.metrics import roc_curve\n",
    "from sklearn.metrics import roc_auc_score\n",
    "from matplotlib import pyplot\n",
    "lr_auc = roc_auc_score(y_test, dtc_probs)\n",
    "# summarize scores\n",
    "print('Classifier: ROC AUC=%.3f' % (lr_auc))\n",
    "# calculate roc curves\n",
    "lr_fpr, lr_tpr, _ = roc_curve(y_test, dtc_probs)\n",
    "# plot the roc curve for the model\n",
    "pyplot.plot(lr_fpr, lr_tpr, 'r',marker='.', label='Logistic Regression')\n",
    "# axis labels\n",
    "pyplot.xlabel('False Positive Rate')\n",
    "pyplot.ylabel('True Positive Rate')\n",
    "# show the legend\n",
    "pyplot.legend()\n",
    "# show the plot\n",
    "pyplot.show()\n",
    "\n",
    "from sklearn.model_selection import KFold\n",
    "from sklearn.neighbors import KNeighborsClassifier\n",
    "import matplotlib.pyplot as plt\n",
    "kf = KFold(n_splits=4)\n",
    "mae_train = []\n",
    "mae_test = []"
   ]
  },
  {
   "cell_type": "markdown",
   "metadata": {
    "id": "-BlgZ0epaH87"
   },
   "source": [
    "## Learning Curve"
   ]
  },
  {
   "cell_type": "code",
   "execution_count": 19,
   "metadata": {
    "colab": {
     "base_uri": "https://localhost:8080/",
     "height": 313
    },
    "executionInfo": {
     "elapsed": 10789,
     "status": "ok",
     "timestamp": 1645104068536,
     "user": {
      "displayName": "Rafia Jabbar",
      "photoUrl": "https://lh3.googleusercontent.com/a-/AOh14Gg_1DjP6TxgmdZBWrVUfpmjnjwXkAIoeIdQlLOP=s64",
      "userId": "15947133849312122933"
     },
     "user_tz": -300
    },
    "id": "YYLzX_feTLPr",
    "outputId": "5d9c7dfe-8cb0-4742-9f87-66a4b38b3a39"
   },
   "outputs": [
    {
     "name": "stderr",
     "output_type": "stream",
     "text": [
      "No handles with labels found to put in legend.\n"
     ]
    },
    {
     "data": {
      "image/png": "[encoded data removed]",
      "text/plain": [
       "<Figure size 432x288 with 1 Axes>"
      ]
     },
     "metadata": {
      "needs_background": "light"
     },
     "output_type": "display_data"
    }
   ],
   "source": [
    "# imports\n",
    "from sklearn.model_selection import learning_curve\n",
    "import matplotlib.pyplot as plt\n",
    "import numpy as np\n",
    "def plot_curve():\n",
    "    # instantiate\n",
    "    lg = LogisticRegression()\n",
    "\n",
    "    # fit\n",
    "    lg.fit(X_test , y_test)\n",
    "    \n",
    "    \n",
    "    \"\"\"\n",
    "    Generate a simple plot of the test and traning learning curve.\n",
    "\n",
    "    Parameters\n",
    "    ----------\n",
    "    estimator : object type that implements the \"fit\" and \"predict\" methods\n",
    "        An object of that type which is cloned for each validation.\n",
    "\n",
    "    title : string\n",
    "        Title for the chart.\n",
    "\n",
    "    X : array-like, shape (n_samples, n_features)\n",
    "        Training vector, where n_samples is the number of samples and\n",
    "        n_features is the number of features.\n",
    "\n",
    "    y : array-like, shape (n_samples) or (n_samples, n_features), optional\n",
    "        Target relative to X for classification or regression;\n",
    "        None for unsupervised learning.\n",
    "\n",
    "    ylim : tuple, shape (ymin, ymax), optional\n",
    "        Defines minimum and maximum yvalues plotted.\n",
    "\n",
    "    cv : integer, cross-validation generator, optional\n",
    "        If an integer is passed, it is the number of folds (defaults to 3).\n",
    "        Specific cross-validation objects can be passed, see\n",
    "        sklearn.cross_validation module for the list of possible objects\n",
    "\n",
    "    n_jobs : integer, optional\n",
    "        Number of jobs to run in parallel (default 1).\n",
    "        \n",
    "    x1 = np.linspace(0, 10, 8, endpoint=True) produces\n",
    "        8 evenly spaced points in the range 0 to 10\n",
    "    \"\"\"\n",
    "    \n",
    "    train_sizes, train_scores, test_scores = learning_curve(lg, X_test, y_test, n_jobs=-1, cv=10, train_sizes=np.linspace(.1, 1.0, 5), verbose=0)\n",
    "\n",
    "    train_scores_mean = np.mean(train_scores, axis=1)\n",
    "    train_scores_std = np.std(train_scores, axis=1)\n",
    "    test_scores_mean = np.mean(test_scores, axis=1)\n",
    "    test_scores_std = np.std(test_scores, axis=1)\n",
    "    \n",
    "    plt.figure()\n",
    "    plt.title(\"Logistic Regression\")\n",
    "    plt.legend(loc=\"best\")\n",
    "    plt.xlabel(\"Training examples\")\n",
    "    plt.ylabel(\"Score\")\n",
    "    plt.gca().invert_yaxis()\n",
    "    \n",
    "    # box-like grid\n",
    "    plt.grid()\n",
    "    \n",
    "    # plot the std deviation as a transparent range at each training set size\n",
    "    plt.fill_between(train_sizes, train_scores_mean - train_scores_std, train_scores_mean + train_scores_std, alpha=0.1, color=\"r\")\n",
    "    plt.fill_between(train_sizes, test_scores_mean - test_scores_std, test_scores_mean + test_scores_std, alpha=0.1, color=\"g\")\n",
    "    \n",
    "    # plot the average training and test score lines at each training set size\n",
    "    plt.plot(train_sizes, train_scores_mean, 'o-', color=\"r\", label=\"Training score\")\n",
    "    plt.plot(train_sizes, test_scores_mean, 'o-', color=\"g\", label=\"Cross-validation score\")\n",
    "    \n",
    "    # sizes the window for readability and displays the plot\n",
    "    # shows error from 0 to 1.1\n",
    "    plt.ylim(-.1,1.1)\n",
    "    plt.show()\n",
    "plot_curve()"
   ]
  },
  {
   "cell_type": "markdown",
   "metadata": {
    "id": "kj6xiaNvaRH-"
   },
   "source": [
    "## SVM"
   ]
  },
  {
   "cell_type": "code",
   "execution_count": 20,
   "metadata": {
    "executionInfo": {
     "elapsed": 34754,
     "status": "ok",
     "timestamp": 1645104103276,
     "user": {
      "displayName": "Rafia Jabbar",
      "photoUrl": "https://lh3.googleusercontent.com/a-/AOh14Gg_1DjP6TxgmdZBWrVUfpmjnjwXkAIoeIdQlLOP=s64",
      "userId": "15947133849312122933"
     },
     "user_tz": -300
    },
    "id": "1gcSbRxYTZpT"
   },
   "outputs": [],
   "source": [
    "from sklearn.svm import SVC\n",
    "classifier=SVC(probability=True)\n",
    "classifier.fit(X_train,y_train)\n",
    "pred=classifier.predict(X_test)\n",
    "dtc_probs = classifier.predict_proba(X_test)\n",
    "dtc_probs=dtc_probs[:,1]"
   ]
  },
  {
   "cell_type": "markdown",
   "metadata": {
    "id": "QT6sI7RIaVoV"
   },
   "source": [
    "## SVM\n",
    "1. Test Train split Accuracy, precision, recall and f1 score\n",
    "2. F1 Score for 10 Fold Cross Validation"
   ]
  },
  {
   "cell_type": "code",
   "execution_count": 21,
   "metadata": {
    "colab": {
     "base_uri": "https://localhost:8080/"
    },
    "executionInfo": {
     "elapsed": 56,
     "status": "ok",
     "timestamp": 1645104103278,
     "user": {
      "displayName": "Rafia Jabbar",
      "photoUrl": "https://lh3.googleusercontent.com/a-/AOh14Gg_1DjP6TxgmdZBWrVUfpmjnjwXkAIoeIdQlLOP=s64",
      "userId": "15947133849312122933"
     },
     "user_tz": -300
    },
    "id": "Hm4K-ItzTlcQ",
    "outputId": "46f2b228-4ac2-4497-b0d3-de245f18c5a5"
   },
   "outputs": [
    {
     "name": "stdout",
     "output_type": "stream",
     "text": [
      "Complete Dataset Score\n",
      "confusion matrix\n",
      "[[978 235]\n",
      " [486 701]]\n",
      "Accuracy score: 0.6995833333333333\n",
      "Precision score: 0.708482205408435\n",
      "F1 score: 0.6955274524125279\n",
      "Recall score: 0.6984149528659961\n"
     ]
    }
   ],
   "source": [
    "cm=confusion_matrix(y_test,pred)\n",
    "print(\"Complete Dataset Score\")\n",
    "print(\"confusion matrix\")\n",
    "print(cm)\n",
    "acc=accuracy_score(y_test, pred)\n",
    "pr=precision_score(y_test, pred,average='macro')\n",
    "re=recall_score(y_test, pred,average='macro')\n",
    "fs=f1_score(y_test, pred,average='macro')\n",
    "print('Accuracy score: {}'.format(acc))\n",
    "print('Precision score: {}'.format(pr))\n",
    "print('F1 score: {}'.format(fs))\n",
    "print('Recall score: {}'.format(re))"
   ]
  },
  {
   "cell_type": "markdown",
   "metadata": {
    "id": "TjZmTNyCaacJ"
   },
   "source": [
    "## AUC ROC Curve"
   ]
  },
  {
   "cell_type": "code",
   "execution_count": 22,
   "metadata": {
    "colab": {
     "base_uri": "https://localhost:8080/",
     "height": 297
    },
    "executionInfo": {
     "elapsed": 51,
     "status": "ok",
     "timestamp": 1645104103279,
     "user": {
      "displayName": "Rafia Jabbar",
      "photoUrl": "https://lh3.googleusercontent.com/a-/AOh14Gg_1DjP6TxgmdZBWrVUfpmjnjwXkAIoeIdQlLOP=s64",
      "userId": "15947133849312122933"
     },
     "user_tz": -300
    },
    "id": "ucmRbaUcXkDK",
    "outputId": "fab44a35-129b-46ff-8746-ad6d865d12b8"
   },
   "outputs": [
    {
     "name": "stdout",
     "output_type": "stream",
     "text": [
      "Classifier: ROC AUC=0.762\n"
     ]
    },
    {
     "data": {
      "image/png": "[encoded data removed]",
      "text/plain": [
       "<Figure size 432x288 with 1 Axes>"
      ]
     },
     "metadata": {
      "needs_background": "light"
     },
     "output_type": "display_data"
    }
   ],
   "source": [
    "# submission={\n",
    "#     'id':data['id'],\n",
    "#     'target':test_pred,\n",
    "#     'score':dtc_probs,\n",
    "# }\n",
    "\n",
    "# submission=pd.DataFrame(submission)\n",
    "# submission.to_csv(\"subt.csv\")\n",
    "from sklearn.metrics import roc_curve\n",
    "from sklearn.metrics import roc_auc_score\n",
    "from matplotlib import pyplot\n",
    "lr_auc = roc_auc_score(y_test, dtc_probs)\n",
    "# summarize scores\n",
    "print('Classifier: ROC AUC=%.3f' % (lr_auc))\n",
    "# calculate roc curves\n",
    "lr_fpr, lr_tpr, _ = roc_curve(y_test, dtc_probs)\n",
    "# plot the roc curve for the model\n",
    "pyplot.plot(lr_fpr, lr_tpr, 'r',marker='.', label='SVM')\n",
    "# axis labels\n",
    "pyplot.xlabel('False Positive Rate')\n",
    "pyplot.ylabel('True Positive Rate')\n",
    "# show the legend\n",
    "pyplot.legend()\n",
    "# show the plot\n",
    "pyplot.show()\n",
    "\n",
    "from sklearn.model_selection import KFold\n",
    "from sklearn.neighbors import KNeighborsClassifier\n",
    "import matplotlib.pyplot as plt\n",
    "kf = KFold(n_splits=4)\n",
    "mae_train = []\n",
    "mae_test = []"
   ]
  },
  {
   "cell_type": "markdown",
   "metadata": {
    "id": "hGC4U9hKak6s"
   },
   "source": [
    "## Learning Curve"
   ]
  },
  {
   "cell_type": "code",
   "execution_count": 23,
   "metadata": {
    "colab": {
     "base_uri": "https://localhost:8080/",
     "height": 313
    },
    "executionInfo": {
     "elapsed": 331920,
     "status": "ok",
     "timestamp": 1645104435159,
     "user": {
      "displayName": "Rafia Jabbar",
      "photoUrl": "https://lh3.googleusercontent.com/a-/AOh14Gg_1DjP6TxgmdZBWrVUfpmjnjwXkAIoeIdQlLOP=s64",
      "userId": "15947133849312122933"
     },
     "user_tz": -300
    },
    "id": "JTrGXE0XXqTj",
    "outputId": "3a5193d7-2995-4f8b-c1d3-bce93ad3a81b"
   },
   "outputs": [
    {
     "name": "stderr",
     "output_type": "stream",
     "text": [
      "No handles with labels found to put in legend.\n"
     ]
    },
    {
     "data": {
      "image/png": "[encoded data removed]",
      "text/plain": [
       "<Figure size 432x288 with 1 Axes>"
      ]
     },
     "metadata": {
      "needs_background": "light"
     },
     "output_type": "display_data"
    }
   ],
   "source": [
    "# imports\n",
    "from sklearn.model_selection import learning_curve\n",
    "import matplotlib.pyplot as plt\n",
    "import numpy as np\n",
    "from sklearn.svm import SVC\n",
    "def plot_curve():\n",
    "    # instantiate\n",
    "    lg = SVC()\n",
    "\n",
    "    # fit\n",
    "    lg.fit(X_test, y_test)\n",
    "    \n",
    "    \n",
    "    \"\"\"\n",
    "    Generate a simple plot of the test and traning learning curve.\n",
    "\n",
    "    Parameters\n",
    "    ----------\n",
    "    estimator : object type that implements the \"fit\" and \"predict\" methods\n",
    "        An object of that type which is cloned for each validation.\n",
    "\n",
    "    title : string\n",
    "        Title for the chart.\n",
    "\n",
    "    X : array-like, shape (n_samples, n_features)\n",
    "        Training vector, where n_samples is the number of samples and\n",
    "        n_features is the number of features.\n",
    "\n",
    "    y : array-like, shape (n_samples) or (n_samples, n_features), optional\n",
    "        Target relative to X for classification or regression;\n",
    "        None for unsupervised learning.\n",
    "\n",
    "    ylim : tuple, shape (ymin, ymax), optional\n",
    "        Defines minimum and maximum yvalues plotted.\n",
    "\n",
    "    cv : integer, cross-validation generator, optional\n",
    "        If an integer is passed, it is the number of folds (defaults to 3).\n",
    "        Specific cross-validation objects can be passed, see\n",
    "        sklearn.cross_validation module for the list of possible objects\n",
    "\n",
    "    n_jobs : integer, optional\n",
    "        Number of jobs to run in parallel (default 1).\n",
    "        \n",
    "    x1 = np.linspace(0, 10, 8, endpoint=True) produces\n",
    "        8 evenly spaced points in the range 0 to 10\n",
    "    \"\"\"\n",
    "    \n",
    "    train_sizes, train_scores, test_scores = learning_curve(lg, X_test, y_test, n_jobs=-1, cv=10, train_sizes=np.linspace(.1, 1.0, 5), verbose=0)\n",
    "\n",
    "    train_scores_mean = np.mean(train_scores, axis=1)\n",
    "    train_scores_std = np.std(train_scores, axis=1)\n",
    "    test_scores_mean = np.mean(test_scores, axis=1)\n",
    "    test_scores_std = np.std(test_scores, axis=1)\n",
    "    \n",
    "    plt.figure()\n",
    "    plt.title(\"SVM\")\n",
    "    plt.legend(loc=\"best\")\n",
    "    plt.xlabel(\"Training examples\")\n",
    "    plt.ylabel(\"Score\")\n",
    "    plt.gca().invert_yaxis()\n",
    "    \n",
    "    # box-like grid\n",
    "    plt.grid()\n",
    "    \n",
    "    # plot the std deviation as a transparent range at each training set size\n",
    "    plt.fill_between(train_sizes, train_scores_mean - train_scores_std, train_scores_mean + train_scores_std, alpha=0.1, color=\"r\")\n",
    "    plt.fill_between(train_sizes, test_scores_mean - test_scores_std, test_scores_mean + test_scores_std, alpha=0.1, color=\"g\")\n",
    "    \n",
    "    # plot the average training and test score lines at each training set size\n",
    "    plt.plot(train_sizes, train_scores_mean, 'o-', color=\"r\", label=\"Training score\")\n",
    "    plt.plot(train_sizes, test_scores_mean, 'o-', color=\"g\", label=\"Cross-validation score\")\n",
    "    \n",
    "    # sizes the window for readability and displays the plot\n",
    "    # shows error from 0 to 1.1\n",
    "    plt.ylim(-.1,1.1)\n",
    "    plt.show()\n",
    "plot_curve()"
   ]
  },
  {
   "cell_type": "code",
   "execution_count": 24,
   "metadata": {
    "executionInfo": {
     "elapsed": 35,
     "status": "ok",
     "timestamp": 1645104435161,
     "user": {
      "displayName": "Rafia Jabbar",
      "photoUrl": "https://lh3.googleusercontent.com/a-/AOh14Gg_1DjP6TxgmdZBWrVUfpmjnjwXkAIoeIdQlLOP=s64",
      "userId": "15947133849312122933"
     },
     "user_tz": -300
    },
    "id": "aoPZmTEY1b0i"
   },
   "outputs": [],
   "source": [
    "from sklearn.metrics import accuracy_score,precision_score,f1_score,recall_score\n",
    "from sklearn.model_selection import cross_val_score\n",
    "from sklearn.metrics import confusion_matrix"
   ]
  },
  {
   "cell_type": "markdown",
   "metadata": {
    "id": "9pGNqRanarp_"
   },
   "source": [
    "## Naive Bayes"
   ]
  },
  {
   "cell_type": "code",
   "execution_count": 25,
   "metadata": {
    "executionInfo": {
     "elapsed": 668,
     "status": "ok",
     "timestamp": 1645104435798,
     "user": {
      "displayName": "Rafia Jabbar",
      "photoUrl": "https://lh3.googleusercontent.com/a-/AOh14Gg_1DjP6TxgmdZBWrVUfpmjnjwXkAIoeIdQlLOP=s64",
      "userId": "15947133849312122933"
     },
     "user_tz": -300
    },
    "id": "JJfkcxJI1y-a"
   },
   "outputs": [],
   "source": [
    "from sklearn.naive_bayes import GaussianNB\n",
    "classifier=GaussianNB()\n",
    "classifier.fit(X_train,y_train)\n",
    "pred=classifier.predict(X_test)\n",
    "dtc_probs = classifier.predict_proba(X_test)\n",
    "dtc_probs=dtc_probs[:,1]"
   ]
  },
  {
   "cell_type": "markdown",
   "metadata": {
    "id": "1m941-PkaumE"
   },
   "source": [
    "## Naive Bayes\n",
    "1. Test Train split Accuracy, precision, recall and f1 score\n",
    "2. F1 Score for 10 Fold Cross Validation"
   ]
  },
  {
   "cell_type": "code",
   "execution_count": 26,
   "metadata": {
    "colab": {
     "base_uri": "https://localhost:8080/"
    },
    "executionInfo": {
     "elapsed": 29,
     "status": "ok",
     "timestamp": 1645104435799,
     "user": {
      "displayName": "Rafia Jabbar",
      "photoUrl": "https://lh3.googleusercontent.com/a-/AOh14Gg_1DjP6TxgmdZBWrVUfpmjnjwXkAIoeIdQlLOP=s64",
      "userId": "15947133849312122933"
     },
     "user_tz": -300
    },
    "id": "DfxLNhy_2Xnb",
    "outputId": "b98c2a23-2fec-4512-8fc4-47319b0b2681"
   },
   "outputs": [
    {
     "name": "stdout",
     "output_type": "stream",
     "text": [
      "Complete Dataset Results\n",
      "confusion matrix\n",
      "[[444 769]\n",
      " [196 991]]\n",
      "Accuracy score: 0.5979166666666667\n",
      "Precision score: 0.6284090909090909\n",
      "F1 score: 0.575885618035922\n",
      "Recall score: 0.6004562340996964\n"
     ]
    }
   ],
   "source": [
    "cm=confusion_matrix(y_test,pred)\n",
    "print(\"Complete Dataset Results\")\n",
    "print(\"confusion matrix\")\n",
    "print(cm)\n",
    "acc=accuracy_score(y_test, pred)\n",
    "pr=precision_score(y_test, pred,average='macro')\n",
    "re=recall_score(y_test, pred,average='macro')\n",
    "fs=f1_score(y_test, pred,average='macro')\n",
    "print('Accuracy score: {}'.format(acc))\n",
    "print('Precision score: {}'.format(pr))\n",
    "print('F1 score: {}'.format(fs))\n",
    "print('Recall score: {}'.format(re))"
   ]
  },
  {
   "cell_type": "markdown",
   "metadata": {
    "id": "ZVaszpavaz10"
   },
   "source": [
    "## AUC ROC Curve"
   ]
  },
  {
   "cell_type": "code",
   "execution_count": 27,
   "metadata": {
    "colab": {
     "base_uri": "https://localhost:8080/",
     "height": 297
    },
    "executionInfo": {
     "elapsed": 22,
     "status": "ok",
     "timestamp": 1645104435800,
     "user": {
      "displayName": "Rafia Jabbar",
      "photoUrl": "https://lh3.googleusercontent.com/a-/AOh14Gg_1DjP6TxgmdZBWrVUfpmjnjwXkAIoeIdQlLOP=s64",
      "userId": "15947133849312122933"
     },
     "user_tz": -300
    },
    "id": "A_xLTwWE2aE9",
    "outputId": "0e36f296-27eb-42e4-c0ff-3ae608162015"
   },
   "outputs": [
    {
     "name": "stdout",
     "output_type": "stream",
     "text": [
      "Classifier: ROC AUC=0.601\n"
     ]
    },
    {
     "data": {
      "image/png": "[encoded data removed]",
      "text/plain": [
       "<Figure size 432x288 with 1 Axes>"
      ]
     },
     "metadata": {
      "needs_background": "light"
     },
     "output_type": "display_data"
    }
   ],
   "source": [
    "# submission={\n",
    "#     'id':data['id'],\n",
    "#     'target':test_pred,\n",
    "#     'score':dtc_probs,\n",
    "# }\n",
    "\n",
    "# submission=pd.DataFrame(submission)\n",
    "# submission.to_csv(\"subt.csv\")\n",
    "from sklearn.metrics import roc_curve\n",
    "from sklearn.metrics import roc_auc_score\n",
    "from matplotlib import pyplot\n",
    "lr_auc = roc_auc_score(y_test, dtc_probs)\n",
    "# summarize scores\n",
    "print('Classifier: ROC AUC=%.3f' % (lr_auc))\n",
    "# calculate roc curves\n",
    "lr_fpr, lr_tpr, _ = roc_curve(y_test, dtc_probs)\n",
    "# plot the roc curve for the model\n",
    "pyplot.plot(lr_fpr, lr_tpr, 'r',marker='.', label='Naive Bayes')\n",
    "# axis labels\n",
    "pyplot.xlabel('False Positive Rate')\n",
    "pyplot.ylabel('True Positive Rate')\n",
    "# show the legend\n",
    "pyplot.legend()\n",
    "# show the plot\n",
    "pyplot.show()\n",
    "\n",
    "from sklearn.model_selection import KFold\n",
    "from sklearn.neighbors import KNeighborsClassifier\n",
    "import matplotlib.pyplot as plt\n",
    "kf = KFold(n_splits=4)\n",
    "mae_train = []\n",
    "mae_test = []"
   ]
  },
  {
   "cell_type": "markdown",
   "metadata": {
    "id": "4K_F_zWea5BC"
   },
   "source": [
    "## Learning Curve"
   ]
  },
  {
   "cell_type": "code",
   "execution_count": 28,
   "metadata": {
    "colab": {
     "base_uri": "https://localhost:8080/",
     "height": 313
    },
    "executionInfo": {
     "elapsed": 4227,
     "status": "ok",
     "timestamp": 1645104440013,
     "user": {
      "displayName": "Rafia Jabbar",
      "photoUrl": "https://lh3.googleusercontent.com/a-/AOh14Gg_1DjP6TxgmdZBWrVUfpmjnjwXkAIoeIdQlLOP=s64",
      "userId": "15947133849312122933"
     },
     "user_tz": -300
    },
    "id": "8ZdlrRgZ2eiu",
    "outputId": "dc93fbee-ee84-47b8-cad1-7e401f059439"
   },
   "outputs": [
    {
     "name": "stderr",
     "output_type": "stream",
     "text": [
      "No handles with labels found to put in legend.\n"
     ]
    },
    {
     "data": {
      "image/png": "[encoded data removed]",
      "text/plain": [
       "<Figure size 432x288 with 1 Axes>"
      ]
     },
     "metadata": {
      "needs_background": "light"
     },
     "output_type": "display_data"
    }
   ],
   "source": [
    "# imports\n",
    "from sklearn.model_selection import learning_curve\n",
    "import matplotlib.pyplot as plt\n",
    "import numpy as np\n",
    "def plot_curve():\n",
    "    # instantiate\n",
    "    lg = GaussianNB()\n",
    "\n",
    "    # fit\n",
    "    lg.fit(X_test, y_test)\n",
    "    \n",
    "    \n",
    "    \"\"\"\n",
    "    Generate a simple plot of the test and traning learning curve.\n",
    "\n",
    "    Parameters\n",
    "    ----------\n",
    "    estimator : object type that implements the \"fit\" and \"predict\" methods\n",
    "        An object of that type which is cloned for each validation.\n",
    "\n",
    "    title : string\n",
    "        Title for the chart.\n",
    "\n",
    "    X : array-like, shape (n_samples, n_features)\n",
    "        Training vector, where n_samples is the number of samples and\n",
    "        n_features is the number of features.\n",
    "\n",
    "    y : array-like, shape (n_samples) or (n_samples, n_features), optional\n",
    "        Target relative to X for classification or regression;\n",
    "        None for unsupervised learning.\n",
    "\n",
    "    ylim : tuple, shape (ymin, ymax), optional\n",
    "        Defines minimum and maximum yvalues plotted.\n",
    "\n",
    "    cv : integer, cross-validation generator, optional\n",
    "        If an integer is passed, it is the number of folds (defaults to 3).\n",
    "        Specific cross-validation objects can be passed, see\n",
    "        sklearn.cross_validation module for the list of possible objects\n",
    "\n",
    "    n_jobs : integer, optional\n",
    "        Number of jobs to run in parallel (default 1).\n",
    "        \n",
    "    x1 = np.linspace(0, 10, 8, endpoint=True) produces\n",
    "        8 evenly spaced points in the range 0 to 10\n",
    "    \"\"\"\n",
    "    \n",
    "    train_sizes, train_scores, test_scores = learning_curve(lg, X_test, y_test, n_jobs=-1, cv=10, train_sizes=np.linspace(.1, 1.0, 5), verbose=0)\n",
    "\n",
    "    train_scores_mean = np.mean(train_scores, axis=1)\n",
    "    train_scores_std = np.std(train_scores, axis=1)\n",
    "    test_scores_mean = np.mean(test_scores, axis=1)\n",
    "    test_scores_std = np.std(test_scores, axis=1)\n",
    "    \n",
    "    plt.figure()\n",
    "    plt.title(\"Naive Bayes\")\n",
    "    plt.legend(loc=\"best\")\n",
    "    plt.xlabel(\"Training examples\")\n",
    "    plt.ylabel(\"Score\")\n",
    "    plt.gca().invert_yaxis()\n",
    "    \n",
    "    # box-like grid\n",
    "    plt.grid()\n",
    "    \n",
    "    # plot the std deviation as a transparent range at each training set size\n",
    "    plt.fill_between(train_sizes, train_scores_mean - train_scores_std, train_scores_mean + train_scores_std, alpha=0.1, color=\"r\")\n",
    "    plt.fill_between(train_sizes, test_scores_mean - test_scores_std, test_scores_mean + test_scores_std, alpha=0.1, color=\"g\")\n",
    "    \n",
    "    # plot the average training and test score lines at each training set size\n",
    "    plt.plot(train_sizes, train_scores_mean, 'o-', color=\"r\", label=\"Training score\")\n",
    "    plt.plot(train_sizes, test_scores_mean, 'o-', color=\"g\", label=\"Cross-validation score\")\n",
    "    \n",
    "    # sizes the window for readability and displays the plot\n",
    "    # shows error from 0 to 1.1\n",
    "    plt.ylim(-.1,1.1)\n",
    "    plt.show()\n",
    "plot_curve()"
   ]
  },
  {
   "cell_type": "markdown",
   "metadata": {
    "id": "FHr9h3_Ka_ET"
   },
   "source": [
    "## Random Forest"
   ]
  },
  {
   "cell_type": "code",
   "execution_count": 29,
   "metadata": {
    "executionInfo": {
     "elapsed": 1950,
     "status": "ok",
     "timestamp": 1645104441952,
     "user": {
      "displayName": "Rafia Jabbar",
      "photoUrl": "https://lh3.googleusercontent.com/a-/AOh14Gg_1DjP6TxgmdZBWrVUfpmjnjwXkAIoeIdQlLOP=s64",
      "userId": "15947133849312122933"
     },
     "user_tz": -300
    },
    "id": "zMhdegl06669"
   },
   "outputs": [],
   "source": [
    "from sklearn.ensemble import RandomForestClassifier\n",
    "classifier=RandomForestClassifier()\n",
    "classifier.fit(X_train,y_train)\n",
    "pred=classifier.predict(X_test)\n",
    "dtc_probs = classifier.predict_proba(X_test)\n",
    "dtc_probs=dtc_probs[:,1]"
   ]
  },
  {
   "cell_type": "markdown",
   "metadata": {
    "id": "9FQv9m1AbDCp"
   },
   "source": [
    "## Random Forest\n",
    "1. Test Train split Accuracy, precision, recall and f1 score\n",
    "2. F1 Score for 10 Fold Cross Validation"
   ]
  },
  {
   "cell_type": "code",
   "execution_count": 30,
   "metadata": {
    "colab": {
     "base_uri": "https://localhost:8080/"
    },
    "executionInfo": {
     "elapsed": 12,
     "status": "ok",
     "timestamp": 1645104441953,
     "user": {
      "displayName": "Rafia Jabbar",
      "photoUrl": "https://lh3.googleusercontent.com/a-/AOh14Gg_1DjP6TxgmdZBWrVUfpmjnjwXkAIoeIdQlLOP=s64",
      "userId": "15947133849312122933"
     },
     "user_tz": -300
    },
    "id": "SAwgfrik6-pC",
    "outputId": "8b6ac84f-ed64-4397-e1cb-9c0d17af9d0b"
   },
   "outputs": [
    {
     "name": "stdout",
     "output_type": "stream",
     "text": [
      "confusion matrix\n",
      "Complete Dataset Results\n",
      "[[982 231]\n",
      " [490 697]]\n",
      "Accuracy score: 0.6995833333333333\n",
      "Precision score: 0.709098575712144\n",
      "F1 score: 0.6952863953933728\n",
      "Recall score: 0.6983788375163473\n"
     ]
    }
   ],
   "source": [
    "cm=confusion_matrix(y_test,pred)\n",
    "print(\"confusion matrix\")\n",
    "print(\"Complete Dataset Results\")\n",
    "print(cm)\n",
    "acc=accuracy_score(y_test, pred)\n",
    "pr=precision_score(y_test, pred,average='macro')\n",
    "re=recall_score(y_test, pred,average='macro')\n",
    "fs=f1_score(y_test, pred,average='macro')\n",
    "print('Accuracy score: {}'.format(acc))\n",
    "print('Precision score: {}'.format(pr))\n",
    "print('F1 score: {}'.format(fs))\n",
    "print('Recall score: {}'.format(re))"
   ]
  },
  {
   "cell_type": "markdown",
   "metadata": {
    "id": "5g2BlTo0bKqS"
   },
   "source": [
    "## AUC ROC Curve"
   ]
  },
  {
   "cell_type": "code",
   "execution_count": 31,
   "metadata": {
    "colab": {
     "base_uri": "https://localhost:8080/",
     "height": 297
    },
    "executionInfo": {
     "elapsed": 610,
     "status": "ok",
     "timestamp": 1645104442556,
     "user": {
      "displayName": "Rafia Jabbar",
      "photoUrl": "https://lh3.googleusercontent.com/a-/AOh14Gg_1DjP6TxgmdZBWrVUfpmjnjwXkAIoeIdQlLOP=s64",
      "userId": "15947133849312122933"
     },
     "user_tz": -300
    },
    "id": "TV2IrHNQ7OP-",
    "outputId": "4b5abc41-ae30-4a77-f224-255625cfc087"
   },
   "outputs": [
    {
     "name": "stdout",
     "output_type": "stream",
     "text": [
      "Classifier: ROC AUC=0.746\n"
     ]
    },
    {
     "data": {
      "image/png": "[encoded data removed]",
      "text/plain": [
       "<Figure size 432x288 with 1 Axes>"
      ]
     },
     "metadata": {
      "needs_background": "light"
     },
     "output_type": "display_data"
    }
   ],
   "source": [
    "# submission={\n",
    "#     'id':data['id'],\n",
    "#     'target':test_pred,\n",
    "#     'score':dtc_probs,\n",
    "# }\n",
    "\n",
    "# submission=pd.DataFrame(submission)\n",
    "# submission.to_csv(\"subt.csv\")\n",
    "from sklearn.metrics import roc_curve\n",
    "from sklearn.metrics import roc_auc_score\n",
    "from matplotlib import pyplot\n",
    "lr_auc = roc_auc_score(y_test, dtc_probs)\n",
    "# summarize scores\n",
    "print('Classifier: ROC AUC=%.3f' % (lr_auc))\n",
    "# calculate roc curves\n",
    "lr_fpr, lr_tpr, _ = roc_curve(y_test, dtc_probs)\n",
    "# plot the roc curve for the model\n",
    "pyplot.plot(lr_fpr, lr_tpr, 'r',marker='.', label='Random Forest')\n",
    "# axis labels\n",
    "pyplot.xlabel('False Positive Rate')\n",
    "pyplot.ylabel('True Positive Rate')\n",
    "# show the legend\n",
    "pyplot.legend()\n",
    "# show the plot\n",
    "pyplot.show()\n",
    "\n",
    "from sklearn.model_selection import KFold\n",
    "from sklearn.neighbors import KNeighborsClassifier\n",
    "import matplotlib.pyplot as plt\n",
    "kf = KFold(n_splits=4)\n",
    "mae_train = []\n",
    "mae_test = []"
   ]
  },
  {
   "cell_type": "markdown",
   "metadata": {
    "id": "9OfmFlhHbOvk"
   },
   "source": [
    "## Learning Curve"
   ]
  },
  {
   "cell_type": "code",
   "execution_count": 32,
   "metadata": {
    "colab": {
     "base_uri": "https://localhost:8080/",
     "height": 313
    },
    "executionInfo": {
     "elapsed": 74406,
     "status": "ok",
     "timestamp": 1645104516954,
     "user": {
      "displayName": "Rafia Jabbar",
      "photoUrl": "https://lh3.googleusercontent.com/a-/AOh14Gg_1DjP6TxgmdZBWrVUfpmjnjwXkAIoeIdQlLOP=s64",
      "userId": "15947133849312122933"
     },
     "user_tz": -300
    },
    "id": "EeHfKC7a7TCu",
    "outputId": "e853d697-6890-4baa-ca05-15f2728c4be6"
   },
   "outputs": [
    {
     "name": "stderr",
     "output_type": "stream",
     "text": [
      "No handles with labels found to put in legend.\n"
     ]
    },
    {
     "data": {
      "image/png": "[encoded data removed]",
      "text/plain": [
       "<Figure size 432x288 with 1 Axes>"
      ]
     },
     "metadata": {
      "needs_background": "light"
     },
     "output_type": "display_data"
    }
   ],
   "source": [
    "# imports\n",
    "from sklearn.model_selection import learning_curve\n",
    "import matplotlib.pyplot as plt\n",
    "import numpy as np\n",
    "def plot_curve():\n",
    "    # instantiate\n",
    "    lg = RandomForestClassifier()\n",
    "\n",
    "    # fit\n",
    "    lg.fit(X_test, y_test)\n",
    "    \n",
    "    \n",
    "    \"\"\"\n",
    "    Generate a simple plot of the test and traning learning curve.\n",
    "\n",
    "    Parameters\n",
    "    ----------\n",
    "    estimator : object type that implements the \"fit\" and \"predict\" methods\n",
    "        An object of that type which is cloned for each validation.\n",
    "\n",
    "    title : string\n",
    "        Title for the chart.\n",
    "\n",
    "    X : array-like, shape (n_samples, n_features)\n",
    "        Training vector, where n_samples is the number of samples and\n",
    "        n_features is the number of features.\n",
    "\n",
    "    y : array-like, shape (n_samples) or (n_samples, n_features), optional\n",
    "        Target relative to X for classification or regression;\n",
    "        None for unsupervised learning.\n",
    "\n",
    "    ylim : tuple, shape (ymin, ymax), optional\n",
    "        Defines minimum and maximum yvalues plotted.\n",
    "\n",
    "    cv : integer, cross-validation generator, optional\n",
    "        If an integer is passed, it is the number of folds (defaults to 3).\n",
    "        Specific cross-validation objects can be passed, see\n",
    "        sklearn.cross_validation module for the list of possible objects\n",
    "\n",
    "    n_jobs : integer, optional\n",
    "        Number of jobs to run in parallel (default 1).\n",
    "        \n",
    "    x1 = np.linspace(0, 10, 8, endpoint=True) produces\n",
    "        8 evenly spaced points in the range 0 to 10\n",
    "    \"\"\"\n",
    "    \n",
    "    train_sizes, train_scores, test_scores = learning_curve(lg, X_test, y_test, n_jobs=-1, cv=10, train_sizes=np.linspace(.1, 1.0, 5), verbose=0)\n",
    "\n",
    "    train_scores_mean = np.mean(train_scores, axis=1)\n",
    "    train_scores_std = np.std(train_scores, axis=1)\n",
    "    test_scores_mean = np.mean(test_scores, axis=1)\n",
    "    test_scores_std = np.std(test_scores, axis=1)\n",
    "    \n",
    "    plt.figure()\n",
    "    plt.title(\"Random Forest\")\n",
    "    plt.legend(loc=\"best\")\n",
    "    plt.xlabel(\"Training examples\")\n",
    "    plt.ylabel(\"Score\")\n",
    "    plt.gca().invert_yaxis()\n",
    "    \n",
    "    # box-like grid\n",
    "    plt.grid()\n",
    "    \n",
    "    # plot the std deviation as a transparent range at each training set size\n",
    "    plt.fill_between(train_sizes, train_scores_mean - train_scores_std, train_scores_mean + train_scores_std, alpha=0.1, color=\"r\")\n",
    "    plt.fill_between(train_sizes, test_scores_mean - test_scores_std, test_scores_mean + test_scores_std, alpha=0.1, color=\"g\")\n",
    "    \n",
    "    # plot the average training and test score lines at each training set size\n",
    "    plt.plot(train_sizes, train_scores_mean, 'o-', color=\"r\", label=\"Training score\")\n",
    "    plt.plot(train_sizes, test_scores_mean, 'o-', color=\"g\", label=\"Cross-validation score\")\n",
    "    \n",
    "    # sizes the window for readability and displays the plot\n",
    "    # shows error from 0 to 1.1\n",
    "    plt.ylim(-.1,1.1)\n",
    "    plt.show()\n",
    "plot_curve()"
   ]
  }
 ],
 "metadata": {
  "colab": {
   "collapsed_sections": [],
   "name": "approach_2_test_classification_100_70_tfidf.ipynb",
   "provenance": []
  },
  "kernelspec": {
   "display_name": "Python 3 (ipykernel)",
   "language": "python",
   "name": "python3"
  },
  "language_info": {
   "codemirror_mode": {
    "name": "ipython",
    "version": 3
   },
   "file_extension": ".py",
   "mimetype": "text/x-python",
   "name": "python",
   "nbconvert_exporter": "python",
   "pygments_lexer": "ipython3",
   "version": "3.10.4"
  }
 },
 "nbformat": 4,
 "nbformat_minor": 1
}
