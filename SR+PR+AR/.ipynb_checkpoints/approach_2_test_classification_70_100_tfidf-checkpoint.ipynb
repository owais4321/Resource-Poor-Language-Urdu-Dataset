{
 "cells": [
  {
   "cell_type": "markdown",
   "metadata": {
    "id": "SY5pZ5rLXlyS"
   },
   "source": [
    "**Importing pandas here**"
   ]
  },
  {
   "cell_type": "code",
   "execution_count": 1,
   "metadata": {
    "executionInfo": {
     "elapsed": 6,
     "status": "ok",
     "timestamp": 1645116929617,
     "user": {
      "displayName": "Rafia Jabbar",
      "photoUrl": "https://lh3.googleusercontent.com/a-/AOh14Gg_1DjP6TxgmdZBWrVUfpmjnjwXkAIoeIdQlLOP=s64",
      "userId": "15947133849312122933"
     },
     "user_tz": -300
    },
    "id": "KKrMV7EtNjXc"
   },
   "outputs": [],
   "source": [
    "import pandas as pd"
   ]
  },
  {
   "cell_type": "markdown",
   "metadata": {
    "id": "cLzXltu1XuA7"
   },
   "source": [
    "**Importing dataset and Having a look at dataset**"
   ]
  },
  {
   "cell_type": "code",
   "execution_count": 3,
   "metadata": {
    "colab": {
     "base_uri": "https://localhost:8080/",
     "height": 206
    },
    "executionInfo": {
     "elapsed": 1281,
     "status": "ok",
     "timestamp": 1645116950595,
     "user": {
      "displayName": "Rafia Jabbar",
      "photoUrl": "https://lh3.googleusercontent.com/a-/AOh14Gg_1DjP6TxgmdZBWrVUfpmjnjwXkAIoeIdQlLOP=s64",
      "userId": "15947133849312122933"
     },
     "user_tz": -300
    },
    "id": "BNRbAmEQNuh9",
    "outputId": "72a5e8ae-c306-4f06-f585-effb9334982f"
   },
   "outputs": [
    {
     "data": {
      "text/html": [
       "\n",
       "  <div id=\"df-d9e4647b-13e4-4006-9dad-f365ea29762f\">\n",
       "    <div class=\"colab-df-container\">\n",
       "      <div>\n",
       "<style scoped>\n",
       "    .dataframe tbody tr th:only-of-type {\n",
       "        vertical-align: middle;\n",
       "    }\n",
       "\n",
       "    .dataframe tbody tr th {\n",
       "        vertical-align: top;\n",
       "    }\n",
       "\n",
       "    .dataframe thead th {\n",
       "        text-align: right;\n",
       "    }\n",
       "</style>\n",
       "<table border=\"1\" class=\"dataframe\">\n",
       "  <thead>\n",
       "    <tr style=\"text-align: right;\">\n",
       "      <th></th>\n",
       "      <th>tweet</th>\n",
       "      <th>target</th>\n",
       "    </tr>\n",
       "  </thead>\n",
       "  <tbody>\n",
       "    <tr>\n",
       "      <th>0</th>\n",
       "      <td>قوم کے لیے پرانے خاندانی نمک حرام ہیں</td>\n",
       "      <td>1</td>\n",
       "    </tr>\n",
       "    <tr>\n",
       "      <th>1</th>\n",
       "      <td>اور پھر بھی ان خنزیروں کو بغض نواز میں سپورٹ ک...</td>\n",
       "      <td>0</td>\n",
       "    </tr>\n",
       "    <tr>\n",
       "      <th>2</th>\n",
       "      <td>پاکستان کے قبضے میں اسرائیلی پائلٹ ہے۔</td>\n",
       "      <td>0</td>\n",
       "    </tr>\n",
       "    <tr>\n",
       "      <th>3</th>\n",
       "      <td>اور نواز شریف کا نواسہ مستقبل کا وزیر اعظم</td>\n",
       "      <td>0</td>\n",
       "    </tr>\n",
       "    <tr>\n",
       "      <th>4</th>\n",
       "      <td>صرف ٹویٹر پہ بکواس کرنا ہی آسان ہے</td>\n",
       "      <td>0</td>\n",
       "    </tr>\n",
       "  </tbody>\n",
       "</table>\n",
       "</div>\n",
       "      <button class=\"colab-df-convert\" onclick=\"convertToInteractive('df-d9e4647b-13e4-4006-9dad-f365ea29762f')\"\n",
       "              title=\"Convert this dataframe to an interactive table.\"\n",
       "              style=\"display:none;\">\n",
       "        \n",
       "  <svg xmlns=\"http://www.w3.org/2000/svg\" height=\"24px\"viewBox=\"0 0 24 24\"\n",
       "       width=\"24px\">\n",
       "    <path d=\"M0 0h24v24H0V0z\" fill=\"none\"/>\n",
       "    <path d=\"M18.56 5.44l.94 2.06.94-2.06 2.06-.94-2.06-.94-.94-2.06-.94 2.06-2.06.94zm-11 1L8.5 8.5l.94-2.06 2.06-.94-2.06-.94L8.5 2.5l-.94 2.06-2.06.94zm10 10l.94 2.06.94-2.06 2.06-.94-2.06-.94-.94-2.06-.94 2.06-2.06.94z\"/><path d=\"M17.41 7.96l-1.37-1.37c-.4-.4-.92-.59-1.43-.59-.52 0-1.04.2-1.43.59L10.3 9.45l-7.72 7.72c-.78.78-.78 2.05 0 2.83L4 21.41c.39.39.9.59 1.41.59.51 0 1.02-.2 1.41-.59l7.78-7.78 2.81-2.81c.8-.78.8-2.07 0-2.86zM5.41 20L4 18.59l7.72-7.72 1.47 1.35L5.41 20z\"/>\n",
       "  </svg>\n",
       "      </button>\n",
       "      \n",
       "  <style>\n",
       "    .colab-df-container {\n",
       "      display:flex;\n",
       "      flex-wrap:wrap;\n",
       "      gap: 12px;\n",
       "    }\n",
       "\n",
       "    .colab-df-convert {\n",
       "      background-color: #E8F0FE;\n",
       "      border: none;\n",
       "      border-radius: 50%;\n",
       "      cursor: pointer;\n",
       "      display: none;\n",
       "      fill: #1967D2;\n",
       "      height: 32px;\n",
       "      padding: 0 0 0 0;\n",
       "      width: 32px;\n",
       "    }\n",
       "\n",
       "    .colab-df-convert:hover {\n",
       "      background-color: #E2EBFA;\n",
       "      box-shadow: 0px 1px 2px rgba(60, 64, 67, 0.3), 0px 1px 3px 1px rgba(60, 64, 67, 0.15);\n",
       "      fill: #174EA6;\n",
       "    }\n",
       "\n",
       "    [theme=dark] .colab-df-convert {\n",
       "      background-color: #3B4455;\n",
       "      fill: #D2E3FC;\n",
       "    }\n",
       "\n",
       "    [theme=dark] .colab-df-convert:hover {\n",
       "      background-color: #434B5C;\n",
       "      box-shadow: 0px 1px 3px 1px rgba(0, 0, 0, 0.15);\n",
       "      filter: drop-shadow(0px 1px 2px rgba(0, 0, 0, 0.3));\n",
       "      fill: #FFFFFF;\n",
       "    }\n",
       "  </style>\n",
       "\n",
       "      <script>\n",
       "        const buttonEl =\n",
       "          document.querySelector('#df-d9e4647b-13e4-4006-9dad-f365ea29762f button.colab-df-convert');\n",
       "        buttonEl.style.display =\n",
       "          google.colab.kernel.accessAllowed ? 'block' : 'none';\n",
       "\n",
       "        async function convertToInteractive(key) {\n",
       "          const element = document.querySelector('#df-d9e4647b-13e4-4006-9dad-f365ea29762f');\n",
       "          const dataTable =\n",
       "            await google.colab.kernel.invokeFunction('convertToInteractive',\n",
       "                                                     [key], {});\n",
       "          if (!dataTable) return;\n",
       "\n",
       "          const docLinkHtml = 'Like what you see? Visit the ' +\n",
       "            '<a target=\"_blank\" href=https://colab.research.google.com/notebooks/data_table.ipynb>data table notebook</a>'\n",
       "            + ' to learn more about interactive tables.';\n",
       "          element.innerHTML = '';\n",
       "          dataTable['output_type'] = 'display_data';\n",
       "          await google.colab.output.renderOutput(dataTable, element);\n",
       "          const docLink = document.createElement('div');\n",
       "          docLink.innerHTML = docLinkHtml;\n",
       "          element.appendChild(docLink);\n",
       "        }\n",
       "      </script>\n",
       "    </div>\n",
       "  </div>\n",
       "  "
      ],
      "text/plain": [
       "                                               tweet  target\n",
       "0             قوم کے لیے پرانے خاندانی نمک حرام ہیں        1\n",
       "1  اور پھر بھی ان خنزیروں کو بغض نواز میں سپورٹ ک...       0\n",
       "2             پاکستان کے قبضے میں اسرائیلی پائلٹ ہے۔       0\n",
       "3        اور نواز شریف کا نواسہ مستقبل کا وزیر اعظم        0\n",
       "4                صرف ٹویٹر پہ بکواس کرنا ہی آسان ہے        0"
      ]
     },
     "execution_count": 3,
     "metadata": {},
     "output_type": "execute_result"
    }
   ],
   "source": [
    "train=pd.read_csv(\"Dataset 2.csv\")\n",
    "test=pd.read_csv(\"Dataset 1.csv\")\n",
    "stopw=pd.read_csv(\"Stopword.csv\")\n",
    "test=test[['tweet','target']]\n",
    "test.head()"
   ]
  },
  {
   "cell_type": "markdown",
   "metadata": {
    "id": "RYHGQGOlX4vD"
   },
   "source": [
    "### Dataset Cleaning process\n",
    "1. Remove Missing values"
   ]
  },
  {
   "cell_type": "code",
   "execution_count": 4,
   "metadata": {
    "colab": {
     "base_uri": "https://localhost:8080/"
    },
    "executionInfo": {
     "elapsed": 17,
     "status": "ok",
     "timestamp": 1645116950596,
     "user": {
      "displayName": "Rafia Jabbar",
      "photoUrl": "https://lh3.googleusercontent.com/a-/AOh14Gg_1DjP6TxgmdZBWrVUfpmjnjwXkAIoeIdQlLOP=s64",
      "userId": "15947133849312122933"
     },
     "user_tz": -300
    },
    "id": "MdiOuDZ2N_SN",
    "outputId": "23e0d419-36a0-4004-f1bf-fe817caef625"
   },
   "outputs": [
    {
     "name": "stdout",
     "output_type": "stream",
     "text": [
      "1    1108\n",
      "0    1062\n",
      "Name: target, dtype: int64\n",
      "0    1213\n",
      "1    1187\n",
      "Name: target, dtype: int64\n"
     ]
    },
    {
     "name": "stderr",
     "output_type": "stream",
     "text": [
      "/usr/local/lib/python3.7/dist-packages/pandas/core/frame.py:5244: SettingWithCopyWarning: \n",
      "A value is trying to be set on a copy of a slice from a DataFrame\n",
      "\n",
      "See the caveats in the documentation: https://pandas.pydata.org/pandas-docs/stable/user_guide/indexing.html#returning-a-view-versus-a-copy\n",
      "  method=method,\n",
      "/usr/local/lib/python3.7/dist-packages/pandas/util/_decorators.py:311: SettingWithCopyWarning: \n",
      "A value is trying to be set on a copy of a slice from a DataFrame\n",
      "\n",
      "See the caveats in the documentation: https://pandas.pydata.org/pandas-docs/stable/user_guide/indexing.html#returning-a-view-versus-a-copy\n",
      "  return func(*args, **kwargs)\n"
     ]
    }
   ],
   "source": [
    "nan_value = float(\"NaN\")\n",
    "train.replace(\"\", nan_value, inplace=True)\n",
    "train.dropna(subset = [\"tweet\"], inplace=True)\n",
    "train.tail()\n",
    "print(train['target'].value_counts())\n",
    "nan_value = float(\"NaN\")\n",
    "test.replace(\"\", nan_value, inplace=True)\n",
    "test.dropna(subset = [\"tweet\"], inplace=True)\n",
    "test.tail()\n",
    "print(test['target'].value_counts())"
   ]
  },
  {
   "cell_type": "markdown",
   "metadata": {
    "id": "RIHQXJa9YHht"
   },
   "source": [
    "### Dataset Cleaning process\n",
    "2. Acquring Stopwords"
   ]
  },
  {
   "cell_type": "code",
   "execution_count": 5,
   "metadata": {
    "executionInfo": {
     "elapsed": 10,
     "status": "ok",
     "timestamp": 1645116950597,
     "user": {
      "displayName": "Rafia Jabbar",
      "photoUrl": "https://lh3.googleusercontent.com/a-/AOh14Gg_1DjP6TxgmdZBWrVUfpmjnjwXkAIoeIdQlLOP=s64",
      "userId": "15947133849312122933"
     },
     "user_tz": -300
    },
    "id": "E-PhNvnbN_9X"
   },
   "outputs": [],
   "source": [
    "stopwords=[]\n",
    "for i in (stopw['Stopwords']):\n",
    "    stopwords.append(i)"
   ]
  },
  {
   "cell_type": "markdown",
   "metadata": {
    "id": "icHw-ILnYQfr"
   },
   "source": [
    "### Dataset Cleaning process\n",
    "1. Remove Missing values\n",
    "2. Tokenization\n",
    "3. Cleaning Extra Characters\n",
    "4. Removal of Stopwords"
   ]
  },
  {
   "cell_type": "code",
   "execution_count": 6,
   "metadata": {
    "colab": {
     "base_uri": "https://localhost:8080/"
    },
    "executionInfo": {
     "elapsed": 62575,
     "status": "ok",
     "timestamp": 1645117013162,
     "user": {
      "displayName": "Rafia Jabbar",
      "photoUrl": "https://lh3.googleusercontent.com/a-/AOh14Gg_1DjP6TxgmdZBWrVUfpmjnjwXkAIoeIdQlLOP=s64",
      "userId": "15947133849312122933"
     },
     "user_tz": -300
    },
    "id": "Xf3b4JAu1B3h",
    "outputId": "8e099051-f595-42a1-addc-0a7bcb2b0ea0"
   },
   "outputs": [
    {
     "name": "stdout",
     "output_type": "stream",
     "text": [
      "Collecting urduhack[tf-gpu]\n",
      "  Downloading urduhack-1.1.1-py3-none-any.whl (105 kB)\n",
      "\u001b[?25l\r",
      "\u001b[K     |███                             | 10 kB 19.1 MB/s eta 0:00:01\r",
      "\u001b[K     |██████▏                         | 20 kB 22.7 MB/s eta 0:00:01\r",
      "\u001b[K     |█████████▎                      | 30 kB 12.1 MB/s eta 0:00:01\r",
      "\u001b[K     |████████████▍                   | 40 kB 14.3 MB/s eta 0:00:01\r",
      "\u001b[K     |███████████████▌                | 51 kB 9.3 MB/s eta 0:00:01\r",
      "\u001b[K     |██████████████████▋             | 61 kB 10.8 MB/s eta 0:00:01\r",
      "\u001b[K     |█████████████████████▊          | 71 kB 12.1 MB/s eta 0:00:01\r",
      "\u001b[K     |████████████████████████▉       | 81 kB 11.8 MB/s eta 0:00:01\r",
      "\u001b[K     |████████████████████████████    | 92 kB 12.9 MB/s eta 0:00:01\r",
      "\u001b[K     |███████████████████████████████ | 102 kB 13.9 MB/s eta 0:00:01\r",
      "\u001b[K     |████████████████████████████████| 105 kB 13.9 MB/s \n",
      "\u001b[?25hRequirement already satisfied: Click~=7.1 in /usr/local/lib/python3.7/dist-packages (from urduhack[tf-gpu]) (7.1.2)\n",
      "Requirement already satisfied: regex in /usr/local/lib/python3.7/dist-packages (from urduhack[tf-gpu]) (2019.12.20)\n",
      "Collecting tf2crf\n",
      "  Downloading tf2crf-0.1.33-py2.py3-none-any.whl (7.3 kB)\n",
      "Collecting tensorflow-datasets~=3.1\n",
      "  Downloading tensorflow_datasets-3.2.1-py3-none-any.whl (3.4 MB)\n",
      "\u001b[K     |████████████████████████████████| 3.4 MB 42.4 MB/s \n",
      "\u001b[?25hCollecting tensorflow-gpu~=2.2\n",
      "  Downloading tensorflow_gpu-2.8.0-cp37-cp37m-manylinux2010_x86_64.whl (497.5 MB)\n",
      "\u001b[K     |████████████████████████████████| 497.5 MB 24 kB/s \n",
      "\u001b[?25hRequirement already satisfied: absl-py in /usr/local/lib/python3.7/dist-packages (from tensorflow-datasets~=3.1->urduhack[tf-gpu]) (1.0.0)\n",
      "Requirement already satisfied: wrapt in /usr/local/lib/python3.7/dist-packages (from tensorflow-datasets~=3.1->urduhack[tf-gpu]) (1.13.3)\n",
      "Requirement already satisfied: numpy in /usr/local/lib/python3.7/dist-packages (from tensorflow-datasets~=3.1->urduhack[tf-gpu]) (1.21.5)\n",
      "Requirement already satisfied: tensorflow-metadata in /usr/local/lib/python3.7/dist-packages (from tensorflow-datasets~=3.1->urduhack[tf-gpu]) (1.6.0)\n",
      "Requirement already satisfied: termcolor in /usr/local/lib/python3.7/dist-packages (from tensorflow-datasets~=3.1->urduhack[tf-gpu]) (1.1.0)\n",
      "Requirement already satisfied: requests>=2.19.0 in /usr/local/lib/python3.7/dist-packages (from tensorflow-datasets~=3.1->urduhack[tf-gpu]) (2.23.0)\n",
      "Requirement already satisfied: dill in /usr/local/lib/python3.7/dist-packages (from tensorflow-datasets~=3.1->urduhack[tf-gpu]) (0.3.4)\n",
      "Requirement already satisfied: protobuf>=3.6.1 in /usr/local/lib/python3.7/dist-packages (from tensorflow-datasets~=3.1->urduhack[tf-gpu]) (3.17.3)\n",
      "Requirement already satisfied: promise in /usr/local/lib/python3.7/dist-packages (from tensorflow-datasets~=3.1->urduhack[tf-gpu]) (2.3)\n",
      "Requirement already satisfied: attrs>=18.1.0 in /usr/local/lib/python3.7/dist-packages (from tensorflow-datasets~=3.1->urduhack[tf-gpu]) (21.4.0)\n",
      "Requirement already satisfied: future in /usr/local/lib/python3.7/dist-packages (from tensorflow-datasets~=3.1->urduhack[tf-gpu]) (0.16.0)\n",
      "Requirement already satisfied: six in /usr/local/lib/python3.7/dist-packages (from tensorflow-datasets~=3.1->urduhack[tf-gpu]) (1.15.0)\n",
      "Requirement already satisfied: tqdm in /usr/local/lib/python3.7/dist-packages (from tensorflow-datasets~=3.1->urduhack[tf-gpu]) (4.62.3)\n",
      "Requirement already satisfied: urllib3!=1.25.0,!=1.25.1,<1.26,>=1.21.1 in /usr/local/lib/python3.7/dist-packages (from requests>=2.19.0->tensorflow-datasets~=3.1->urduhack[tf-gpu]) (1.24.3)\n",
      "Requirement already satisfied: chardet<4,>=3.0.2 in /usr/local/lib/python3.7/dist-packages (from requests>=2.19.0->tensorflow-datasets~=3.1->urduhack[tf-gpu]) (3.0.4)\n",
      "Requirement already satisfied: certifi>=2017.4.17 in /usr/local/lib/python3.7/dist-packages (from requests>=2.19.0->tensorflow-datasets~=3.1->urduhack[tf-gpu]) (2021.10.8)\n",
      "Requirement already satisfied: idna<3,>=2.5 in /usr/local/lib/python3.7/dist-packages (from requests>=2.19.0->tensorflow-datasets~=3.1->urduhack[tf-gpu]) (2.10)\n",
      "Requirement already satisfied: tensorflow-io-gcs-filesystem>=0.23.1 in /usr/local/lib/python3.7/dist-packages (from tensorflow-gpu~=2.2->urduhack[tf-gpu]) (0.24.0)\n",
      "Requirement already satisfied: gast>=0.2.1 in /usr/local/lib/python3.7/dist-packages (from tensorflow-gpu~=2.2->urduhack[tf-gpu]) (0.5.3)\n",
      "Requirement already satisfied: google-pasta>=0.1.1 in /usr/local/lib/python3.7/dist-packages (from tensorflow-gpu~=2.2->urduhack[tf-gpu]) (0.2.0)\n",
      "Requirement already satisfied: opt-einsum>=2.3.2 in /usr/local/lib/python3.7/dist-packages (from tensorflow-gpu~=2.2->urduhack[tf-gpu]) (3.3.0)\n",
      "Requirement already satisfied: setuptools in /usr/local/lib/python3.7/dist-packages (from tensorflow-gpu~=2.2->urduhack[tf-gpu]) (57.4.0)\n",
      "Requirement already satisfied: libclang>=9.0.1 in /usr/local/lib/python3.7/dist-packages (from tensorflow-gpu~=2.2->urduhack[tf-gpu]) (13.0.0)\n",
      "Requirement already satisfied: flatbuffers>=1.12 in /usr/local/lib/python3.7/dist-packages (from tensorflow-gpu~=2.2->urduhack[tf-gpu]) (2.0)\n",
      "Requirement already satisfied: h5py>=2.9.0 in /usr/local/lib/python3.7/dist-packages (from tensorflow-gpu~=2.2->urduhack[tf-gpu]) (3.1.0)\n",
      "Requirement already satisfied: keras<2.9,>=2.8.0rc0 in /usr/local/lib/python3.7/dist-packages (from tensorflow-gpu~=2.2->urduhack[tf-gpu]) (2.8.0)\n",
      "Requirement already satisfied: astunparse>=1.6.0 in /usr/local/lib/python3.7/dist-packages (from tensorflow-gpu~=2.2->urduhack[tf-gpu]) (1.6.3)\n",
      "Requirement already satisfied: typing-extensions>=3.6.6 in /usr/local/lib/python3.7/dist-packages (from tensorflow-gpu~=2.2->urduhack[tf-gpu]) (3.10.0.2)\n",
      "Requirement already satisfied: tensorboard<2.9,>=2.8 in /usr/local/lib/python3.7/dist-packages (from tensorflow-gpu~=2.2->urduhack[tf-gpu]) (2.8.0)\n",
      "Requirement already satisfied: keras-preprocessing>=1.1.1 in /usr/local/lib/python3.7/dist-packages (from tensorflow-gpu~=2.2->urduhack[tf-gpu]) (1.1.2)\n",
      "Collecting tf-estimator-nightly==2.8.0.dev2021122109\n",
      "  Downloading tf_estimator_nightly-2.8.0.dev2021122109-py2.py3-none-any.whl (462 kB)\n",
      "\u001b[K     |████████████████████████████████| 462 kB 51.1 MB/s \n",
      "\u001b[?25hRequirement already satisfied: grpcio<2.0,>=1.24.3 in /usr/local/lib/python3.7/dist-packages (from tensorflow-gpu~=2.2->urduhack[tf-gpu]) (1.43.0)\n",
      "Requirement already satisfied: wheel<1.0,>=0.23.0 in /usr/local/lib/python3.7/dist-packages (from astunparse>=1.6.0->tensorflow-gpu~=2.2->urduhack[tf-gpu]) (0.37.1)\n",
      "Requirement already satisfied: cached-property in /usr/local/lib/python3.7/dist-packages (from h5py>=2.9.0->tensorflow-gpu~=2.2->urduhack[tf-gpu]) (1.5.2)\n",
      "Requirement already satisfied: google-auth-oauthlib<0.5,>=0.4.1 in /usr/local/lib/python3.7/dist-packages (from tensorboard<2.9,>=2.8->tensorflow-gpu~=2.2->urduhack[tf-gpu]) (0.4.6)\n",
      "Requirement already satisfied: markdown>=2.6.8 in /usr/local/lib/python3.7/dist-packages (from tensorboard<2.9,>=2.8->tensorflow-gpu~=2.2->urduhack[tf-gpu]) (3.3.6)\n",
      "Requirement already satisfied: werkzeug>=0.11.15 in /usr/local/lib/python3.7/dist-packages (from tensorboard<2.9,>=2.8->tensorflow-gpu~=2.2->urduhack[tf-gpu]) (1.0.1)\n",
      "Requirement already satisfied: tensorboard-data-server<0.7.0,>=0.6.0 in /usr/local/lib/python3.7/dist-packages (from tensorboard<2.9,>=2.8->tensorflow-gpu~=2.2->urduhack[tf-gpu]) (0.6.1)\n",
      "Requirement already satisfied: tensorboard-plugin-wit>=1.6.0 in /usr/local/lib/python3.7/dist-packages (from tensorboard<2.9,>=2.8->tensorflow-gpu~=2.2->urduhack[tf-gpu]) (1.8.1)\n",
      "Requirement already satisfied: google-auth<3,>=1.6.3 in /usr/local/lib/python3.7/dist-packages (from tensorboard<2.9,>=2.8->tensorflow-gpu~=2.2->urduhack[tf-gpu]) (1.35.0)\n",
      "Requirement already satisfied: rsa<5,>=3.1.4 in /usr/local/lib/python3.7/dist-packages (from google-auth<3,>=1.6.3->tensorboard<2.9,>=2.8->tensorflow-gpu~=2.2->urduhack[tf-gpu]) (4.8)\n",
      "Requirement already satisfied: cachetools<5.0,>=2.0.0 in /usr/local/lib/python3.7/dist-packages (from google-auth<3,>=1.6.3->tensorboard<2.9,>=2.8->tensorflow-gpu~=2.2->urduhack[tf-gpu]) (4.2.4)\n",
      "Requirement already satisfied: pyasn1-modules>=0.2.1 in /usr/local/lib/python3.7/dist-packages (from google-auth<3,>=1.6.3->tensorboard<2.9,>=2.8->tensorflow-gpu~=2.2->urduhack[tf-gpu]) (0.2.8)\n",
      "Requirement already satisfied: requests-oauthlib>=0.7.0 in /usr/local/lib/python3.7/dist-packages (from google-auth-oauthlib<0.5,>=0.4.1->tensorboard<2.9,>=2.8->tensorflow-gpu~=2.2->urduhack[tf-gpu]) (1.3.1)\n",
      "Requirement already satisfied: importlib-metadata>=4.4 in /usr/local/lib/python3.7/dist-packages (from markdown>=2.6.8->tensorboard<2.9,>=2.8->tensorflow-gpu~=2.2->urduhack[tf-gpu]) (4.11.0)\n",
      "Requirement already satisfied: zipp>=0.5 in /usr/local/lib/python3.7/dist-packages (from importlib-metadata>=4.4->markdown>=2.6.8->tensorboard<2.9,>=2.8->tensorflow-gpu~=2.2->urduhack[tf-gpu]) (3.7.0)\n",
      "Requirement already satisfied: pyasn1<0.5.0,>=0.4.6 in /usr/local/lib/python3.7/dist-packages (from pyasn1-modules>=0.2.1->google-auth<3,>=1.6.3->tensorboard<2.9,>=2.8->tensorflow-gpu~=2.2->urduhack[tf-gpu]) (0.4.8)\n",
      "Requirement already satisfied: oauthlib>=3.0.0 in /usr/local/lib/python3.7/dist-packages (from requests-oauthlib>=0.7.0->google-auth-oauthlib<0.5,>=0.4.1->tensorboard<2.9,>=2.8->tensorflow-gpu~=2.2->urduhack[tf-gpu]) (3.2.0)\n",
      "Requirement already satisfied: googleapis-common-protos<2,>=1.52.0 in /usr/local/lib/python3.7/dist-packages (from tensorflow-metadata->tensorflow-datasets~=3.1->urduhack[tf-gpu]) (1.54.0)\n",
      "Requirement already satisfied: tensorflow>=2.1.0 in /usr/local/lib/python3.7/dist-packages (from tf2crf->urduhack[tf-gpu]) (2.8.0)\n",
      "Collecting tensorflow-addons>=0.8.2\n",
      "  Downloading tensorflow_addons-0.16.1-cp37-cp37m-manylinux_2_12_x86_64.manylinux2010_x86_64.whl (1.1 MB)\n",
      "\u001b[K     |████████████████████████████████| 1.1 MB 37.7 MB/s \n",
      "\u001b[?25hRequirement already satisfied: typeguard>=2.7 in /usr/local/lib/python3.7/dist-packages (from tensorflow-addons>=0.8.2->tf2crf->urduhack[tf-gpu]) (2.7.1)\n",
      "Installing collected packages: tf-estimator-nightly, tensorflow-addons, tf2crf, tensorflow-datasets, urduhack, tensorflow-gpu\n",
      "  Attempting uninstall: tensorflow-datasets\n",
      "    Found existing installation: tensorflow-datasets 4.0.1\n",
      "    Uninstalling tensorflow-datasets-4.0.1:\n",
      "      Successfully uninstalled tensorflow-datasets-4.0.1\n",
      "Successfully installed tensorflow-addons-0.16.1 tensorflow-datasets-3.2.1 tensorflow-gpu-2.8.0 tf-estimator-nightly-2.8.0.dev2021122109 tf2crf-0.1.33 urduhack-1.1.1\n"
     ]
    }
   ],
   "source": [
    "!pip install urduhack[tf-gpu]"
   ]
  },
  {
   "cell_type": "code",
   "execution_count": 7,
   "metadata": {
    "executionInfo": {
     "elapsed": 3817,
     "status": "ok",
     "timestamp": 1645117016974,
     "user": {
      "displayName": "Rafia Jabbar",
      "photoUrl": "https://lh3.googleusercontent.com/a-/AOh14Gg_1DjP6TxgmdZBWrVUfpmjnjwXkAIoeIdQlLOP=s64",
      "userId": "15947133849312122933"
     },
     "user_tz": -300
    },
    "id": "T0dcrZRyOOlx"
   },
   "outputs": [],
   "source": [
    "from urduhack.preprocessing import remove_punctuation\n",
    "from urduhack.preprocessing import remove_accents\n",
    "tain_corpus=[]\n",
    "for i in (train['tweet']):\n",
    "        i=remove_punctuation(i)\n",
    "        i=remove_accents(i)\n",
    "        review=i.split()\n",
    "        review=[word for word in review if word not in stopwords]\n",
    "        review=' '.join(review)\n",
    "        tain_corpus.append(review)\n",
    "test_corpus=[]\n",
    "for i in (test['tweet']):\n",
    "        i=remove_punctuation(i)\n",
    "        i=remove_accents(i)\n",
    "        review=i.split()\n",
    "        review=[word for word in review if word not in stopwords]\n",
    "        review=' '.join(review)\n",
    "        test_corpus.append(review)"
   ]
  },
  {
   "cell_type": "markdown",
   "metadata": {
    "id": "e66VhtyrYbeB"
   },
   "source": [
    "### Feature Extraction\n",
    "1. **TFIDF** Term Frequency Inverse Document Frequencey\n",
    "2. Looking at vocubalary"
   ]
  },
  {
   "cell_type": "code",
   "execution_count": 8,
   "metadata": {
    "colab": {
     "base_uri": "https://localhost:8080/"
    },
    "executionInfo": {
     "elapsed": 779,
     "status": "ok",
     "timestamp": 1645117017750,
     "user": {
      "displayName": "Rafia Jabbar",
      "photoUrl": "https://lh3.googleusercontent.com/a-/AOh14Gg_1DjP6TxgmdZBWrVUfpmjnjwXkAIoeIdQlLOP=s64",
      "userId": "15947133849312122933"
     },
     "user_tz": -300
    },
    "id": "naeZEYaROW73",
    "outputId": "354fe696-ffac-4102-bbff-81efc0b243ac"
   },
   "outputs": [
    {
     "data": {
      "text/plain": [
       "{'شام': 1045,\n",
       " 'دلے': 722,\n",
       " 'جواب': 600,\n",
       " 'گانڈ': 2278,\n",
       " 'مار': 1315,\n",
       " 'چوتیوں': 1920,\n",
       " 'کنسرٹ': 2160,\n",
       " 'کینسل': 2255,\n",
       " 'ہاتھ': 2373,\n",
       " 'ڈال': 2008,\n",
       " 'انتڑیاں': 148,\n",
       " 'نکالے': 1548,\n",
       " 'سکی': 1009,\n",
       " 'اچھی': 209,\n",
       " 'ویڈیو': 1623,\n",
       " 'برا': 303,\n",
       " 'مزاق': 1385,\n",
       " 'اتنی': 82,\n",
       " 'بھائی': 410,\n",
       " 'شادی': 1044,\n",
       " 'جملے': 592,\n",
       " 'قابل': 1198,\n",
       " 'لوڑا': 1255,\n",
       " 'آگیا': 66,\n",
       " 'للی': 1233,\n",
       " 'ٹوپا': 1650,\n",
       " 'زور': 878,\n",
       " 'لگائے': 1286,\n",
       " 'بند': 353,\n",
       " 'کروانےمیں': 2112,\n",
       " 'چوتیا': 1910,\n",
       " 'دکی': 746,\n",
       " 'بین': 464,\n",
       " 'ابرار': 72,\n",
       " 'ہندو': 2404,\n",
       " 'کلچر': 2134,\n",
       " 'بکواس': 406,\n",
       " 'بناتے': 343,\n",
       " 'لوگ': 1262,\n",
       " 'ابلیس': 73,\n",
       " 'اوئے': 179,\n",
       " 'نازک': 1507,\n",
       " 'صورتحال': 1095,\n",
       " 'فر': 1161,\n",
       " 'ابیلس': 76,\n",
       " 'اچھا': 205,\n",
       " 'نام': 1510,\n",
       " 'نئی': 1498,\n",
       " 'دیکھو': 779,\n",
       " 'ڈنڈا': 2031,\n",
       " 'کینیڈا': 2257,\n",
       " 'اوقات': 184,\n",
       " 'بھول': 428,\n",
       " 'سالے': 902,\n",
       " 'اردو': 101,\n",
       " 'بولنی': 374,\n",
       " 'گانڈو': 2282,\n",
       " 'بہن': 455,\n",
       " 'لوڑے': 1259,\n",
       " 'ہا': 2368,\n",
       " 'حچاب': 663,\n",
       " 'چوتیاپا': 1913,\n",
       " 'بنا': 333,\n",
       " 'کراور': 2085,\n",
       " 'شہرت': 1083,\n",
       " 'ملے': 1436,\n",
       " 'ہوگا': 2417,\n",
       " 'ملا': 1423,\n",
       " 'بھڑوے': 438,\n",
       " 'بچے': 395,\n",
       " 'تیل': 552,\n",
       " 'بوتل': 365,\n",
       " 'ماں': 1341,\n",
       " 'ویسے': 1611,\n",
       " 'معزز': 1417,\n",
       " 'حجاب': 642,\n",
       " 'گالیاں': 2273,\n",
       " 'رنڈی': 823,\n",
       " 'صیح': 1096,\n",
       " 'بےعزت': 481,\n",
       " 'پیسے': 1838,\n",
       " 'چلے': 1900,\n",
       " 'سبسکرائب': 909,\n",
       " 'پیج': 1830,\n",
       " 'پردیسی': 1718,\n",
       " 'لڑکی': 1270,\n",
       " 'دیکھی': 782,\n",
       " 'دنچک': 727,\n",
       " 'پوجا': 1753,\n",
       " 'ابھیشیک': 75,\n",
       " 'وقت': 1601,\n",
       " 'مرا': 1368,\n",
       " 'چینل': 2000,\n",
       " 'دیکھ': 767,\n",
       " 'لینا': 1300,\n",
       " 'ابے': 77,\n",
       " 'جھوٹے': 621,\n",
       " 'چوت': 1905,\n",
       " 'دفعہ': 715,\n",
       " 'آپس': 54,\n",
       " 'بات': 257,\n",
       " 'بار': 264,\n",
       " 'کام': 2062,\n",
       " 'اعلی': 123,\n",
       " 'چود': 1926,\n",
       " 'کروانے': 2111,\n",
       " 'لعنت': 1231,\n",
       " 'بھوسڑی': 425,\n",
       " 'آئینہ': 7,\n",
       " 'شکل': 1081,\n",
       " 'ٹٹی': 1657,\n",
       " 'شوق': 1070,\n",
       " 'بال': 275,\n",
       " 'ووڈ': 1605,\n",
       " 'انڈیا': 171,\n",
       " 'ردعمل': 815,\n",
       " 'چاہیے': 1874,\n",
       " 'فراگی': 1167,\n",
       " 'مشہور': 1409,\n",
       " 'حرکتیں': 649,\n",
       " 'پھاڑ': 1796,\n",
       " 'جاہل': 570,\n",
       " 'جانور': 567,\n",
       " 'چھوڑ': 1978,\n",
       " 'جلتے': 584,\n",
       " 'ہاہاہا': 2382,\n",
       " 'کتے': 2081,\n",
       " 'ٹٹے': 1658,\n",
       " 'غرق': 1143,\n",
       " 'چوتیے': 1922,\n",
       " 'توجہ': 517,\n",
       " 'نمبر': 1531,\n",
       " 'طریقے': 1103,\n",
       " 'حاصل': 639,\n",
       " 'کتنا': 2075,\n",
       " 'آسان': 36,\n",
       " 'روسٹ': 831,\n",
       " 'مائیک': 1311,\n",
       " 'آاسان': 11,\n",
       " 'ڈھکن': 2037,\n",
       " 'فالتو': 1158,\n",
       " 'بناتا': 341,\n",
       " 'چوتیےانہوں': 1923,\n",
       " 'تیرا': 546,\n",
       " 'کہاں': 2232,\n",
       " 'اوپر': 191,\n",
       " 'فٹ': 1186,\n",
       " 'بولنے': 375,\n",
       " 'سوچ': 971,\n",
       " 'فراڈ': 1164,\n",
       " 'باپ': 279,\n",
       " 'سمجھتا': 938,\n",
       " 'بندر': 354,\n",
       " 'کم': 2139,\n",
       " 'فائن': 1155,\n",
       " 'کالے': 2061,\n",
       " 'اپ': 201,\n",
       " 'لوڈ': 1252,\n",
       " 'کیں': 2260,\n",
       " 'کمینے': 2154,\n",
       " 'پوری': 1757,\n",
       " 'پڑھ': 1784,\n",
       " 'لکھا': 1277,\n",
       " 'کیری': 2245,\n",
       " 'آج': 13,\n",
       " 'سستے': 926,\n",
       " 'نشے': 1522,\n",
       " 'کیئے': 2241,\n",
       " 'پکانا': 1790,\n",
       " 'بور': 367,\n",
       " 'پاگل': 1702,\n",
       " 'بھوسڑے': 427,\n",
       " 'جلتی': 583,\n",
       " 'بیٹھ': 470,\n",
       " 'پاکستان': 1699,\n",
       " 'یوٹیوبر': 2457,\n",
       " 'لوڑو': 1256,\n",
       " 'فضول': 1177,\n",
       " 'بھونک': 431,\n",
       " 'لونڈے': 1249,\n",
       " 'دم': 723,\n",
       " 'نہں': 1556,\n",
       " 'مادرچود': 1314,\n",
       " 'لنڈ': 1239,\n",
       " 'لینے': 1302,\n",
       " 'نعمان': 1525,\n",
       " 'کدہر': 2083,\n",
       " 'سپر': 981,\n",
       " 'سٹار': 976,\n",
       " 'کاپی': 2071,\n",
       " 'ویڈیوز': 1627,\n",
       " 'جوتیوں': 605,\n",
       " 'لوگوں': 1264,\n",
       " 'پہ': 1818,\n",
       " 'مت': 1345,\n",
       " 'لگاؤ': 1284,\n",
       " 'بہتر': 452,\n",
       " 'ویو': 1615,\n",
       " 'گانے': 2287,\n",
       " 'زمین': 874,\n",
       " 'آسمان': 38,\n",
       " 'فرق': 1168,\n",
       " 'پسندیدہ': 1735,\n",
       " 'دیکھیں': 783,\n",
       " 'بچالے': 389,\n",
       " 'مادر': 1313,\n",
       " 'نیہں': 1566,\n",
       " 'ادھر': 99,\n",
       " 'مرضی': 1374,\n",
       " 'سنیں': 960,\n",
       " 'میوزک': 1492,\n",
       " 'شروع': 1060,\n",
       " 'اتار': 78,\n",
       " 'رکھ': 849,\n",
       " 'اترو': 80,\n",
       " 'سن': 945,\n",
       " 'گوبھی': 2330,\n",
       " 'آنٹی': 47,\n",
       " 'مر': 1367,\n",
       " 'اتنا': 81,\n",
       " 'پہلی': 1820,\n",
       " 'پسند': 1734,\n",
       " 'چھوٹا': 1975,\n",
       " 'کونٹینٹ': 2179,\n",
       " 'جدا': 574,\n",
       " 'مزہ': 1387,\n",
       " 'گندی': 2327,\n",
       " 'انعم': 162,\n",
       " 'جتنی': 572,\n",
       " 'گھٹیا': 2355,\n",
       " 'زندگی': 876,\n",
       " 'دیکھا': 768,\n",
       " 'محنت': 1361,\n",
       " 'ثابت': 555,\n",
       " 'مزاحیہ': 1384,\n",
       " 'اج': 84,\n",
       " 'گیم': 2359,\n",
       " 'کھیلا': 2223,\n",
       " 'کارٹون': 2052,\n",
       " 'دئیے': 697,\n",
       " 'غصہ': 1145,\n",
       " 'دلا': 717,\n",
       " 'اجے': 89,\n",
       " 'لاکھوں': 1222,\n",
       " 'لئیے': 1210,\n",
       " 'لائیکس': 1215,\n",
       " 'نےآپ': 1567,\n",
       " 'بنائیں': 339,\n",
       " 'کمنٹ': 2146,\n",
       " 'نےمیری': 1571,\n",
       " 'دوسرا': 737,\n",
       " 'مین': 1490,\n",
       " 'دانتوں': 705,\n",
       " 'پیار': 1825,\n",
       " 'اجےمجھے': 90,\n",
       " 'آواز': 51,\n",
       " 'سٹائل': 975,\n",
       " 'چلتے': 1897,\n",
       " 'واقعی': 1580,\n",
       " 'یار': 2443,\n",
       " 'یاد': 2442,\n",
       " 'دلائی': 718,\n",
       " 'اچھاہے': 207,\n",
       " 'عرفان': 1118,\n",
       " 'جنجوے': 595,\n",
       " 'سنا': 946,\n",
       " 'ماری': 1327,\n",
       " 'اسکی': 112,\n",
       " 'گوگل': 2339,\n",
       " 'کمانا': 2143,\n",
       " 'چاہتا': 1869,\n",
       " 'اختتام': 92,\n",
       " 'ضرور': 1098,\n",
       " 'اخیر': 93,\n",
       " 'حوصلہ': 661,\n",
       " 'چیتا': 1993,\n",
       " 'ماور': 1340,\n",
       " 'کردی': 2092,\n",
       " 'نےجھوٹی': 1569,\n",
       " 'ہوگئی': 2416,\n",
       " 'بجائی': 293,\n",
       " 'ادریس': 97,\n",
       " 'ادھار': 98,\n",
       " 'کارڈ': 2053,\n",
       " 'لنک': 1240,\n",
       " 'ہاہاہاہا': 2384,\n",
       " 'ارفع': 102,\n",
       " 'عظمت': 1123,\n",
       " 'ارے': 103,\n",
       " 'بھیا': 442,\n",
       " 'مل': 1422,\n",
       " 'مطلب': 1411,\n",
       " 'بڑھو': 402,\n",
       " 'گروپ': 2308,\n",
       " 'آخری': 25,\n",
       " 'لائیک': 1214,\n",
       " 'ہنسی': 2409,\n",
       " 'روک': 844,\n",
       " 'پا': 1688,\n",
       " 'اگلی': 230,\n",
       " 'کب': 2072,\n",
       " 'آرہی': 31,\n",
       " 'بھیج': 443,\n",
       " 'کالی': 2060,\n",
       " 'چرن': 1887,\n",
       " 'ولن': 1603,\n",
       " 'کردار': 2089,\n",
       " 'ادا': 94,\n",
       " 'دل': 716,\n",
       " 'چھین': 1988,\n",
       " 'قسم': 1204,\n",
       " 'ڈیلیٹ': 2040,\n",
       " 'چودی': 1934,\n",
       " 'بندے': 356,\n",
       " 'کہتا': 2233,\n",
       " 'آؤں': 3,\n",
       " 'خراب': 678,\n",
       " 'ناپسند': 1512,\n",
       " 'نسل': 1518,\n",
       " 'ننگا': 1532,\n",
       " 'مارنا': 1320,\n",
       " 'یکی': 2459,\n",
       " 'سپورٹ': 983,\n",
       " 'گندا': 2325,\n",
       " 'پکڑ': 1791,\n",
       " 'مارو': 1323,\n",
       " 'الگ': 134,\n",
       " 'غیرت': 1152,\n",
       " 'حق': 654,\n",
       " 'بنتا': 350,\n",
       " 'پاکستانیوں': 1701,\n",
       " 'انسان': 160,\n",
       " 'گھر': 2341,\n",
       " 'جھیل': 625,\n",
       " 'ہمت': 2400,\n",
       " 'داد': 700,\n",
       " 'تکلیف': 531,\n",
       " 'بندہ': 355,\n",
       " 'جھوٹی': 620,\n",
       " 'دیکھنے': 778,\n",
       " 'سدھارت': 919,\n",
       " 'اسلام': 108,\n",
       " 'عزتی': 1121,\n",
       " 'کرواتے': 2109,\n",
       " 'حرامی': 646,\n",
       " 'کتنی': 2076,\n",
       " 'جوتیاں': 604,\n",
       " 'پڑنی': 1782,\n",
       " 'چاہیں': 1873,\n",
       " 'پتہ': 1708,\n",
       " 'چل': 1890,\n",
       " 'سالا': 897,\n",
       " 'ذہنی': 795,\n",
       " 'مریض': 1382,\n",
       " 'چھوڑو': 1980,\n",
       " 'گاںڈو': 2290,\n",
       " 'کوپکڑو': 2182,\n",
       " 'بولا': 371,\n",
       " 'ڈول': 2033,\n",
       " 'گناہ': 2324,\n",
       " 'رائٹ': 801,\n",
       " 'جل': 579,\n",
       " 'طوخم': 1104,\n",
       " 'اویٹر': 194,\n",
       " 'کھبا': 2199,\n",
       " 'ٹٹہ': 1656,\n",
       " 'تے': 554,\n",
       " 'رپورٹس': 848,\n",
       " 'گیں': 2361,\n",
       " 'کمنٹس': 2148,\n",
       " 'اشتعال': 114,\n",
       " 'دلاتے': 719,\n",
       " 'انتظار': 146,\n",
       " 'کردیا': 2093,\n",
       " 'سینڈ': 1027,\n",
       " 'شاہ': 1052,\n",
       " 'سکول': 1003,\n",
       " 'علاج': 1127,\n",
       " 'سبسکرائبر': 910,\n",
       " 'ملیں': 1435,\n",
       " 'پھیر': 1814,\n",
       " 'خود': 690,\n",
       " 'کھسرا': 2206,\n",
       " 'ابو': 74,\n",
       " 'جاری': 562,\n",
       " 'رکھو': 850,\n",
       " 'ٹائم': 1631,\n",
       " 'لازمی': 1219,\n",
       " 'بناؤ': 335,\n",
       " 'نیا': 1557,\n",
       " 'سال': 896,\n",
       " 'مبارک': 1343,\n",
       " 'ختم': 676,\n",
       " 'راوالپنڈی': 808,\n",
       " 'ناران': 1505,\n",
       " 'گائیڈ': 2266,\n",
       " 'لوں': 1265,\n",
       " 'سنجیدہ': 949,\n",
       " 'یو': 2453,\n",
       " 'شیخ': 1087,\n",
       " 'گورمیت': 2332,\n",
       " 'ڈائریکٹ': 2005,\n",
       " 'کیاہے': 2243,\n",
       " 'کہتے': 2234,\n",
       " 'اصلی': 120,\n",
       " 'مواد': 1457,\n",
       " 'بناء': 334,\n",
       " 'ویشنو': 1612,\n",
       " 'ماتا': 1312,\n",
       " 'بارے': 268,\n",
       " 'آدمی': 27,\n",
       " 'کوسبق': 2174,\n",
       " 'سیکھایا': 1035,\n",
       " 'سٹیشن': 980,\n",
       " 'آڈیشن': 57,\n",
       " 'کہیں': 2240,\n",
       " 'آگئی': 63,\n",
       " 'پھٹ': 1808,\n",
       " 'ڈسک': 2028,\n",
       " 'تیسی': 551,\n",
       " 'سالی': 900,\n",
       " 'چوری': 1940,\n",
       " 'باتوں': 258,\n",
       " 'وزن': 1593,\n",
       " 'نکالتے': 1545,\n",
       " 'انے': 178,\n",
       " 'واہ': 1586,\n",
       " 'نکل': 1549,\n",
       " 'پڑی': 1786,\n",
       " 'ماروں': 1325,\n",
       " 'شیو': 1089,\n",
       " 'پھینک': 1817,\n",
       " 'لن': 1237,\n",
       " 'آنکھ': 48,\n",
       " 'چھولا': 1973,\n",
       " 'کہو': 2238,\n",
       " 'سر': 920,\n",
       " 'درد': 709,\n",
       " 'شوکت': 1073,\n",
       " 'خانم': 672,\n",
       " 'کروا': 2106,\n",
       " 'ہسپتال': 2393,\n",
       " 'گنا': 2323,\n",
       " 'فیس': 1192,\n",
       " 'بک': 405,\n",
       " 'پیچ': 1849,\n",
       " 'پاکستانی': 1700,\n",
       " 'شرم': 1057,\n",
       " 'حصہ': 651,\n",
       " 'سننے': 955,\n",
       " 'چین': 1999,\n",
       " 'سموکر': 944,\n",
       " 'پلیز': 1743,\n",
       " 'زہر': 880,\n",
       " 'سچ': 987,\n",
       " 'اندھا': 157,\n",
       " 'کلک': 2135,\n",
       " 'ایپلیکشن': 241,\n",
       " 'ڈون': 2034,\n",
       " 'کوڈ': 2184,\n",
       " 'استعمال': 106,\n",
       " 'رجسٹر': 811,\n",
       " 'چیک': 2002,\n",
       " 'مہربانی': 1482,\n",
       " 'فرما': 1169,\n",
       " 'لونڈیا': 1248,\n",
       " 'شا': 1040,\n",
       " 'لائن': 1212,\n",
       " 'مارے': 1330,\n",
       " 'ساتھ': 886,\n",
       " 'ڈیٹ': 2042,\n",
       " 'عوام': 1137,\n",
       " 'مردے': 1373,\n",
       " 'جسم': 578,\n",
       " 'لوٹ': 1251,\n",
       " 'لوسالوں': 1244,\n",
       " 'برائی': 304,\n",
       " 'تبدیلی': 488,\n",
       " 'اصل': 119,\n",
       " 'کوشش': 2176,\n",
       " 'ویوز': 1618,\n",
       " 'بنتے': 352,\n",
       " 'امین': 143,\n",
       " 'پکا': 1789,\n",
       " 'شکریہ': 1080,\n",
       " 'اللہ': 129,\n",
       " 'ساری': 889,\n",
       " 'کامیابیاں': 2065,\n",
       " 'اسد': 107,\n",
       " 'اشیش': 118,\n",
       " 'حال': 640,\n",
       " 'اسلم': 109,\n",
       " 'کنجر': 2157,\n",
       " 'الفاظ': 128,\n",
       " 'بنگالی': 361,\n",
       " 'ڈر': 2019,\n",
       " 'اسکا': 111,\n",
       " 'اشانت': 113,\n",
       " 'شرما': 1058,\n",
       " 'اکبر': 218,\n",
       " 'بچوں': 391,\n",
       " 'لیئے': 1297,\n",
       " 'عطیات': 1122,\n",
       " 'اکٹھے': 221,\n",
       " 'معذرت': 1416,\n",
       " 'اکتوبر': 219,\n",
       " 'ٹائٹل': 1632,\n",
       " 'دارو': 702,\n",
       " 'تبدیل': 487,\n",
       " 'واپس': 1584,\n",
       " 'احتجاج': 91,\n",
       " 'پروموٹ': 1723,\n",
       " 'چاہتے': 1871,\n",
       " 'چودو': 1931,\n",
       " 'شیئر': 1085,\n",
       " 'ذیادہ': 798,\n",
       " 'روسٹنگ': 833,\n",
       " 'آؤ': 0,\n",
       " 'جوائن': 599,\n",
       " 'لطف': 1229,\n",
       " 'اٹھاؤ': 196,\n",
       " 'شریف': 1063,\n",
       " 'تہ': 543,\n",
       " 'دوسروں': 738,\n",
       " 'باتیں': 259,\n",
       " 'ٹھیکھ': 1672,\n",
       " 'پڑا': 1778,\n",
       " 'مناتی': 1440,\n",
       " 'فا': 1153,\n",
       " 'ئن': 68,\n",
       " 'ٹک': 1659,\n",
       " 'ٹاک': 1639,\n",
       " 'فالو': 1159,\n",
       " 'ہمیں': 2403,\n",
       " 'بالکل': 277,\n",
       " 'جادو': 560,\n",
       " 'سارے': 890,\n",
       " 'سانڈیساہ': 903,\n",
       " 'ترین': 499,\n",
       " 'اگلے': 231,\n",
       " 'سطح': 927,\n",
       " 'الٹی': 132,\n",
       " 'پھیلاتا': 1815,\n",
       " 'قس': 1203,\n",
       " 'مے': 1497,\n",
       " 'الماس': 130,\n",
       " 'ہدایات': 2387,\n",
       " 'چلانے': 1894,\n",
       " 'عزت': 1120,\n",
       " 'کھیل': 2222,\n",
       " 'جیکب': 634,\n",
       " 'بنائی': 338,\n",
       " 'امیر': 142,\n",
       " 'کھوتی': 2212,\n",
       " 'غریب': 1144,\n",
       " 'جھونپڑا': 617,\n",
       " 'بھوسڑا': 424,\n",
       " 'بن': 332,\n",
       " 'تن': 513,\n",
       " 'تولا': 519,\n",
       " 'بول': 370,\n",
       " 'دودھ': 731,\n",
       " 'مانگو': 1338,\n",
       " 'کھیر': 2221,\n",
       " 'چیر': 1994,\n",
       " 'سستا': 924,\n",
       " 'تھوک': 539,\n",
       " 'کینسر': 2254,\n",
       " 'گھسی': 2344,\n",
       " 'کنجری': 2159,\n",
       " 'دا': 698,\n",
       " 'پتر': 1707,\n",
       " 'پھٹے': 1811,\n",
       " 'کنڈم': 2165,\n",
       " 'اولاد': 185,\n",
       " 'چودوں': 1932,\n",
       " 'اڑا': 211,\n",
       " 'لفظ': 1232,\n",
       " 'نفرت': 1526,\n",
       " 'انتہائی': 150,\n",
       " 'سالگرہ': 899,\n",
       " 'انٹرنیٹ': 166,\n",
       " 'ذریعے': 790,\n",
       " 'جانتا': 565,\n",
       " 'انجالی': 152,\n",
       " 'پیاری': 1827,\n",
       " 'اندر': 156,\n",
       " 'باہر': 281,\n",
       " 'کھسری': 2207,\n",
       " 'ناصر': 1508,\n",
       " 'خان': 670,\n",
       " 'جان': 563,\n",
       " 'گالی': 2272,\n",
       " 'پڑ': 1777,\n",
       " 'انرجی': 159,\n",
       " 'ڈرنک': 2023,\n",
       " 'لسی': 1228,\n",
       " 'وجہ': 1588,\n",
       " 'ین': 2452,\n",
       " 'اہ': 233,\n",
       " 'پن': 1746,\n",
       " 'چت': 1878,\n",
       " 'ماریں': 1328,\n",
       " 'جھوٹا': 619,\n",
       " 'کہنے': 2237,\n",
       " 'اودے': 181,\n",
       " 'شٹکر': 1075,\n",
       " 'متعلقہ': 1347,\n",
       " 'بی': 458,\n",
       " 'جلدی': 587,\n",
       " 'نگر': 1553,\n",
       " 'جھوٹ': 618,\n",
       " 'سہارا': 1012,\n",
       " 'پڑتا': 1779,\n",
       " 'عقل': 1126,\n",
       " 'لکھتا': 1278,\n",
       " 'کل': 2129,\n",
       " 'چٹوانے': 1954,\n",
       " 'جیری': 631,\n",
       " 'مست': 1394,\n",
       " 'غضب': 1147,\n",
       " 'بنایا': 349,\n",
       " 'گانڈوپن': 2285,\n",
       " 'تونہیں': 521,\n",
       " 'سبسکرائیب': 912,\n",
       " 'گرنیڈ': 2305,\n",
       " 'سکتاتھا': 997,\n",
       " 'مارنے': 1322,\n",
       " 'ضرورت': 1099,\n",
       " 'ہنس': 2406,\n",
       " 'رو': 826,\n",
       " 'لڑکا': 1268,\n",
       " 'کنفیوشن': 2163,\n",
       " 'اوسم': 183,\n",
       " 'اولام': 186,\n",
       " 'داخل': 699,\n",
       " 'گانا': 2275,\n",
       " 'چلایا': 1895,\n",
       " 'اوم': 187,\n",
       " 'پرکاش': 1727,\n",
       " 'بڑھیا': 403,\n",
       " 'فائدہ': 1154,\n",
       " 'اومے': 188,\n",
       " 'اونام': 189,\n",
       " 'گپتا': 2340,\n",
       " 'بےوفا': 484,\n",
       " 'اوہ': 192,\n",
       " 'دیکھنا': 776,\n",
       " 'پڑے': 1787,\n",
       " 'جانتے': 566,\n",
       " 'بھوج': 422,\n",
       " 'گانوں': 2277,\n",
       " 'معاشرے': 1413,\n",
       " 'تنقید': 514,\n",
       " 'سکتے': 999,\n",
       " 'جی': 628,\n",
       " 'خدا': 677,\n",
       " 'بڑبڑا': 398,\n",
       " 'موقع': 1463,\n",
       " 'حیران': 666,\n",
       " 'خواب': 684,\n",
       " 'ٹیکے': 1685,\n",
       " 'کافی': 2056,\n",
       " 'لیٹ': 1305,\n",
       " 'اوہم': 193,\n",
       " 'سرما': 921,\n",
       " 'انڈین': 172,\n",
       " 'آئڈل': 6,\n",
       " 'باز': 269,\n",
       " 'آجاکوڑی': 21,\n",
       " 'ٹکی': 1662,\n",
       " 'منہ': 1456,\n",
       " 'گدھے': 2298,\n",
       " 'جئیسی': 557,\n",
       " 'تلاش': 509,\n",
       " 'بج': 290,\n",
       " 'پولیو': 1763,\n",
       " 'ٹیکہ': 1684,\n",
       " 'تمیز': 512,\n",
       " 'زرا': 870,\n",
       " 'چھوتے': 1972,\n",
       " 'مروانے': 1379,\n",
       " 'عمرا': 1133,\n",
       " 'بیچ': 473,\n",
       " 'بورنگ': 368,\n",
       " 'یوتمہارے': 2454,\n",
       " 'دیکھایا': 772,\n",
       " 'بس': 317,\n",
       " 'کہوں': 2239,\n",
       " 'روپالی': 841,\n",
       " 'ہالی': 2378,\n",
       " 'ورژن': 1592,\n",
       " 'پھانسی': 1795,\n",
       " 'لگاتا': 1287,\n",
       " 'ہےزمیں': 2432,\n",
       " 'پنکھے': 1750,\n",
       " 'رسی': 816,\n",
       " 'دال': 704,\n",
       " 'لگ': 1283,\n",
       " 'پھٹی': 1810,\n",
       " 'ٹام': 1636,\n",
       " 'کروز': 2114,\n",
       " 'بنانے': 348,\n",
       " 'جیل': 632,\n",
       " 'سکیم': 1010,\n",
       " 'پروان': 1719,\n",
       " 'چڑھ': 1959,\n",
       " 'بتا': 283,\n",
       " 'دن': 725,\n",
       " 'بیمار': 462,\n",
       " 'ہےکیا': 2440,\n",
       " 'روح': 829,\n",
       " 'فروخت': 1172,\n",
       " 'لوگان': 1263,\n",
       " 'پال': 1696,\n",
       " 'چتیاپا': 1881,\n",
       " 'دوسری': 739,\n",
       " 'مرے': 1383,\n",
       " 'خلاف': 682,\n",
       " 'بولتا': 372,\n",
       " 'لیرولیر': 1298,\n",
       " 'کردیتا': 2095,\n",
       " 'لمبے': 1235,\n",
       " 'عرصہ': 1116,\n",
       " 'یوزر': 2455,\n",
       " 'چائے': 1858,\n",
       " 'پیتے': 1829,\n",
       " 'گزارش': 2312,\n",
       " 'جتنا': 571,\n",
       " 'سکے': 1011,\n",
       " 'کیوںکہ': 2258,\n",
       " 'بھڑوا': 435,\n",
       " 'بھوجی': 423,\n",
       " 'اڑاتا': 212,\n",
       " 'مقصد': 1421,\n",
       " 'مکمل': 1479,\n",
       " 'اچھے': 210,\n",
       " 'سافٹ': 894,\n",
       " 'وئیر': 1573,\n",
       " 'بتاؤ': 284,\n",
       " 'ٹیٹو': 1680,\n",
       " 'ٹھگ': 1670,\n",
       " 'بیک': 477,\n",
       " 'گراؤنڈ': 2301,\n",
       " 'کھجلی': 2205,\n",
       " 'ہےکچھ': 2438,\n",
       " 'ڈرامہ': 2021,\n",
       " 'بلاگ': 325,\n",
       " 'دیکھتا': 773,\n",
       " 'ڈالیں': 2014,\n",
       " 'تنگ': 516,\n",
       " 'شاباش': 1043,\n",
       " 'آتش': 12,\n",
       " 'اجالا': 86,\n",
       " 'کنسلٹ': 2161,\n",
       " 'تونے': 522,\n",
       " 'آنکھیں': 50,\n",
       " 'کھول': 2214,\n",
       " 'ٹیم': 1675,\n",
       " 'فیصلہ': 1193,\n",
       " 'ملین': 1434,\n",
       " 'سبسکرائبرز': 911,\n",
       " 'رونا': 839,\n",
       " 'کھلے': 2211,\n",
       " 'یقین': 2451,\n",
       " 'مانو': 1335,\n",
       " 'سیکسی': 1030,\n",
       " 'آخر': 23,\n",
       " 'کار': 2049,\n",
       " 'کھیلنا': 2226,\n",
       " 'دوبارہ': 730,\n",
       " 'کارسب': 2050,\n",
       " 'کوجواب': 2173,\n",
       " 'حقیقت': 656,\n",
       " 'پیارا': 1826,\n",
       " 'آجے': 22,\n",
       " 'کلپ': 2133,\n",
       " 'بھہت': 441,\n",
       " 'بننے': 358,\n",
       " 'چیٹ': 2001,\n",
       " 'آخرکار': 24,\n",
       " 'بچپن': 392,\n",
       " 'کھلی': 2210,\n",
       " 'لگانے': 1289,\n",
       " 'پڑتی': 1780,\n",
       " 'کوپورا': 2181,\n",
       " 'آریام': 33,\n",
       " 'پیدا': 1832,\n",
       " 'غلطی': 1149,\n",
       " 'لگتی': 1292,\n",
       " 'آریان': 34,\n",
       " 'بھاگ': 414,\n",
       " 'دیکھتے': 775,\n",
       " 'آسمانی': 39,\n",
       " 'کھٹی': 2216,\n",
       " 'پچکاری': 1774,\n",
       " 'آفریدی': 43,\n",
       " 'چپ': 1956,\n",
       " 'آکاش': 59,\n",
       " 'کمار': 2141,\n",
       " 'دیکھں': 781,\n",
       " 'آگےسے': 67,\n",
       " 'کراس': 2084,\n",
       " 'آن': 45,\n",
       " 'گروٹیچ': 2307,\n",
       " 'آؤٹ': 1,\n",
       " 'امتحان': 136,\n",
       " 'آئےیوراما': 10,\n",
       " 'دیکھاتا': 770,\n",
       " 'ہےیہ': 2441,\n",
       " 'میچ': 1494,\n",
       " 'دلچسپ': 721,\n",
       " 'بابا': 255,\n",
       " 'ٹی': 1673,\n",
       " 'سیرز': 1020,\n",
       " 'بدلہ': 301,\n",
       " 'انٹرویو': 167,\n",
       " 'بغیر': 320,\n",
       " 'تجربہ': 491,\n",
       " 'باراک': 265,\n",
       " 'اوباما': 180,\n",
       " 'باس': 272,\n",
       " 'ملائیکہ': 1425,\n",
       " 'بتائیں': 286,\n",
       " 'پرانا': 1712,\n",
       " 'لگوا': 1295,\n",
       " 'گورا': 2331,\n",
       " 'بچہ': 393,\n",
       " 'بائیوگرافی': 251,\n",
       " 'ببن': 282,\n",
       " 'بچو': 390,\n",
       " 'دیر': 756,\n",
       " 'بخشی': 296,\n",
       " 'آپکا': 56,\n",
       " 'واپیس': 1585,\n",
       " 'سوری': 967,\n",
       " 'منانا': 1441,\n",
       " 'حمزہ': 660,\n",
       " 'برے': 316,\n",
       " 'برابر': 305,\n",
       " 'برچودی': 310,\n",
       " 'مرانی': 1370,\n",
       " 'لوڑی': 1258,\n",
       " 'بولتی': 373,\n",
       " 'برقع': 308,\n",
       " 'برہان': 312,\n",
       " 'حسن': 650,\n",
       " 'لوسر': 1245,\n",
       " 'پوچھتے': 1768,\n",
       " 'بری': 313,\n",
       " 'جمے': 593,\n",
       " 'انگریز': 174,\n",
       " 'لمبی': 1234,\n",
       " 'پرجو': 1717,\n",
       " 'محترم': 1355,\n",
       " 'اک': 216,\n",
       " 'چیز': 1995,\n",
       " 'سوچتا': 973,\n",
       " 'اکژ': 223,\n",
       " 'قیامت': 1209,\n",
       " 'دیکھائیں': 769,\n",
       " 'کہنا': 2236,\n",
       " 'ٹکا': 1660,\n",
       " 'جھلی': 615,\n",
       " 'چیزیں': 1997,\n",
       " 'عروج': 1119,\n",
       " 'کھل': 2209,\n",
       " 'بدلو': 300,\n",
       " 'خوفناک': 694,\n",
       " 'منظر': 1445,\n",
       " 'ٹانگیں': 1637,\n",
       " 'کھینچو': 2229,\n",
       " 'دوسرے': 740,\n",
       " 'شہزاد': 1084,\n",
       " 'رولائے': 837,\n",
       " 'رلائے': 819,\n",
       " 'پگلے': 1793,\n",
       " 'کریار': 2122,\n",
       " 'بنانا': 346,\n",
       " 'گری': 2310,\n",
       " 'جیت': 629,\n",
       " 'نظام': 1523,\n",
       " 'تعلیم': 506,\n",
       " 'شئیر': 1039,\n",
       " 'پورا': 1754,\n",
       " 'بشری': 318,\n",
       " 'داری': 703,\n",
       " 'آصف': 40,\n",
       " 'قریشی': 1202,\n",
       " 'واسطے': 1579,\n",
       " 'مدد': 1365,\n",
       " 'بھیجو': 445,\n",
       " 'آجا': 14,\n",
       " 'بوتھی': 366,\n",
       " 'شیشہ': 1088,\n",
       " 'ٹوٹ': 1649,\n",
       " 'بگ': 407,\n",
       " 'مارنی': 1321,\n",
       " 'بلا': 322,\n",
       " 'بیش': 461,\n",
       " 'بلغم': 326,\n",
       " 'بیٹا': 468,\n",
       " 'چو': 1903,\n",
       " 'نائٹ': 1500,\n",
       " 'مان': 1334,\n",
       " 'رے': 863,\n",
       " 'منگواؤ': 1455,\n",
       " 'اٹھاواؤ': 199,\n",
       " 'چچا': 1958,\n",
       " 'مجبور': 1350,\n",
       " 'بنڈ': 360,\n",
       " 'ناطے': 1509,\n",
       " 'بہاریوں': 451,\n",
       " 'کردو': 2090,\n",
       " 'اوے': 195,\n",
       " 'ظاہر': 1106,\n",
       " 'مینڈک': 1491,\n",
       " 'خوابوں': 685,\n",
       " 'آرہے': 32,\n",
       " 'فین': 1196,\n",
       " 'آکنھیں': 61,\n",
       " 'جناب': 594,\n",
       " 'کالا': 2057,\n",
       " 'اسک': 110,\n",
       " 'بائیں': 254,\n",
       " 'رلانے': 820,\n",
       " 'اچھاخیال': 206,\n",
       " 'اتنے': 83,\n",
       " 'گردا': 2303,\n",
       " 'آڑا': 58,\n",
       " 'تھمبنل': 534,\n",
       " 'مارتے': 1318,\n",
       " 'حرکتوں': 648,\n",
       " 'افسوس': 124,\n",
       " 'گھس': 2342,\n",
       " 'خاص': 667,\n",
       " 'اشتہا': 115,\n",
       " 'رات': 802,\n",
       " 'حدف': 644,\n",
       " 'ایکٹنگ': 250,\n",
       " 'لیول': 1303,\n",
       " 'خوب': 688,\n",
       " 'لونڈےباز': 1250,\n",
       " 'دنوں': 726,\n",
       " 'تیز': 550,\n",
       " 'لڑکیوں': 1272,\n",
       " 'فٹافٹ': 1188,\n",
       " 'سبسرائب': 908,\n",
       " 'شاندار': 1049,\n",
       " 'حد': 643,\n",
       " 'عظیم': 1125,\n",
       " 'ریپر': 862,\n",
       " 'عمدہ': 1131,\n",
       " 'پیٹ': 1847,\n",
       " 'بہرحال': 454,\n",
       " 'نسا': 1517,\n",
       " 'آسام': 35,\n",
       " 'نشہ': 1521,\n",
       " 'عمدو': 1130,\n",
       " 'غلط': 1148,\n",
       " 'چبل': 1876,\n",
       " 'فارغ': 1156,\n",
       " 'کمینہ': 2153,\n",
       " 'لمنے': 1236,\n",
       " 'عرصے': 1117,\n",
       " 'ملی': 1433,\n",
       " 'کیمرے': 2253,\n",
       " 'پیجھے': 1831,\n",
       " 'ہے': 2429,\n",
       " 'محبت': 1354,\n",
       " 'مختصر': 1363,\n",
       " 'آکر': 60,\n",
       " 'پی': 1824,\n",
       " 'کینڈین': 2256,\n",
       " 'پیروی': 1836,\n",
       " 'کنا': 2156,\n",
       " 'یے': 2460,\n",
       " 'بہترین': 453,\n",
       " 'وضاحت': 1597,\n",
       " 'سکا': 995,\n",
       " 'ڈسلائیکس': 2027,\n",
       " 'سمجھے': 940,\n",
       " 'بنال': 345,\n",
       " 'پنجاب': 1747,\n",
       " 'بدتمیزی': 298,\n",
       " 'کردوں': 2091,\n",
       " 'عمران': 1134,\n",
       " 'ورنہ': 1591,\n",
       " 'بائیک': 252,\n",
       " 'چلاتا': 1892,\n",
       " 'سچھ': 989,\n",
       " 'ریپ': 861,\n",
       " 'مزاقیہ': 1386,\n",
       " 'متفق': 1348,\n",
       " 'لکھنا': 1280,\n",
       " 'چودیاں': 1935,\n",
       " 'بہھت': 457,\n",
       " 'ٹھیک': 1671,\n",
       " 'سیٹھی': 1028,\n",
       " 'پھاڑوں': 1799,\n",
       " ...}"
      ]
     },
     "execution_count": 8,
     "metadata": {},
     "output_type": "execute_result"
    }
   ],
   "source": [
    "# from sklearn.feature_extraction.text import CountVectorizer    \n",
    "# cv=CountVectorizer(max_features=3000)\n",
    "from sklearn.feature_extraction.text import TfidfVectorizer\n",
    "max_feature_num = 10000\n",
    "train_vectorizer = TfidfVectorizer(max_features=max_feature_num)\n",
    "X_train=train_vectorizer.fit_transform(tain_corpus).toarray()\n",
    "y_train=train['target']\n",
    "train_vectorizer.vocabulary_\n",
    "test_vectorizer = TfidfVectorizer(max_features=max_feature_num,vocabulary=train_vectorizer.vocabulary_)\n",
    "X_test=test_vectorizer.fit_transform(test_corpus).toarray()\n",
    "y_test=test['target']\n",
    "train_vectorizer.vocabulary_"
   ]
  },
  {
   "cell_type": "markdown",
   "metadata": {
    "id": "WWOqT8vhYzRj"
   },
   "source": [
    "## Test Train Split\n",
    "1. 75% Training 25% Testing"
   ]
  },
  {
   "cell_type": "code",
   "execution_count": 9,
   "metadata": {
    "executionInfo": {
     "elapsed": 2,
     "status": "ok",
     "timestamp": 1645117017750,
     "user": {
      "displayName": "Rafia Jabbar",
      "photoUrl": "https://lh3.googleusercontent.com/a-/AOh14Gg_1DjP6TxgmdZBWrVUfpmjnjwXkAIoeIdQlLOP=s64",
      "userId": "15947133849312122933"
     },
     "user_tz": -300
    },
    "id": "wOf4JGDVObkT"
   },
   "outputs": [],
   "source": [
    "from sklearn.model_selection import train_test_split\n",
    "X_train,X_test1,y_train,y_test1 = train_test_split(X_train, y_train, test_size=0.30, random_state=0)"
   ]
  },
  {
   "cell_type": "markdown",
   "metadata": {
    "id": "FiDEZf5kZFd6"
   },
   "source": [
    "# Decision Tree"
   ]
  },
  {
   "cell_type": "code",
   "execution_count": 10,
   "metadata": {
    "executionInfo": {
     "elapsed": 533,
     "status": "ok",
     "timestamp": 1645117018281,
     "user": {
      "displayName": "Rafia Jabbar",
      "photoUrl": "https://lh3.googleusercontent.com/a-/AOh14Gg_1DjP6TxgmdZBWrVUfpmjnjwXkAIoeIdQlLOP=s64",
      "userId": "15947133849312122933"
     },
     "user_tz": -300
    },
    "id": "MfG-q9HyOh8k"
   },
   "outputs": [],
   "source": [
    "from sklearn.tree import DecisionTreeClassifier\n",
    "classifier=DecisionTreeClassifier()\n",
    "classifier.fit(X_train,y_train)\n",
    "pred=classifier.predict(X_test)\n",
    "dtc_probs = classifier.predict_proba(X_test)\n",
    "dtc_probs=dtc_probs[:,1]"
   ]
  },
  {
   "cell_type": "markdown",
   "metadata": {
    "id": "3dsm7kyDZMWN"
   },
   "source": [
    "# Decision Tree Evaluation\n",
    "1. Test Train split Accuracy, precision, recall and f1 score\n",
    "2. F1 Score for 10 Fold Cross Validation"
   ]
  },
  {
   "cell_type": "code",
   "execution_count": 11,
   "metadata": {
    "colab": {
     "base_uri": "https://localhost:8080/"
    },
    "executionInfo": {
     "elapsed": 4,
     "status": "ok",
     "timestamp": 1645117018282,
     "user": {
      "displayName": "Rafia Jabbar",
      "photoUrl": "https://lh3.googleusercontent.com/a-/AOh14Gg_1DjP6TxgmdZBWrVUfpmjnjwXkAIoeIdQlLOP=s64",
      "userId": "15947133849312122933"
     },
     "user_tz": -300
    },
    "id": "cjtfJGPMOnTK",
    "outputId": "cb147f00-973d-448d-f548-c2886cc55cd3"
   },
   "outputs": [
    {
     "name": "stdout",
     "output_type": "stream",
     "text": [
      "----------------Test Train Score Complete Datasets---------------\n",
      "confusion matrix\n",
      "[[952 261]\n",
      " [460 727]]\n",
      "Accuracy score: 0.6995833333333333\n",
      "Precision score: 0.7050254613434873\n",
      "F1 score: 0.6969195402298851\n",
      "Recall score: 0.6986497026387124\n"
     ]
    }
   ],
   "source": [
    "from sklearn.metrics import accuracy_score,precision_score,f1_score,recall_score\n",
    "from sklearn.model_selection import cross_val_score\n",
    "from sklearn.metrics import confusion_matrix\n",
    "cm=confusion_matrix(y_test,pred)\n",
    "print(\"----------------Test Train Score Complete Datasets---------------\")\n",
    "print(\"confusion matrix\")\n",
    "print(cm)\n",
    "acc=accuracy_score(y_test, pred)\n",
    "pr=precision_score(y_test, pred,average='macro')\n",
    "re=recall_score(y_test, pred,average='macro')\n",
    "fs=f1_score(y_test, pred,average='macro')\n",
    "print('Accuracy score: {}'.format(acc))\n",
    "print('Precision score: {}'.format(pr))\n",
    "print('F1 score: {}'.format(fs))\n",
    "print('Recall score: {}'.format(re))"
   ]
  },
  {
   "cell_type": "markdown",
   "metadata": {
    "id": "G8YYQPJsZgOe"
   },
   "source": [
    "## AUC ROC Curve\n",
    "1. AUC Value\n",
    "2. Curve"
   ]
  },
  {
   "cell_type": "code",
   "execution_count": 12,
   "metadata": {
    "colab": {
     "base_uri": "https://localhost:8080/",
     "height": 297
    },
    "executionInfo": {
     "elapsed": 411,
     "status": "ok",
     "timestamp": 1645117018691,
     "user": {
      "displayName": "Rafia Jabbar",
      "photoUrl": "https://lh3.googleusercontent.com/a-/AOh14Gg_1DjP6TxgmdZBWrVUfpmjnjwXkAIoeIdQlLOP=s64",
      "userId": "15947133849312122933"
     },
     "user_tz": -300
    },
    "id": "H1rDn2ipPYYy",
    "outputId": "5a02a9f3-075d-4de7-c4e9-320bd2df25f5"
   },
   "outputs": [
    {
     "name": "stdout",
     "output_type": "stream",
     "text": [
      "Classifier: ROC AUC=0.699\n"
     ]
    },
    {
     "data": {
      "image/png": "[encoded data removed]",
      "text/plain": [
       "<Figure size 432x288 with 1 Axes>"
      ]
     },
     "metadata": {
      "needs_background": "light"
     },
     "output_type": "display_data"
    }
   ],
   "source": [
    "# submission={\n",
    "#     'id':data['id'],\n",
    "#     'target':test_pred,\n",
    "#     'score':dtc_probs,\n",
    "# }\n",
    "\n",
    "# submission=pd.DataFrame(submission)\n",
    "# submission.to_csv(\"subt.csv\")\n",
    "from sklearn.metrics import roc_curve\n",
    "from sklearn.metrics import roc_auc_score\n",
    "from matplotlib import pyplot\n",
    "lr_auc = roc_auc_score(y_test, dtc_probs)\n",
    "# summarize scores\n",
    "print('Classifier: ROC AUC=%.3f' % (lr_auc))\n",
    "# calculate roc curves\n",
    "lr_fpr, lr_tpr, _ = roc_curve(y_test, dtc_probs)\n",
    "# plot the roc curve for the model\n",
    "pyplot.plot(lr_fpr, lr_tpr, 'r',marker='.', label='Decision Tree')\n",
    "# axis labels\n",
    "pyplot.xlabel('False Positive Rate')\n",
    "pyplot.ylabel('True Positive Rate')\n",
    "# show the legend\n",
    "pyplot.legend()\n",
    "# show the plot\n",
    "pyplot.show()\n",
    "\n",
    "from sklearn.model_selection import KFold\n",
    "from sklearn.neighbors import KNeighborsClassifier\n",
    "import matplotlib.pyplot as plt\n",
    "kf = KFold(n_splits=4)\n",
    "mae_train = []\n",
    "mae_test = []"
   ]
  },
  {
   "cell_type": "markdown",
   "metadata": {
    "id": "0dm2NtbrZqTh"
   },
   "source": [
    "## Learning Curve"
   ]
  },
  {
   "cell_type": "code",
   "execution_count": 13,
   "metadata": {
    "colab": {
     "base_uri": "https://localhost:8080/",
     "height": 313
    },
    "executionInfo": {
     "elapsed": 43455,
     "status": "ok",
     "timestamp": 1645117062144,
     "user": {
      "displayName": "Rafia Jabbar",
      "photoUrl": "https://lh3.googleusercontent.com/a-/AOh14Gg_1DjP6TxgmdZBWrVUfpmjnjwXkAIoeIdQlLOP=s64",
      "userId": "15947133849312122933"
     },
     "user_tz": -300
    },
    "id": "YLKbb-7LPcIC",
    "outputId": "a6e5ff02-28f3-4462-edba-73ffb1a7ed58"
   },
   "outputs": [
    {
     "name": "stderr",
     "output_type": "stream",
     "text": [
      "No handles with labels found to put in legend.\n"
     ]
    },
    {
     "data": {
      "image/png": "[encoded data removed]",
      "text/plain": [
       "<Figure size 432x288 with 1 Axes>"
      ]
     },
     "metadata": {
      "needs_background": "light"
     },
     "output_type": "display_data"
    }
   ],
   "source": [
    "# imports\n",
    "from sklearn.model_selection import learning_curve\n",
    "import matplotlib.pyplot as plt\n",
    "import numpy as np\n",
    "def plot_curve():\n",
    "    # instantiate\n",
    "    lg = DecisionTreeClassifier()\n",
    "\n",
    "    # fit\n",
    "    lg.fit(X_test, y_test)\n",
    "    \n",
    "    \n",
    "    \"\"\"\n",
    "    Generate a simple plot of the test and traning learning curve.\n",
    "\n",
    "    Parameters\n",
    "    ----------\n",
    "    estimator : object type that implements the \"fit\" and \"predict\" methods\n",
    "        An object of that type which is cloned for each validation.\n",
    "\n",
    "    title : string\n",
    "        Title for the chart.\n",
    "\n",
    "    X : array-like, shape (n_samples, n_features)\n",
    "        Training vector, where n_samples is the number of samples and\n",
    "        n_features is the number of features.\n",
    "\n",
    "    y : array-like, shape (n_samples) or (n_samples, n_features), optional\n",
    "        Target relative to X for classification or regression;\n",
    "        None for unsupervised learning.\n",
    "\n",
    "    ylim : tuple, shape (ymin, ymax), optional\n",
    "        Defines minimum and maximum yvalues plotted.\n",
    "\n",
    "    cv : integer, cross-validation generator, optional\n",
    "        If an integer is passed, it is the number of folds (defaults to 3).\n",
    "        Specific cross-validation objects can be passed, see\n",
    "        sklearn.cross_validation module for the list of possible objects\n",
    "\n",
    "    n_jobs : integer, optional\n",
    "        Number of jobs to run in parallel (default 1).\n",
    "        \n",
    "    x1 = np.linspace(0, 10, 8, endpoint=True) produces\n",
    "        8 evenly spaced points in the range 0 to 10\n",
    "    \"\"\"\n",
    "    \n",
    "    train_sizes, train_scores, test_scores = learning_curve(lg, X_test, y_test, n_jobs=-1, cv=10, train_sizes=np.linspace(.1, 1.0, 5), verbose=0)\n",
    "\n",
    "    train_scores_mean = np.mean(train_scores, axis=1)\n",
    "    train_scores_std = np.std(train_scores, axis=1)\n",
    "    test_scores_mean = np.mean(test_scores, axis=1)\n",
    "    test_scores_std = np.std(test_scores, axis=1)\n",
    "    \n",
    "    plt.figure()\n",
    "    plt.title(\"Decison Tree\")\n",
    "    plt.legend(loc=\"best\")\n",
    "    plt.xlabel(\"Training examples\")\n",
    "    plt.ylabel(\"Score\")\n",
    "    plt.gca().invert_yaxis()\n",
    "    \n",
    "    # box-like grid\n",
    "    plt.grid()\n",
    "    \n",
    "    # plot the std deviation as a transparent range at each training set size\n",
    "    plt.fill_between(train_sizes, train_scores_mean - train_scores_std, train_scores_mean + train_scores_std, alpha=0.1, color=\"r\")\n",
    "    plt.fill_between(train_sizes, test_scores_mean - test_scores_std, test_scores_mean + test_scores_std, alpha=0.1, color=\"g\")\n",
    "    \n",
    "    # plot the average training and test score lines at each training set size\n",
    "    plt.plot(train_sizes, train_scores_mean, 'o-', color=\"r\", label=\"Training score\")\n",
    "    plt.plot(train_sizes, test_scores_mean, 'o-', color=\"g\", label=\"Cross-validation score\")\n",
    "    \n",
    "    # sizes the window for readability and displays the plot\n",
    "    # shows error from 0 to 1.1\n",
    "    plt.ylim(-.1,1.1)\n",
    "    plt.show()\n",
    "plot_curve()"
   ]
  },
  {
   "cell_type": "markdown",
   "metadata": {
    "id": "d0Hjl41MZx6J"
   },
   "source": [
    "## Logistic Regression"
   ]
  },
  {
   "cell_type": "code",
   "execution_count": 14,
   "metadata": {
    "executionInfo": {
     "elapsed": 574,
     "status": "ok",
     "timestamp": 1645117062705,
     "user": {
      "displayName": "Rafia Jabbar",
      "photoUrl": "https://lh3.googleusercontent.com/a-/AOh14Gg_1DjP6TxgmdZBWrVUfpmjnjwXkAIoeIdQlLOP=s64",
      "userId": "15947133849312122933"
     },
     "user_tz": -300
    },
    "id": "3jQFugpdSv2r"
   },
   "outputs": [],
   "source": [
    "from sklearn.linear_model import LogisticRegression\n",
    "classifier=LogisticRegression()\n",
    "classifier.fit(X_train,y_train)\n",
    "pred=classifier.predict(X_test)\n",
    "dtc_probs = classifier.predict_proba(X_test)\n",
    "dtc_probs=dtc_probs[:,1]"
   ]
  },
  {
   "cell_type": "markdown",
   "metadata": {
    "id": "x39ZnV5NZ81i"
   },
   "source": [
    "## Logistic Regression\n",
    "1. Test Train split Accuracy, precision, recall and f1 score\n",
    "2. F1 Score for 10 Fold Cross Validation"
   ]
  },
  {
   "cell_type": "code",
   "execution_count": 15,
   "metadata": {
    "colab": {
     "base_uri": "https://localhost:8080/"
    },
    "executionInfo": {
     "elapsed": 7,
     "status": "ok",
     "timestamp": 1645117062705,
     "user": {
      "displayName": "Rafia Jabbar",
      "photoUrl": "https://lh3.googleusercontent.com/a-/AOh14Gg_1DjP6TxgmdZBWrVUfpmjnjwXkAIoeIdQlLOP=s64",
      "userId": "15947133849312122933"
     },
     "user_tz": -300
    },
    "id": "_9qBudNGSxPe",
    "outputId": "2b47c5f1-d808-4709-9880-cd37b97c1017"
   },
   "outputs": [
    {
     "name": "stdout",
     "output_type": "stream",
     "text": [
      "Complete Dataset Results\n",
      "confusion matrix\n",
      "[[943 270]\n",
      " [463 724]]\n",
      "Accuracy score: 0.6945833333333333\n",
      "Precision score: 0.6995336170651218\n",
      "F1 score: 0.6920189095347564\n",
      "Recall score: 0.6936762022765172\n"
     ]
    }
   ],
   "source": [
    "cm=confusion_matrix(y_test,pred)\n",
    "print(\"Complete Dataset Results\")\n",
    "print(\"confusion matrix\")\n",
    "print(cm)\n",
    "acc=accuracy_score(y_test, pred)\n",
    "pr=precision_score(y_test, pred,average='macro')\n",
    "re=recall_score(y_test, pred,average='macro')\n",
    "fs=f1_score(y_test, pred,average='macro')\n",
    "print('Accuracy score: {}'.format(acc))\n",
    "print('Precision score: {}'.format(pr))\n",
    "print('F1 score: {}'.format(fs))\n",
    "print('Recall score: {}'.format(re))"
   ]
  },
  {
   "cell_type": "markdown",
   "metadata": {
    "id": "EKumwyyMaDGX"
   },
   "source": [
    "#AUC ROC Curve"
   ]
  },
  {
   "cell_type": "code",
   "execution_count": 16,
   "metadata": {
    "colab": {
     "base_uri": "https://localhost:8080/",
     "height": 297
    },
    "executionInfo": {
     "elapsed": 463,
     "status": "ok",
     "timestamp": 1645117063166,
     "user": {
      "displayName": "Rafia Jabbar",
      "photoUrl": "https://lh3.googleusercontent.com/a-/AOh14Gg_1DjP6TxgmdZBWrVUfpmjnjwXkAIoeIdQlLOP=s64",
      "userId": "15947133849312122933"
     },
     "user_tz": -300
    },
    "id": "Wu3j1_GwS_be",
    "outputId": "3fc75406-d7ad-4624-8db4-8595caf9cbb0"
   },
   "outputs": [
    {
     "name": "stdout",
     "output_type": "stream",
     "text": [
      "Classifier: ROC AUC=0.763\n"
     ]
    },
    {
     "data": {
      "image/png": "[encoded data removed]",
      "text/plain": [
       "<Figure size 432x288 with 1 Axes>"
      ]
     },
     "metadata": {
      "needs_background": "light"
     },
     "output_type": "display_data"
    }
   ],
   "source": [
    "# submission={\n",
    "#     'id':data['id'],\n",
    "#     'target':test_pred,\n",
    "#     'score':dtc_probs,\n",
    "# }\n",
    "\n",
    "# submission=pd.DataFrame(submission)\n",
    "# submission.to_csv(\"subt.csv\")\n",
    "from sklearn.metrics import roc_curve\n",
    "from sklearn.metrics import roc_auc_score\n",
    "from matplotlib import pyplot\n",
    "lr_auc = roc_auc_score(y_test, dtc_probs)\n",
    "# summarize scores\n",
    "print('Classifier: ROC AUC=%.3f' % (lr_auc))\n",
    "# calculate roc curves\n",
    "lr_fpr, lr_tpr, _ = roc_curve(y_test, dtc_probs)\n",
    "# plot the roc curve for the model\n",
    "pyplot.plot(lr_fpr, lr_tpr, 'r',marker='.', label='Logistic Regression')\n",
    "# axis labels\n",
    "pyplot.xlabel('False Positive Rate')\n",
    "pyplot.ylabel('True Positive Rate')\n",
    "# show the legend\n",
    "pyplot.legend()\n",
    "# show the plot\n",
    "pyplot.show()\n",
    "\n",
    "from sklearn.model_selection import KFold\n",
    "from sklearn.neighbors import KNeighborsClassifier\n",
    "import matplotlib.pyplot as plt\n",
    "kf = KFold(n_splits=4)\n",
    "mae_train = []\n",
    "mae_test = []"
   ]
  },
  {
   "cell_type": "markdown",
   "metadata": {
    "id": "-BlgZ0epaH87"
   },
   "source": [
    "## Learning Curve"
   ]
  },
  {
   "cell_type": "code",
   "execution_count": 17,
   "metadata": {
    "colab": {
     "base_uri": "https://localhost:8080/",
     "height": 313
    },
    "executionInfo": {
     "elapsed": 10788,
     "status": "ok",
     "timestamp": 1645117073951,
     "user": {
      "displayName": "Rafia Jabbar",
      "photoUrl": "https://lh3.googleusercontent.com/a-/AOh14Gg_1DjP6TxgmdZBWrVUfpmjnjwXkAIoeIdQlLOP=s64",
      "userId": "15947133849312122933"
     },
     "user_tz": -300
    },
    "id": "YYLzX_feTLPr",
    "outputId": "05396baa-d7dc-4722-9de8-cbf1ff77b779"
   },
   "outputs": [
    {
     "name": "stderr",
     "output_type": "stream",
     "text": [
      "No handles with labels found to put in legend.\n"
     ]
    },
    {
     "data": {
      "image/png": "[encoded data removed]",
      "text/plain": [
       "<Figure size 432x288 with 1 Axes>"
      ]
     },
     "metadata": {
      "needs_background": "light"
     },
     "output_type": "display_data"
    }
   ],
   "source": [
    "# imports\n",
    "from sklearn.model_selection import learning_curve\n",
    "import matplotlib.pyplot as plt\n",
    "import numpy as np\n",
    "def plot_curve():\n",
    "    # instantiate\n",
    "    lg = LogisticRegression()\n",
    "\n",
    "    # fit\n",
    "    lg.fit(X_test , y_test)\n",
    "    \n",
    "    \n",
    "    \"\"\"\n",
    "    Generate a simple plot of the test and traning learning curve.\n",
    "\n",
    "    Parameters\n",
    "    ----------\n",
    "    estimator : object type that implements the \"fit\" and \"predict\" methods\n",
    "        An object of that type which is cloned for each validation.\n",
    "\n",
    "    title : string\n",
    "        Title for the chart.\n",
    "\n",
    "    X : array-like, shape (n_samples, n_features)\n",
    "        Training vector, where n_samples is the number of samples and\n",
    "        n_features is the number of features.\n",
    "\n",
    "    y : array-like, shape (n_samples) or (n_samples, n_features), optional\n",
    "        Target relative to X for classification or regression;\n",
    "        None for unsupervised learning.\n",
    "\n",
    "    ylim : tuple, shape (ymin, ymax), optional\n",
    "        Defines minimum and maximum yvalues plotted.\n",
    "\n",
    "    cv : integer, cross-validation generator, optional\n",
    "        If an integer is passed, it is the number of folds (defaults to 3).\n",
    "        Specific cross-validation objects can be passed, see\n",
    "        sklearn.cross_validation module for the list of possible objects\n",
    "\n",
    "    n_jobs : integer, optional\n",
    "        Number of jobs to run in parallel (default 1).\n",
    "        \n",
    "    x1 = np.linspace(0, 10, 8, endpoint=True) produces\n",
    "        8 evenly spaced points in the range 0 to 10\n",
    "    \"\"\"\n",
    "    \n",
    "    train_sizes, train_scores, test_scores = learning_curve(lg, X_test, y_test, n_jobs=-1, cv=10, train_sizes=np.linspace(.1, 1.0, 5), verbose=0)\n",
    "\n",
    "    train_scores_mean = np.mean(train_scores, axis=1)\n",
    "    train_scores_std = np.std(train_scores, axis=1)\n",
    "    test_scores_mean = np.mean(test_scores, axis=1)\n",
    "    test_scores_std = np.std(test_scores, axis=1)\n",
    "    \n",
    "    plt.figure()\n",
    "    plt.title(\"Logistic Regression\")\n",
    "    plt.legend(loc=\"best\")\n",
    "    plt.xlabel(\"Training examples\")\n",
    "    plt.ylabel(\"Score\")\n",
    "    plt.gca().invert_yaxis()\n",
    "    \n",
    "    # box-like grid\n",
    "    plt.grid()\n",
    "    \n",
    "    # plot the std deviation as a transparent range at each training set size\n",
    "    plt.fill_between(train_sizes, train_scores_mean - train_scores_std, train_scores_mean + train_scores_std, alpha=0.1, color=\"r\")\n",
    "    plt.fill_between(train_sizes, test_scores_mean - test_scores_std, test_scores_mean + test_scores_std, alpha=0.1, color=\"g\")\n",
    "    \n",
    "    # plot the average training and test score lines at each training set size\n",
    "    plt.plot(train_sizes, train_scores_mean, 'o-', color=\"r\", label=\"Training score\")\n",
    "    plt.plot(train_sizes, test_scores_mean, 'o-', color=\"g\", label=\"Cross-validation score\")\n",
    "    \n",
    "    # sizes the window for readability and displays the plot\n",
    "    # shows error from 0 to 1.1\n",
    "    plt.ylim(-.1,1.1)\n",
    "    plt.show()\n",
    "plot_curve()"
   ]
  },
  {
   "cell_type": "markdown",
   "metadata": {
    "id": "kj6xiaNvaRH-"
   },
   "source": [
    "## SVM"
   ]
  },
  {
   "cell_type": "code",
   "execution_count": 18,
   "metadata": {
    "executionInfo": {
     "elapsed": 31194,
     "status": "ok",
     "timestamp": 1645117105143,
     "user": {
      "displayName": "Rafia Jabbar",
      "photoUrl": "https://lh3.googleusercontent.com/a-/AOh14Gg_1DjP6TxgmdZBWrVUfpmjnjwXkAIoeIdQlLOP=s64",
      "userId": "15947133849312122933"
     },
     "user_tz": -300
    },
    "id": "1gcSbRxYTZpT"
   },
   "outputs": [],
   "source": [
    "from sklearn.svm import SVC\n",
    "classifier=SVC(probability=True)\n",
    "classifier.fit(X_train,y_train)\n",
    "pred=classifier.predict(X_test)\n",
    "dtc_probs = classifier.predict_proba(X_test)\n",
    "dtc_probs=dtc_probs[:,1]"
   ]
  },
  {
   "cell_type": "markdown",
   "metadata": {
    "id": "QT6sI7RIaVoV"
   },
   "source": [
    "## SVM\n",
    "1. Test Train split Accuracy, precision, recall and f1 score\n",
    "2. F1 Score for 10 Fold Cross Validation"
   ]
  },
  {
   "cell_type": "code",
   "execution_count": 19,
   "metadata": {
    "colab": {
     "base_uri": "https://localhost:8080/"
    },
    "executionInfo": {
     "elapsed": 14,
     "status": "ok",
     "timestamp": 1645117105145,
     "user": {
      "displayName": "Rafia Jabbar",
      "photoUrl": "https://lh3.googleusercontent.com/a-/AOh14Gg_1DjP6TxgmdZBWrVUfpmjnjwXkAIoeIdQlLOP=s64",
      "userId": "15947133849312122933"
     },
     "user_tz": -300
    },
    "id": "Hm4K-ItzTlcQ",
    "outputId": "8d5a5cc3-1706-4d37-b319-396d060e5f02"
   },
   "outputs": [
    {
     "name": "stdout",
     "output_type": "stream",
     "text": [
      "Complete Dataset Score\n",
      "confusion matrix\n",
      "[[977 236]\n",
      " [488 699]]\n",
      "Accuracy score: 0.6983333333333334\n",
      "Precision score: 0.7072438904199594\n",
      "F1 score: 0.6942307164391112\n",
      "Recall score: 0.6971602917286821\n"
     ]
    }
   ],
   "source": [
    "cm=confusion_matrix(y_test,pred)\n",
    "print(\"Complete Dataset Score\")\n",
    "print(\"confusion matrix\")\n",
    "print(cm)\n",
    "acc=accuracy_score(y_test, pred)\n",
    "pr=precision_score(y_test, pred,average='macro')\n",
    "re=recall_score(y_test, pred,average='macro')\n",
    "fs=f1_score(y_test, pred,average='macro')\n",
    "print('Accuracy score: {}'.format(acc))\n",
    "print('Precision score: {}'.format(pr))\n",
    "print('F1 score: {}'.format(fs))\n",
    "print('Recall score: {}'.format(re))"
   ]
  },
  {
   "cell_type": "markdown",
   "metadata": {
    "id": "TjZmTNyCaacJ"
   },
   "source": [
    "## AUC ROC Curve"
   ]
  },
  {
   "cell_type": "code",
   "execution_count": 20,
   "metadata": {
    "colab": {
     "base_uri": "https://localhost:8080/",
     "height": 297
    },
    "executionInfo": {
     "elapsed": 14,
     "status": "ok",
     "timestamp": 1645117105146,
     "user": {
      "displayName": "Rafia Jabbar",
      "photoUrl": "https://lh3.googleusercontent.com/a-/AOh14Gg_1DjP6TxgmdZBWrVUfpmjnjwXkAIoeIdQlLOP=s64",
      "userId": "15947133849312122933"
     },
     "user_tz": -300
    },
    "id": "ucmRbaUcXkDK",
    "outputId": "8b264137-87fe-49cd-b966-ea5393e04076"
   },
   "outputs": [
    {
     "name": "stdout",
     "output_type": "stream",
     "text": [
      "Classifier: ROC AUC=0.761\n"
     ]
    },
    {
     "data": {
      "image/png": "[encoded data removed]",
      "text/plain": [
       "<Figure size 432x288 with 1 Axes>"
      ]
     },
     "metadata": {
      "needs_background": "light"
     },
     "output_type": "display_data"
    }
   ],
   "source": [
    "# submission={\n",
    "#     'id':data['id'],\n",
    "#     'target':test_pred,\n",
    "#     'score':dtc_probs,\n",
    "# }\n",
    "\n",
    "# submission=pd.DataFrame(submission)\n",
    "# submission.to_csv(\"subt.csv\")\n",
    "from sklearn.metrics import roc_curve\n",
    "from sklearn.metrics import roc_auc_score\n",
    "from matplotlib import pyplot\n",
    "lr_auc = roc_auc_score(y_test, dtc_probs)\n",
    "# summarize scores\n",
    "print('Classifier: ROC AUC=%.3f' % (lr_auc))\n",
    "# calculate roc curves\n",
    "lr_fpr, lr_tpr, _ = roc_curve(y_test, dtc_probs)\n",
    "# plot the roc curve for the model\n",
    "pyplot.plot(lr_fpr, lr_tpr, 'r',marker='.', label='SVM')\n",
    "# axis labels\n",
    "pyplot.xlabel('False Positive Rate')\n",
    "pyplot.ylabel('True Positive Rate')\n",
    "# show the legend\n",
    "pyplot.legend()\n",
    "# show the plot\n",
    "pyplot.show()\n",
    "\n",
    "from sklearn.model_selection import KFold\n",
    "from sklearn.neighbors import KNeighborsClassifier\n",
    "import matplotlib.pyplot as plt\n",
    "kf = KFold(n_splits=4)\n",
    "mae_train = []\n",
    "mae_test = []"
   ]
  },
  {
   "cell_type": "markdown",
   "metadata": {
    "id": "hGC4U9hKak6s"
   },
   "source": [
    "## Learning Curve"
   ]
  },
  {
   "cell_type": "code",
   "execution_count": 21,
   "metadata": {
    "colab": {
     "base_uri": "https://localhost:8080/",
     "height": 313
    },
    "executionInfo": {
     "elapsed": 315258,
     "status": "ok",
     "timestamp": 1645117420392,
     "user": {
      "displayName": "Rafia Jabbar",
      "photoUrl": "https://lh3.googleusercontent.com/a-/AOh14Gg_1DjP6TxgmdZBWrVUfpmjnjwXkAIoeIdQlLOP=s64",
      "userId": "15947133849312122933"
     },
     "user_tz": -300
    },
    "id": "JTrGXE0XXqTj",
    "outputId": "78715f9f-d84b-4fcd-e0e3-f367353a8f46"
   },
   "outputs": [
    {
     "name": "stderr",
     "output_type": "stream",
     "text": [
      "No handles with labels found to put in legend.\n"
     ]
    },
    {
     "data": {
      "image/png": "[encoded data removed]",
      "text/plain": [
       "<Figure size 432x288 with 1 Axes>"
      ]
     },
     "metadata": {
      "needs_background": "light"
     },
     "output_type": "display_data"
    }
   ],
   "source": [
    "# imports\n",
    "from sklearn.model_selection import learning_curve\n",
    "import matplotlib.pyplot as plt\n",
    "import numpy as np\n",
    "from sklearn.svm import SVC\n",
    "def plot_curve():\n",
    "    # instantiate\n",
    "    lg = SVC()\n",
    "\n",
    "    # fit\n",
    "    lg.fit(X_test, y_test)\n",
    "    \n",
    "    \n",
    "    \"\"\"\n",
    "    Generate a simple plot of the test and traning learning curve.\n",
    "\n",
    "    Parameters\n",
    "    ----------\n",
    "    estimator : object type that implements the \"fit\" and \"predict\" methods\n",
    "        An object of that type which is cloned for each validation.\n",
    "\n",
    "    title : string\n",
    "        Title for the chart.\n",
    "\n",
    "    X : array-like, shape (n_samples, n_features)\n",
    "        Training vector, where n_samples is the number of samples and\n",
    "        n_features is the number of features.\n",
    "\n",
    "    y : array-like, shape (n_samples) or (n_samples, n_features), optional\n",
    "        Target relative to X for classification or regression;\n",
    "        None for unsupervised learning.\n",
    "\n",
    "    ylim : tuple, shape (ymin, ymax), optional\n",
    "        Defines minimum and maximum yvalues plotted.\n",
    "\n",
    "    cv : integer, cross-validation generator, optional\n",
    "        If an integer is passed, it is the number of folds (defaults to 3).\n",
    "        Specific cross-validation objects can be passed, see\n",
    "        sklearn.cross_validation module for the list of possible objects\n",
    "\n",
    "    n_jobs : integer, optional\n",
    "        Number of jobs to run in parallel (default 1).\n",
    "        \n",
    "    x1 = np.linspace(0, 10, 8, endpoint=True) produces\n",
    "        8 evenly spaced points in the range 0 to 10\n",
    "    \"\"\"\n",
    "    \n",
    "    train_sizes, train_scores, test_scores = learning_curve(lg, X_test, y_test, n_jobs=-1, cv=10, train_sizes=np.linspace(.1, 1.0, 5), verbose=0)\n",
    "\n",
    "    train_scores_mean = np.mean(train_scores, axis=1)\n",
    "    train_scores_std = np.std(train_scores, axis=1)\n",
    "    test_scores_mean = np.mean(test_scores, axis=1)\n",
    "    test_scores_std = np.std(test_scores, axis=1)\n",
    "    \n",
    "    plt.figure()\n",
    "    plt.title(\"SVM\")\n",
    "    plt.legend(loc=\"best\")\n",
    "    plt.xlabel(\"Training examples\")\n",
    "    plt.ylabel(\"Score\")\n",
    "    plt.gca().invert_yaxis()\n",
    "    \n",
    "    # box-like grid\n",
    "    plt.grid()\n",
    "    \n",
    "    # plot the std deviation as a transparent range at each training set size\n",
    "    plt.fill_between(train_sizes, train_scores_mean - train_scores_std, train_scores_mean + train_scores_std, alpha=0.1, color=\"r\")\n",
    "    plt.fill_between(train_sizes, test_scores_mean - test_scores_std, test_scores_mean + test_scores_std, alpha=0.1, color=\"g\")\n",
    "    \n",
    "    # plot the average training and test score lines at each training set size\n",
    "    plt.plot(train_sizes, train_scores_mean, 'o-', color=\"r\", label=\"Training score\")\n",
    "    plt.plot(train_sizes, test_scores_mean, 'o-', color=\"g\", label=\"Cross-validation score\")\n",
    "    \n",
    "    # sizes the window for readability and displays the plot\n",
    "    # shows error from 0 to 1.1\n",
    "    plt.ylim(-.1,1.1)\n",
    "    plt.show()\n",
    "plot_curve()"
   ]
  },
  {
   "cell_type": "code",
   "execution_count": 22,
   "metadata": {
    "executionInfo": {
     "elapsed": 4,
     "status": "ok",
     "timestamp": 1645117420393,
     "user": {
      "displayName": "Rafia Jabbar",
      "photoUrl": "https://lh3.googleusercontent.com/a-/AOh14Gg_1DjP6TxgmdZBWrVUfpmjnjwXkAIoeIdQlLOP=s64",
      "userId": "15947133849312122933"
     },
     "user_tz": -300
    },
    "id": "aoPZmTEY1b0i"
   },
   "outputs": [],
   "source": [
    "from sklearn.metrics import accuracy_score,precision_score,f1_score,recall_score\n",
    "from sklearn.model_selection import cross_val_score\n",
    "from sklearn.metrics import confusion_matrix"
   ]
  },
  {
   "cell_type": "markdown",
   "metadata": {
    "id": "9pGNqRanarp_"
   },
   "source": [
    "## Naive Bayes"
   ]
  },
  {
   "cell_type": "code",
   "execution_count": 23,
   "metadata": {
    "executionInfo": {
     "elapsed": 646,
     "status": "ok",
     "timestamp": 1645117421035,
     "user": {
      "displayName": "Rafia Jabbar",
      "photoUrl": "https://lh3.googleusercontent.com/a-/AOh14Gg_1DjP6TxgmdZBWrVUfpmjnjwXkAIoeIdQlLOP=s64",
      "userId": "15947133849312122933"
     },
     "user_tz": -300
    },
    "id": "JJfkcxJI1y-a"
   },
   "outputs": [],
   "source": [
    "from sklearn.naive_bayes import GaussianNB\n",
    "classifier=GaussianNB()\n",
    "classifier.fit(X_train,y_train)\n",
    "pred=classifier.predict(X_test)\n",
    "dtc_probs = classifier.predict_proba(X_test)\n",
    "dtc_probs=dtc_probs[:,1]"
   ]
  },
  {
   "cell_type": "markdown",
   "metadata": {
    "id": "1m941-PkaumE"
   },
   "source": [
    "## Naive Bayes\n",
    "1. Test Train split Accuracy, precision, recall and f1 score\n",
    "2. F1 Score for 10 Fold Cross Validation"
   ]
  },
  {
   "cell_type": "code",
   "execution_count": 24,
   "metadata": {
    "colab": {
     "base_uri": "https://localhost:8080/"
    },
    "executionInfo": {
     "elapsed": 19,
     "status": "ok",
     "timestamp": 1645117421036,
     "user": {
      "displayName": "Rafia Jabbar",
      "photoUrl": "https://lh3.googleusercontent.com/a-/AOh14Gg_1DjP6TxgmdZBWrVUfpmjnjwXkAIoeIdQlLOP=s64",
      "userId": "15947133849312122933"
     },
     "user_tz": -300
    },
    "id": "DfxLNhy_2Xnb",
    "outputId": "547dce7a-c168-481b-e179-e867a93e06fb"
   },
   "outputs": [
    {
     "name": "stdout",
     "output_type": "stream",
     "text": [
      "Complete Dataset Results\n",
      "confusion matrix\n",
      "[[442 771]\n",
      " [199 988]]\n",
      "Accuracy score: 0.5958333333333333\n",
      "Precision score: 0.6256151781034289\n",
      "F1 score: 0.5737734452068188\n",
      "Recall score: 0.5983681418166438\n"
     ]
    }
   ],
   "source": [
    "cm=confusion_matrix(y_test,pred)\n",
    "print(\"Complete Dataset Results\")\n",
    "print(\"confusion matrix\")\n",
    "print(cm)\n",
    "acc=accuracy_score(y_test, pred)\n",
    "pr=precision_score(y_test, pred,average='macro')\n",
    "re=recall_score(y_test, pred,average='macro')\n",
    "fs=f1_score(y_test, pred,average='macro')\n",
    "print('Accuracy score: {}'.format(acc))\n",
    "print('Precision score: {}'.format(pr))\n",
    "print('F1 score: {}'.format(fs))\n",
    "print('Recall score: {}'.format(re))"
   ]
  },
  {
   "cell_type": "markdown",
   "metadata": {
    "id": "ZVaszpavaz10"
   },
   "source": [
    "## AUC ROC Curve"
   ]
  },
  {
   "cell_type": "code",
   "execution_count": 25,
   "metadata": {
    "colab": {
     "base_uri": "https://localhost:8080/",
     "height": 297
    },
    "executionInfo": {
     "elapsed": 12,
     "status": "ok",
     "timestamp": 1645117421036,
     "user": {
      "displayName": "Rafia Jabbar",
      "photoUrl": "https://lh3.googleusercontent.com/a-/AOh14Gg_1DjP6TxgmdZBWrVUfpmjnjwXkAIoeIdQlLOP=s64",
      "userId": "15947133849312122933"
     },
     "user_tz": -300
    },
    "id": "A_xLTwWE2aE9",
    "outputId": "c72d3ebc-4655-4431-870d-5d527eee3b76"
   },
   "outputs": [
    {
     "name": "stdout",
     "output_type": "stream",
     "text": [
      "Classifier: ROC AUC=0.598\n"
     ]
    },
    {
     "data": {
      "image/png": "[encoded data removed]",
      "text/plain": [
       "<Figure size 432x288 with 1 Axes>"
      ]
     },
     "metadata": {
      "needs_background": "light"
     },
     "output_type": "display_data"
    }
   ],
   "source": [
    "# submission={\n",
    "#     'id':data['id'],\n",
    "#     'target':test_pred,\n",
    "#     'score':dtc_probs,\n",
    "# }\n",
    "\n",
    "# submission=pd.DataFrame(submission)\n",
    "# submission.to_csv(\"subt.csv\")\n",
    "from sklearn.metrics import roc_curve\n",
    "from sklearn.metrics import roc_auc_score\n",
    "from matplotlib import pyplot\n",
    "lr_auc = roc_auc_score(y_test, dtc_probs)\n",
    "# summarize scores\n",
    "print('Classifier: ROC AUC=%.3f' % (lr_auc))\n",
    "# calculate roc curves\n",
    "lr_fpr, lr_tpr, _ = roc_curve(y_test, dtc_probs)\n",
    "# plot the roc curve for the model\n",
    "pyplot.plot(lr_fpr, lr_tpr, 'r',marker='.', label='Naive Bayes')\n",
    "# axis labels\n",
    "pyplot.xlabel('False Positive Rate')\n",
    "pyplot.ylabel('True Positive Rate')\n",
    "# show the legend\n",
    "pyplot.legend()\n",
    "# show the plot\n",
    "pyplot.show()\n",
    "\n",
    "from sklearn.model_selection import KFold\n",
    "from sklearn.neighbors import KNeighborsClassifier\n",
    "import matplotlib.pyplot as plt\n",
    "kf = KFold(n_splits=4)\n",
    "mae_train = []\n",
    "mae_test = []"
   ]
  },
  {
   "cell_type": "markdown",
   "metadata": {
    "id": "4K_F_zWea5BC"
   },
   "source": [
    "## Learning Curve"
   ]
  },
  {
   "cell_type": "code",
   "execution_count": 26,
   "metadata": {
    "colab": {
     "base_uri": "https://localhost:8080/",
     "height": 313
    },
    "executionInfo": {
     "elapsed": 4506,
     "status": "ok",
     "timestamp": 1645117425534,
     "user": {
      "displayName": "Rafia Jabbar",
      "photoUrl": "https://lh3.googleusercontent.com/a-/AOh14Gg_1DjP6TxgmdZBWrVUfpmjnjwXkAIoeIdQlLOP=s64",
      "userId": "15947133849312122933"
     },
     "user_tz": -300
    },
    "id": "8ZdlrRgZ2eiu",
    "outputId": "d9a2b73e-0a39-4c11-d871-48523165ebfb"
   },
   "outputs": [
    {
     "name": "stderr",
     "output_type": "stream",
     "text": [
      "No handles with labels found to put in legend.\n"
     ]
    },
    {
     "data": {
      "image/png": "[encoded data removed]",
      "text/plain": [
       "<Figure size 432x288 with 1 Axes>"
      ]
     },
     "metadata": {
      "needs_background": "light"
     },
     "output_type": "display_data"
    }
   ],
   "source": [
    "# imports\n",
    "from sklearn.model_selection import learning_curve\n",
    "import matplotlib.pyplot as plt\n",
    "import numpy as np\n",
    "def plot_curve():\n",
    "    # instantiate\n",
    "    lg = GaussianNB()\n",
    "\n",
    "    # fit\n",
    "    lg.fit(X_test, y_test)\n",
    "    \n",
    "    \n",
    "    \"\"\"\n",
    "    Generate a simple plot of the test and traning learning curve.\n",
    "\n",
    "    Parameters\n",
    "    ----------\n",
    "    estimator : object type that implements the \"fit\" and \"predict\" methods\n",
    "        An object of that type which is cloned for each validation.\n",
    "\n",
    "    title : string\n",
    "        Title for the chart.\n",
    "\n",
    "    X : array-like, shape (n_samples, n_features)\n",
    "        Training vector, where n_samples is the number of samples and\n",
    "        n_features is the number of features.\n",
    "\n",
    "    y : array-like, shape (n_samples) or (n_samples, n_features), optional\n",
    "        Target relative to X for classification or regression;\n",
    "        None for unsupervised learning.\n",
    "\n",
    "    ylim : tuple, shape (ymin, ymax), optional\n",
    "        Defines minimum and maximum yvalues plotted.\n",
    "\n",
    "    cv : integer, cross-validation generator, optional\n",
    "        If an integer is passed, it is the number of folds (defaults to 3).\n",
    "        Specific cross-validation objects can be passed, see\n",
    "        sklearn.cross_validation module for the list of possible objects\n",
    "\n",
    "    n_jobs : integer, optional\n",
    "        Number of jobs to run in parallel (default 1).\n",
    "        \n",
    "    x1 = np.linspace(0, 10, 8, endpoint=True) produces\n",
    "        8 evenly spaced points in the range 0 to 10\n",
    "    \"\"\"\n",
    "    \n",
    "    train_sizes, train_scores, test_scores = learning_curve(lg, X_test, y_test, n_jobs=-1, cv=10, train_sizes=np.linspace(.1, 1.0, 5), verbose=0)\n",
    "\n",
    "    train_scores_mean = np.mean(train_scores, axis=1)\n",
    "    train_scores_std = np.std(train_scores, axis=1)\n",
    "    test_scores_mean = np.mean(test_scores, axis=1)\n",
    "    test_scores_std = np.std(test_scores, axis=1)\n",
    "    \n",
    "    plt.figure()\n",
    "    plt.title(\"Naive Bayes\")\n",
    "    plt.legend(loc=\"best\")\n",
    "    plt.xlabel(\"Training examples\")\n",
    "    plt.ylabel(\"Score\")\n",
    "    plt.gca().invert_yaxis()\n",
    "    \n",
    "    # box-like grid\n",
    "    plt.grid()\n",
    "    \n",
    "    # plot the std deviation as a transparent range at each training set size\n",
    "    plt.fill_between(train_sizes, train_scores_mean - train_scores_std, train_scores_mean + train_scores_std, alpha=0.1, color=\"r\")\n",
    "    plt.fill_between(train_sizes, test_scores_mean - test_scores_std, test_scores_mean + test_scores_std, alpha=0.1, color=\"g\")\n",
    "    \n",
    "    # plot the average training and test score lines at each training set size\n",
    "    plt.plot(train_sizes, train_scores_mean, 'o-', color=\"r\", label=\"Training score\")\n",
    "    plt.plot(train_sizes, test_scores_mean, 'o-', color=\"g\", label=\"Cross-validation score\")\n",
    "    \n",
    "    # sizes the window for readability and displays the plot\n",
    "    # shows error from 0 to 1.1\n",
    "    plt.ylim(-.1,1.1)\n",
    "    plt.show()\n",
    "plot_curve()"
   ]
  },
  {
   "cell_type": "markdown",
   "metadata": {
    "id": "FHr9h3_Ka_ET"
   },
   "source": [
    "## Random Forest"
   ]
  },
  {
   "cell_type": "code",
   "execution_count": 27,
   "metadata": {
    "executionInfo": {
     "elapsed": 1109,
     "status": "ok",
     "timestamp": 1645117426639,
     "user": {
      "displayName": "Rafia Jabbar",
      "photoUrl": "https://lh3.googleusercontent.com/a-/AOh14Gg_1DjP6TxgmdZBWrVUfpmjnjwXkAIoeIdQlLOP=s64",
      "userId": "15947133849312122933"
     },
     "user_tz": -300
    },
    "id": "zMhdegl06669"
   },
   "outputs": [],
   "source": [
    "from sklearn.ensemble import RandomForestClassifier\n",
    "classifier=RandomForestClassifier()\n",
    "classifier.fit(X_train,y_train)\n",
    "pred=classifier.predict(X_test)\n",
    "dtc_probs = classifier.predict_proba(X_test)\n",
    "dtc_probs=dtc_probs[:,1]"
   ]
  },
  {
   "cell_type": "markdown",
   "metadata": {
    "id": "9FQv9m1AbDCp"
   },
   "source": [
    "## Random Forest\n",
    "1. Test Train split Accuracy, precision, recall and f1 score\n",
    "2. F1 Score for 10 Fold Cross Validation"
   ]
  },
  {
   "cell_type": "code",
   "execution_count": 28,
   "metadata": {
    "colab": {
     "base_uri": "https://localhost:8080/"
    },
    "executionInfo": {
     "elapsed": 4,
     "status": "ok",
     "timestamp": 1645117426639,
     "user": {
      "displayName": "Rafia Jabbar",
      "photoUrl": "https://lh3.googleusercontent.com/a-/AOh14Gg_1DjP6TxgmdZBWrVUfpmjnjwXkAIoeIdQlLOP=s64",
      "userId": "15947133849312122933"
     },
     "user_tz": -300
    },
    "id": "SAwgfrik6-pC",
    "outputId": "112b1034-c5f9-468c-d452-9d09c76d23da"
   },
   "outputs": [
    {
     "name": "stdout",
     "output_type": "stream",
     "text": [
      "confusion matrix\n",
      "Complete Dataset Results\n",
      "[[996 217]\n",
      " [518 669]]\n",
      "Accuracy score: 0.69375\n",
      "Precision score: 0.7064694901759649\n",
      "F1 score: 0.6879572182978066\n",
      "Recall score: 0.6923552139105213\n"
     ]
    }
   ],
   "source": [
    "cm=confusion_matrix(y_test,pred)\n",
    "print(\"confusion matrix\")\n",
    "print(\"Complete Dataset Results\")\n",
    "print(cm)\n",
    "acc=accuracy_score(y_test, pred)\n",
    "pr=precision_score(y_test, pred,average='macro')\n",
    "re=recall_score(y_test, pred,average='macro')\n",
    "fs=f1_score(y_test, pred,average='macro')\n",
    "print('Accuracy score: {}'.format(acc))\n",
    "print('Precision score: {}'.format(pr))\n",
    "print('F1 score: {}'.format(fs))\n",
    "print('Recall score: {}'.format(re))"
   ]
  },
  {
   "cell_type": "markdown",
   "metadata": {
    "id": "5g2BlTo0bKqS"
   },
   "source": [
    "## AUC ROC Curve"
   ]
  },
  {
   "cell_type": "code",
   "execution_count": 29,
   "metadata": {
    "colab": {
     "base_uri": "https://localhost:8080/",
     "height": 297
    },
    "executionInfo": {
     "elapsed": 639,
     "status": "ok",
     "timestamp": 1645117427276,
     "user": {
      "displayName": "Rafia Jabbar",
      "photoUrl": "https://lh3.googleusercontent.com/a-/AOh14Gg_1DjP6TxgmdZBWrVUfpmjnjwXkAIoeIdQlLOP=s64",
      "userId": "15947133849312122933"
     },
     "user_tz": -300
    },
    "id": "TV2IrHNQ7OP-",
    "outputId": "7e890abb-6c39-400d-fa72-dcbbbc980a2c"
   },
   "outputs": [
    {
     "name": "stdout",
     "output_type": "stream",
     "text": [
      "Classifier: ROC AUC=0.742\n"
     ]
    },
    {
     "data": {
      "image/png": "[encoded data removed]",
      "text/plain": [
       "<Figure size 432x288 with 1 Axes>"
      ]
     },
     "metadata": {
      "needs_background": "light"
     },
     "output_type": "display_data"
    }
   ],
   "source": [
    "# submission={\n",
    "#     'id':data['id'],\n",
    "#     'target':test_pred,\n",
    "#     'score':dtc_probs,\n",
    "# }\n",
    "\n",
    "# submission=pd.DataFrame(submission)\n",
    "# submission.to_csv(\"subt.csv\")\n",
    "from sklearn.metrics import roc_curve\n",
    "from sklearn.metrics import roc_auc_score\n",
    "from matplotlib import pyplot\n",
    "lr_auc = roc_auc_score(y_test, dtc_probs)\n",
    "# summarize scores\n",
    "print('Classifier: ROC AUC=%.3f' % (lr_auc))\n",
    "# calculate roc curves\n",
    "lr_fpr, lr_tpr, _ = roc_curve(y_test, dtc_probs)\n",
    "# plot the roc curve for the model\n",
    "pyplot.plot(lr_fpr, lr_tpr, 'r',marker='.', label='Random Forest')\n",
    "# axis labels\n",
    "pyplot.xlabel('False Positive Rate')\n",
    "pyplot.ylabel('True Positive Rate')\n",
    "# show the legend\n",
    "pyplot.legend()\n",
    "# show the plot\n",
    "pyplot.show()\n",
    "\n",
    "from sklearn.model_selection import KFold\n",
    "from sklearn.neighbors import KNeighborsClassifier\n",
    "import matplotlib.pyplot as plt\n",
    "kf = KFold(n_splits=4)\n",
    "mae_train = []\n",
    "mae_test = []"
   ]
  },
  {
   "cell_type": "markdown",
   "metadata": {
    "id": "9OfmFlhHbOvk"
   },
   "source": [
    "## Learning Curve"
   ]
  },
  {
   "cell_type": "code",
   "execution_count": 30,
   "metadata": {
    "colab": {
     "base_uri": "https://localhost:8080/",
     "height": 313
    },
    "executionInfo": {
     "elapsed": 72365,
     "status": "ok",
     "timestamp": 1645117499638,
     "user": {
      "displayName": "Rafia Jabbar",
      "photoUrl": "https://lh3.googleusercontent.com/a-/AOh14Gg_1DjP6TxgmdZBWrVUfpmjnjwXkAIoeIdQlLOP=s64",
      "userId": "15947133849312122933"
     },
     "user_tz": -300
    },
    "id": "EeHfKC7a7TCu",
    "outputId": "d78d4ee9-2f0b-4596-ddc2-3ae177da9c88"
   },
   "outputs": [
    {
     "name": "stderr",
     "output_type": "stream",
     "text": [
      "No handles with labels found to put in legend.\n"
     ]
    },
    {
     "data": {
      "image/png": "[encoded data removed]",
      "text/plain": [
       "<Figure size 432x288 with 1 Axes>"
      ]
     },
     "metadata": {
      "needs_background": "light"
     },
     "output_type": "display_data"
    }
   ],
   "source": [
    "# imports\n",
    "from sklearn.model_selection import learning_curve\n",
    "import matplotlib.pyplot as plt\n",
    "import numpy as np\n",
    "def plot_curve():\n",
    "    # instantiate\n",
    "    lg = RandomForestClassifier()\n",
    "\n",
    "    # fit\n",
    "    lg.fit(X_test, y_test)\n",
    "    \n",
    "    \n",
    "    \"\"\"\n",
    "    Generate a simple plot of the test and traning learning curve.\n",
    "\n",
    "    Parameters\n",
    "    ----------\n",
    "    estimator : object type that implements the \"fit\" and \"predict\" methods\n",
    "        An object of that type which is cloned for each validation.\n",
    "\n",
    "    title : string\n",
    "        Title for the chart.\n",
    "\n",
    "    X : array-like, shape (n_samples, n_features)\n",
    "        Training vector, where n_samples is the number of samples and\n",
    "        n_features is the number of features.\n",
    "\n",
    "    y : array-like, shape (n_samples) or (n_samples, n_features), optional\n",
    "        Target relative to X for classification or regression;\n",
    "        None for unsupervised learning.\n",
    "\n",
    "    ylim : tuple, shape (ymin, ymax), optional\n",
    "        Defines minimum and maximum yvalues plotted.\n",
    "\n",
    "    cv : integer, cross-validation generator, optional\n",
    "        If an integer is passed, it is the number of folds (defaults to 3).\n",
    "        Specific cross-validation objects can be passed, see\n",
    "        sklearn.cross_validation module for the list of possible objects\n",
    "\n",
    "    n_jobs : integer, optional\n",
    "        Number of jobs to run in parallel (default 1).\n",
    "        \n",
    "    x1 = np.linspace(0, 10, 8, endpoint=True) produces\n",
    "        8 evenly spaced points in the range 0 to 10\n",
    "    \"\"\"\n",
    "    \n",
    "    train_sizes, train_scores, test_scores = learning_curve(lg, X_test, y_test, n_jobs=-1, cv=10, train_sizes=np.linspace(.1, 1.0, 5), verbose=0)\n",
    "\n",
    "    train_scores_mean = np.mean(train_scores, axis=1)\n",
    "    train_scores_std = np.std(train_scores, axis=1)\n",
    "    test_scores_mean = np.mean(test_scores, axis=1)\n",
    "    test_scores_std = np.std(test_scores, axis=1)\n",
    "    \n",
    "    plt.figure()\n",
    "    plt.title(\"Random Forest\")\n",
    "    plt.legend(loc=\"best\")\n",
    "    plt.xlabel(\"Training examples\")\n",
    "    plt.ylabel(\"Score\")\n",
    "    plt.gca().invert_yaxis()\n",
    "    \n",
    "    # box-like grid\n",
    "    plt.grid()\n",
    "    \n",
    "    # plot the std deviation as a transparent range at each training set size\n",
    "    plt.fill_between(train_sizes, train_scores_mean - train_scores_std, train_scores_mean + train_scores_std, alpha=0.1, color=\"r\")\n",
    "    plt.fill_between(train_sizes, test_scores_mean - test_scores_std, test_scores_mean + test_scores_std, alpha=0.1, color=\"g\")\n",
    "    \n",
    "    # plot the average training and test score lines at each training set size\n",
    "    plt.plot(train_sizes, train_scores_mean, 'o-', color=\"r\", label=\"Training score\")\n",
    "    plt.plot(train_sizes, test_scores_mean, 'o-', color=\"g\", label=\"Cross-validation score\")\n",
    "    \n",
    "    # sizes the window for readability and displays the plot\n",
    "    # shows error from 0 to 1.1\n",
    "    plt.ylim(-.1,1.1)\n",
    "    plt.show()\n",
    "plot_curve()"
   ]
  },
  {
   "cell_type": "code",
   "execution_count": 30,
   "metadata": {
    "executionInfo": {
     "elapsed": 5,
     "status": "ok",
     "timestamp": 1645117499638,
     "user": {
      "displayName": "Rafia Jabbar",
      "photoUrl": "https://lh3.googleusercontent.com/a-/AOh14Gg_1DjP6TxgmdZBWrVUfpmjnjwXkAIoeIdQlLOP=s64",
      "userId": "15947133849312122933"
     },
     "user_tz": -300
    },
    "id": "VnYQa4k07VyP"
   },
   "outputs": [],
   "source": []
  }
 ],
 "metadata": {
  "colab": {
   "collapsed_sections": [],
   "name": "approach_2_test_classification_70_100_tfidf.ipynb",
   "provenance": []
  },
  "kernelspec": {
   "display_name": "Python 3 (ipykernel)",
   "language": "python",
   "name": "python3"
  },
  "language_info": {
   "codemirror_mode": {
    "name": "ipython",
    "version": 3
   },
   "file_extension": ".py",
   "mimetype": "text/x-python",
   "name": "python",
   "nbconvert_exporter": "python",
   "pygments_lexer": "ipython3",
   "version": "3.10.4"
  }
 },
 "nbformat": 4,
 "nbformat_minor": 1
}
